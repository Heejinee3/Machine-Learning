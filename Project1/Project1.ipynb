{
  "nbformat": 4,
  "nbformat_minor": 0,
  "metadata": {
    "colab": {
      "name": "Project1.ipynb",
      "provenance": [],
      "collapsed_sections": []
    },
    "kernelspec": {
      "display_name": "Python 3",
      "language": "python",
      "name": "python3"
    },
    "language_info": {
      "codemirror_mode": {
        "name": "ipython",
        "version": 3
      },
      "file_extension": ".py",
      "mimetype": "text/x-python",
      "name": "python",
      "nbconvert_exporter": "python",
      "pygments_lexer": "ipython3",
      "version": "3.6.9"
    }
  },
  "cells": [
    {
      "cell_type": "markdown",
      "metadata": {
        "id": "wxXHnv3PSH7Y"
      },
      "source": [
        "# **EE488 Machine Learning basics and practice**\n",
        "## **Project 1**\n",
        "\n",
        "## Objective\n",
        "* part 1. Data Preparation\n",
        "* part 2. Logistic Regression\n",
        "* part 3. Hyperparameter Optimization\n",
        "* part 4. PCA"
      ]
    },
    {
      "cell_type": "markdown",
      "metadata": {
        "id": "gddbFLmzTIwY"
      },
      "source": [
        "## **Part1** Data Preparation\n",
        "* This part is for downloading the dataset to be used in this project. \n",
        "* All the related codes are basically provided below."
      ]
    },
    {
      "cell_type": "markdown",
      "metadata": {
        "id": "YisgO_4MYYev"
      },
      "source": [
        "### Step1. Download and decompress the MNIST dataset (4, 9 classes)"
      ]
    },
    {
      "cell_type": "code",
      "metadata": {
        "id": "EiZxXnxtDguu"
      },
      "source": [
        "#Setting\n",
        "import numpy as np\n",
        "import os \n",
        "import pickle\n",
        "import matplotlib.pyplot as plt\n",
        "\n",
        "from urllib import request\n",
        "from __future__ import division, print_function\n",
        "from tqdm import tqdm"
      ],
      "execution_count": 2,
      "outputs": []
    },
    {
      "cell_type": "code",
      "metadata": {
        "id": "6I6pzWTeXX9Y",
        "outputId": "0614a05f-fa0d-4c5e-e08a-d9650c748cce",
        "colab": {
          "base_uri": "https://localhost:8080/"
        }
      },
      "source": [
        "# {4, 9} class mnist dataset download and decompress\n",
        "!pip install gdown\n",
        "!gdown --id 1n70aILNV1U8I2VJlYekKuhBGbrNtCUNb\n",
        "!tar -xvf mnist_49.tar\n",
        "!rm -f mnist_49.tar\n",
        "\n",
        "# Dataset Load\n",
        "X_train = np.load('mnist_49/X_train.npy')\n",
        "X_test = np.load('mnist_49/X_test.npy')\n",
        "Y_train = np.load('mnist_49/Y_train.npy')\n",
        "Y_test = np.load('mnist_49/Y_test.npy')"
      ],
      "execution_count": 3,
      "outputs": [
        {
          "output_type": "stream",
          "text": [
            "Requirement already satisfied: gdown in /usr/local/lib/python3.6/dist-packages (3.6.4)\n",
            "Requirement already satisfied: requests in /usr/local/lib/python3.6/dist-packages (from gdown) (2.23.0)\n",
            "Requirement already satisfied: tqdm in /usr/local/lib/python3.6/dist-packages (from gdown) (4.41.1)\n",
            "Requirement already satisfied: six in /usr/local/lib/python3.6/dist-packages (from gdown) (1.15.0)\n",
            "Requirement already satisfied: idna<3,>=2.5 in /usr/local/lib/python3.6/dist-packages (from requests->gdown) (2.10)\n",
            "Requirement already satisfied: urllib3!=1.25.0,!=1.25.1,<1.26,>=1.21.1 in /usr/local/lib/python3.6/dist-packages (from requests->gdown) (1.24.3)\n",
            "Requirement already satisfied: chardet<4,>=3.0.2 in /usr/local/lib/python3.6/dist-packages (from requests->gdown) (3.0.4)\n",
            "Requirement already satisfied: certifi>=2017.4.17 in /usr/local/lib/python3.6/dist-packages (from requests->gdown) (2020.6.20)\n",
            "Downloading...\n",
            "From: https://drive.google.com/uc?id=1n70aILNV1U8I2VJlYekKuhBGbrNtCUNb\n",
            "To: /content/mnist_49.tar\n",
            "10.9MB [00:00, 66.7MB/s]\n",
            "mnist_49/\n",
            "mnist_49/X_train.npy\n",
            "mnist_49/X_test.npy\n",
            "mnist_49/Y_test.npy\n",
            "mnist_49/Y_train.npy\n",
            "mnist_49/MNIST Copyright.txt\n"
          ],
          "name": "stdout"
        }
      ]
    },
    {
      "cell_type": "code",
      "metadata": {
        "id": "uvjTVTMhHY8A",
        "outputId": "3be3cba9-7012-4b25-c3f9-a4d4ba6943c4",
        "colab": {
          "base_uri": "https://localhost:8080/"
        }
      },
      "source": [
        "# Reshape the training and test examples\n",
        "# Data from Part 1 - Step 1\n",
        "X_train_flatten = X_train.reshape(X_train.shape[0], -1)\n",
        "X_test_flatten = X_test.reshape(X_test.shape[0], -1)\n",
        "\n",
        "print('X_train_flatten shape: ' + str(X_train_flatten.shape))\n",
        "print('Y_train shape: ' + str(Y_train.shape))\n",
        "print('X_test_flatten shape: ' + str(X_test_flatten.shape))\n",
        "print('Y_test shape: ' + str(Y_test.shape))\n",
        "\n",
        "X_train_std = X_train_flatten / 255.\n",
        "X_test_std = X_test_flatten / 255."
      ],
      "execution_count": 11,
      "outputs": [
        {
          "output_type": "stream",
          "text": [
            "X_train_flatten shape: (11791, 784)\n",
            "Y_train shape: (11791,)\n",
            "X_test_flatten shape: (1991, 784)\n",
            "Y_test shape: (1991,)\n"
          ],
          "name": "stdout"
        }
      ]
    },
    {
      "cell_type": "markdown",
      "metadata": {
        "id": "0aPMCIAdYMLC"
      },
      "source": [
        "### Step2. Download and define a function for preparing the CIFAR10 dataset\n",
        "If you put the classes you want to use in the form of a list (ex, [0, 1], [3, 5, 8], etc.) as an argument to the *'cifar10_subset'* function, then, this function returns training data/label and test data/label of classes."
      ]
    },
    {
      "cell_type": "code",
      "metadata": {
        "id": "cPhUWoshDP7g"
      },
      "source": [
        "#Download CIFAR10 Dataset\n",
        "request.urlretrieve('https://www.cs.toronto.edu/~kriz/cifar-10-python.tar.gz', 'cifar-10-python.tar.gz')\n",
        "!tar -xzf cifar-10-python.tar.gz"
      ],
      "execution_count": 12,
      "outputs": []
    },
    {
      "cell_type": "code",
      "metadata": {
        "id": "rwDRUSFPFnPZ"
      },
      "source": [
        "for i in range(1,6):\n",
        "    filename='data_batch_%d'%i\n",
        "    with open('cifar-10-batches-py/'+filename, 'rb') as fo:\n",
        "        dict_data = pickle.load(fo, encoding='bytes')\n",
        "  \n",
        "    images_batch = dict_data[b'data']\n",
        "    labels_batch = dict_data[b'labels']\n",
        "    if i==1:\n",
        "        train_images = images_batch\n",
        "        train_labels = labels_batch\n",
        "    else:\n",
        "        train_images = np.concatenate((train_images, images_batch), axis=0)\n",
        "        train_labels.extend(labels_batch)\n",
        " \n",
        "with open('cifar-10-batches-py/test_batch', 'rb') as fo:\n",
        "    dict_data = pickle.load(fo, encoding='bytes')\n",
        "  \n",
        "test_images = dict_data[b'data']\n",
        "test_labels = dict_data[b'labels']"
      ],
      "execution_count": 13,
      "outputs": []
    },
    {
      "cell_type": "code",
      "metadata": {
        "id": "B08BhNp8GHCT"
      },
      "source": [
        "train_indexes = sorted(range(len(train_labels)), key=lambda k: train_labels[k])\n",
        "test_indexes = sorted(range(len(test_labels)), key=lambda k: test_labels[k])"
      ],
      "execution_count": 14,
      "outputs": []
    },
    {
      "cell_type": "code",
      "metadata": {
        "id": "aUU3YBhM_rVL"
      },
      "source": [
        "def cifar10_subset(class_ind=[0,1]):\n",
        "    assert (len(class_ind) >=2 and len(class_ind) <=10)\n",
        "    assert (min(class_ind) >=0 and max(class_ind) <=9)\n",
        "    train_images_cl = []\n",
        "    train_labels_cl = []\n",
        "    test_images_cl = []\n",
        "    test_labels_cl = []\n",
        "    for i in class_ind:\n",
        "        train_inds = train_indexes[i*5000:(i+1)*5000]\n",
        "        test_inds = test_indexes[i*1000:(i+1)*1000]\n",
        "        train_images_tmp = train_images[train_inds,:]\n",
        "        train_labels_tmp = np.array(train_labels)[train_inds]\n",
        "        test_images_tmp = test_images[test_inds,:]\n",
        "        test_labels_tmp = np.array(test_labels)[test_inds]\n",
        "\n",
        "        train_images_cl.append(train_images_tmp)\n",
        "        train_labels_cl.append(train_labels_tmp)\n",
        "        test_images_cl.append(test_images_tmp)\n",
        "        test_labels_cl.append(test_labels_tmp)\n",
        "  \n",
        "    return np.array(train_images_cl), np.array(train_labels_cl), np.array(test_images_cl), np.array(test_labels_cl)"
      ],
      "execution_count": 15,
      "outputs": []
    },
    {
      "cell_type": "markdown",
      "metadata": {
        "id": "EqkcC9fRX26Q"
      },
      "source": [
        "## **Part2** Logistic Regression\n",
        "* Understand and Implement Logistic Regression using numpy library.\n",
        "* Apply your own classifier implemented by numpy to MNIST and CIFAR10 dataset."
      ]
    },
    {
      "cell_type": "markdown",
      "metadata": {
        "id": "XoX9ezGPY-8i"
      },
      "source": [
        "### Step1. Implement Logistic Regression using Numpy\n",
        "\n",
        "## **TODO** : Fill in the blank with the code by referring to the following formulas below for all the **steps 1-1 ~ 1-6.** You should write your own **description of your source code** in the report."
      ]
    },
    {
      "cell_type": "markdown",
      "metadata": {
        "id": "D3jAl6UjXX9C"
      },
      "source": [
        "#### step 1-1. Implement Sigmoid Function\n",
        "\n",
        "**Sigmoid:** $f(z) = \\dfrac{1}{1+e^{-z}}$ where $z=w^T x$"
      ]
    },
    {
      "cell_type": "code",
      "metadata": {
        "id": "os-9dY15XX9C"
      },
      "source": [
        "def sigmoid(z):\n",
        "    ######################## Blank ########################\n",
        "    exp = np.exp(-z)\n",
        "    sig = 1. / (1. + exp)\n",
        "    #######################################################\n",
        "    return sig"
      ],
      "execution_count": 16,
      "outputs": []
    },
    {
      "cell_type": "code",
      "metadata": {
        "id": "FIDo0Dq3XX9F",
        "outputId": "e99ab318-4bdb-4048-afb2-e4f305f65ea3",
        "colab": {
          "base_uri": "https://localhost:8080/"
        }
      },
      "source": [
        "# Print out the result of sigmoid function \n",
        "\n",
        "print (\"sigmoid(0) = \" + str(sigmoid(0)))\n",
        "print (\"sigmoid(4.5) = \" + str(sigmoid(4.5)))\n",
        "print (\"sigmoid(-6) = \" + str(sigmoid(-6)))"
      ],
      "execution_count": 17,
      "outputs": [
        {
          "output_type": "stream",
          "text": [
            "sigmoid(0) = 0.5\n",
            "sigmoid(4.5) = 0.9890130573694068\n",
            "sigmoid(-6) = 0.0024726231566347743\n"
          ],
          "name": "stdout"
        }
      ]
    },
    {
      "cell_type": "markdown",
      "metadata": {
        "id": "N3C8B4X4XX9I"
      },
      "source": [
        "#### step 1-2. Implement forward propagation\n",
        "\n",
        "__x__: Input data of size (sample_size, feature_size)\n",
        "\n",
        "__y__: target (labels)\n",
        "\n",
        "__w__: model weights\n",
        "\n",
        "__predict__: prediction for each data point $x_i$; $h(w^Tx_i)=\\dfrac{1}{1+e^{-w^T x_i}}$ \n",
        "\n",
        "__loss__: $J(w)=\\frac{1}{n}\\sum_{i=1}^n[-y_i\\text{log}\\{h(w^Tx_i)\\} - (1-y_i)\\text{log}\\{1-h(w^Tx_i)\\}]$\n",
        "\n",
        "where $n$ is number of samples and $y$ is target.\n",
        "\n",
        "**NOTE**: If you use ```np.log``` method, it is recommended to use as follows,\n",
        "\n",
        "```python\n",
        "np.log(x) -> np.log(x + eps)\n",
        "```\n",
        "where ```eps``` is small positive number used to avoid taking of almost zero value."
      ]
    },
    {
      "cell_type": "code",
      "metadata": {
        "id": "MirCkvw6XX9I"
      },
      "source": [
        "def forward(x, y, w, eps=1e-8):\n",
        "    ######################## Blank ########################\n",
        "    predict = sigmoid(np.matmul(w,x.T))\n",
        "    n = y.size\n",
        "    loss = np.sum(- y * np.log(predict + eps) - (1 - y) * np.log(1 - predict + eps)) / n\n",
        "    #######################################################\n",
        "    return predict, loss"
      ],
      "execution_count": 18,
      "outputs": []
    },
    {
      "cell_type": "markdown",
      "metadata": {
        "id": "CVlvpPA-XX9L"
      },
      "source": [
        "#### step 1-3. Implement backward propagation\n",
        "\n",
        "__Hint:__ Refer to the following derivation.\n",
        "\n",
        "$$\n",
        "\\begin{aligned}\n",
        "\\frac{\\partial J(\\boldsymbol{w})}{\\partial \\boldsymbol{w}} &=-\\frac{1}{n} \\sum_{i=1}^{n}\\left[y_{i}\\left(1-h\\left(\\boldsymbol{w}^{T} \\boldsymbol{x}_{i}\\right)\\right)-\\left(1-y_{i}\\right) h\\left(\\boldsymbol{w}^{T} \\boldsymbol{x}_{i}\\right)\\right] \\boldsymbol{x}_{i} \\\\\n",
        "&=\\frac{1}{n} \\sum_{i=1}^{n}\\left[h\\left(\\boldsymbol{w}^{T} \\boldsymbol{x}_{i}\\right)-y_{i}\\right] \\boldsymbol{x}_{i}\\\\\n",
        "&= \\frac{1}{n} (\\hat{Y}-Y)X\n",
        "\\end{aligned}\n",
        "$$\n",
        "\n",
        "__grad_w__: Gradient of weights"
      ]
    },
    {
      "cell_type": "code",
      "metadata": {
        "id": "AmfXvjuhXX9L"
      },
      "source": [
        "def backward(x, y, predict):\n",
        "    ######################## Blank ########################\n",
        "    grad_w = np.matmul(predict - y, x) / y.size\n",
        "    #######################################################\n",
        "    return grad_w"
      ],
      "execution_count": 19,
      "outputs": []
    },
    {
      "cell_type": "markdown",
      "metadata": {
        "id": "AFXONtmPXX9O"
      },
      "source": [
        "#### step 1-4. Add bias unit\n",
        "\n",
        "To implement the bias unit, insert ones column vertor into dataset $x$; Define $\\bar{x}$ and $\\bar{w}$ as follows:\n",
        "\n",
        "$$\n",
        "\\bar{x}:=\\left[\\begin{array}{cc}\n",
        "x_{1}^{T} & 1 \\\\\n",
        "x_{2}^{T} & 1 \\\\\n",
        "\\vdots & \\\\\n",
        "x_{n}^{T} & 1\n",
        "\\end{array}\\right] \\in \\mathbf{R}^{n \\times(d+1)}, \\bar{w}:=\\left[\\begin{array}{c}\n",
        "w \\\\\n",
        "b\n",
        "\\end{array}\\right] \\in \\mathbf{R}^{d+1}\n",
        "$$\n",
        "\n",
        "Argument __b__ of ```bias_unit``` function below refers to the bias term.\n",
        "\n",
        "__x_bar__: $\\bar{x}$\n",
        "\n",
        "__w_bar__: $\\bar{w}$"
      ]
    },
    {
      "cell_type": "code",
      "metadata": {
        "id": "xby4JRyIXX9O"
      },
      "source": [
        "def bias_unit(x, w, b):\n",
        "    ######################## Blank ########################\n",
        "    w_bar = np.append(w, b)\n",
        "    ones_vec = np.ones(x.shape[0]).reshape(1,-1)\n",
        "    x_bar = np.append(x, ones_vec.T,axis = 1)\n",
        "    #######################################################\n",
        "    return x_bar, w_bar"
      ],
      "execution_count": 20,
      "outputs": []
    },
    {
      "cell_type": "markdown",
      "metadata": {
        "id": "PH1Ms_iwXX9R"
      },
      "source": [
        "#### step 1-5. Model initialization\n",
        "\n",
        "Initialize the model(__w__ and __b__) with arbitrary(e.g. Guassian distribution) values.\n",
        "\n",
        "* Initialize __w__ with gaussian distribution (use np.random.normal)\n",
        "* Initialize __b__ with zero"
      ]
    },
    {
      "cell_type": "code",
      "metadata": {
        "id": "H3mSiaMFXX9S"
      },
      "source": [
        "def initialize_params(X_train, verbose=False):\n",
        "    \n",
        "    ######################## Blank ########################\n",
        "    w = np.random.normal(size = X_train.shape[1])\n",
        "    b = 0\n",
        "    #######################################################\n",
        "    \n",
        "    X_train_bar, w_bar = bias_unit(X_train, w, b) # add bias unit \n",
        "    if verbose:\n",
        "        print('Before adding the bias unit')\n",
        "        print('shape of X_train:, ', X_train.shape)\n",
        "        print('w: ', w.__repr__())\n",
        "        print('b: ', b.__repr__(), end='\\n\\n')\n",
        "        print('After adding the bias unit')\n",
        "        print('shape of X_train_bar:, ', X_train_bar.shape)\n",
        "        print('w_bar: ', w_bar.__repr__())\n",
        "    \n",
        "    return X_train_bar, w_bar"
      ],
      "execution_count": 22,
      "outputs": []
    },
    {
      "cell_type": "markdown",
      "metadata": {
        "id": "Vc52Uw7FXX9U"
      },
      "source": [
        "#### step 1-6. Implement ```accuracy``` function  for computing the accuracy\n",
        "\n",
        "Implement a function that return accuracy when ```predict``` $h(w^Tx_i)=\\frac{1}\n",
        "{1+e^{-w^T x_i}}$ and ```y``` are given.\n",
        "\n",
        "__acc__: $\\dfrac{1}{n}\\sum_{i=1}^{n}\\mathbf{1}_{[\\hat{y}_i=y_i]} \\times 100 (\\%)$ where $\\hat{y}_i = \\mathbf{1}_{[h(w^Tx_i)\\geq0.5]}$. And $\\mathbf{1}_{A}$ is defined as:\n",
        "\n",
        "$$\\mathbf{1}_{A}:=\\left\\{\\begin{array}{ll}\n",
        "1 & \\text { if } A \\text{ is true}\\\\\n",
        "0 & \\text { if } A \\text{ is false}\n",
        "\\end{array}\\right.$$"
      ]
    },
    {
      "cell_type": "code",
      "metadata": {
        "id": "Xb1QsEdXXX9V"
      },
      "source": [
        "def accuracy(predict, y):\n",
        "    ######################## Blank ########################\n",
        "    acc = 0\n",
        "    n = y.size\n",
        "    y_bar = []\n",
        "    for i in range(n):\n",
        "        if predict[i] >= 0.5:\n",
        "            y_bar = np.append(y_bar, 1)\n",
        "        else:\n",
        "            y_bar = np.append(y_bar, 0)\n",
        "    for j in range(n):\n",
        "        if y_bar[j] == y[j]:\n",
        "            acc = acc + 1\n",
        "    acc = acc / n * 100\n",
        "    #######################################################\n",
        "    return acc"
      ],
      "execution_count": 23,
      "outputs": []
    },
    {
      "cell_type": "markdown",
      "metadata": {
        "id": "D1JYMhYjXX9X"
      },
      "source": [
        "### Step 2 Apply to the MNIST Dataset  "
      ]
    },
    {
      "cell_type": "markdown",
      "metadata": {
        "id": "E1pJwUh3Z-RH"
      },
      "source": [
        "#### step 2-1 Implement training code combining all the methods above\n",
        "\n",
        "## **TODO**: Fill in the blank using all the functions above and **attach the result** in your report."
      ]
    },
    {
      "cell_type": "code",
      "metadata": {
        "id": "yU7hq--tXX9b",
        "outputId": "04a502c8-c14c-4635-d191-7b64cfbfa0b1",
        "colab": {
          "base_uri": "https://localhost:8080/"
        }
      },
      "source": [
        "# hyperparameter\n",
        "num_of_iteration = 5000\n",
        "learning_rate = 0.5\n",
        "\n",
        "# fix random seed for reproducibility\n",
        "np.random.seed(100)\n",
        "\n",
        "# Model initialization and add bias unit\n",
        "X_train_bar, w_bar = initialize_params(X_train_std, False)\n",
        "\n",
        "if w_bar.ndim != Y_train.ndim:  # if w is implemented as a column vector\n",
        "    w_bar = w_bar.squeeze()\n",
        "    \n",
        "it = tqdm(range(num_of_iteration))\n",
        "for i in it:\n",
        "    \n",
        "    ######################## Blank ########################\n",
        "    predict, loss = forward(X_train_bar, Y_train, w_bar)         # compute prediction, loss using forward function\n",
        "    train_acc = accuracy(predict, Y_train)                       # compute train accuracy \n",
        "    grad_w = backward(X_train_bar, Y_train, predict)             # compute gradient using backward function\n",
        "    w_bar = w_bar - learning_rate * grad_w                       # weight update using gradient descent   \n",
        "    #######################################################\n",
        "    \n",
        "#    if i % 100 == 0:\n",
        "#        it.set_postfix(accuracy='{:.2f}'.format(train_acc),\n",
        "#                      loss='{:.4f}'.format(loss))\n",
        "    \n",
        "# compute the train & test accuracy\n",
        "predict, _ = forward(X_train_bar, Y_train, w_bar)\n",
        "train_acc = accuracy(predict, Y_train)\n",
        "print('train accuracy: {:.2f}'.format(train_acc))\n",
        "\n",
        "unit_ones = np.ones((len(X_test_std), 1))\n",
        "X_test_bar = np.concatenate((X_test_std, unit_ones), axis=1)  # add bias unit for test dataset\n",
        "\n",
        "predict, _ = forward(X_test_bar, Y_test, w_bar)\n",
        "test_acc = accuracy(predict, Y_test)\n",
        "print('test accuracy: {:.2f}'.format(test_acc))"
      ],
      "execution_count": 24,
      "outputs": [
        {
          "output_type": "stream",
          "text": [
            "100%|██████████| 5000/5000 [12:57<00:00,  6.43it/s]\n"
          ],
          "name": "stderr"
        },
        {
          "output_type": "stream",
          "text": [
            "train accuracy: 97.32\n",
            "test accuracy: 96.38\n"
          ],
          "name": "stdout"
        }
      ]
    },
    {
      "cell_type": "code",
      "metadata": {
        "id": "SvY2Ji_daQXg",
        "outputId": "53f1c7ba-cc2a-4dda-d0c9-3b24aaf36d53",
        "colab": {
          "base_uri": "https://localhost:8080/",
          "height": 443
        }
      },
      "source": [
        "# Prediction Results\n",
        "np.random.seed(2020)\n",
        "idxs = np.random.choice(len(Y_test), 10, replace=False)\n",
        "label_to_class = {0: '4', 1: '9'}\n",
        "\n",
        "plt.figure(figsize=(16, 8))\n",
        "for i, idx in enumerate(idxs):\n",
        "    plt.subplot(2, 5, i + 1)\n",
        "    predict, _ = forward(X_test_bar, Y_test, w_bar)\n",
        "    pred_label = (predict[idx] >= 0.5).astype(np.int)\n",
        "    plt.imshow(X_test[idx], cmap='gray_r')\n",
        "    plt.title('Digit Prediction: {} '.format(label_to_class[pred_label]), fontsize=14)\n",
        "    plt.xticks([]); plt.yticks([])"
      ],
      "execution_count": 25,
      "outputs": [
        {
          "output_type": "display_data",
          "data": {
            "image/png": "[encoded data removed]",
            "text/plain": [
              "<Figure size 1152x576 with 10 Axes>"
            ]
          },
          "metadata": {
            "tags": []
          }
        }
      ]
    },
    {
      "cell_type": "markdown",
      "metadata": {
        "id": "LLHgL71_XX9o"
      },
      "source": [
        "### Step 3 Apply to the CIFAR10 dataset\n",
        "\n",
        "#### step 3-1 Implement training code combining all the methods above\n",
        "\n",
        "## **TODO**: Fill in the blank and **attach the result** in your report."
      ]
    },
    {
      "cell_type": "code",
      "metadata": {
        "id": "dc2TmggYzCT9"
      },
      "source": [
        "X_train_flatten, Y_train, X_test_flatten, Y_test = cifar10_subset([0, 1])\n",
        "\n",
        "X_train_flatten = X_train_flatten.reshape(2 * 5000, -1)\n",
        "X_test_flatten = X_test_flatten.reshape(2 * 1000, -1)\n",
        "Y_train = Y_train.reshape(-1)\n",
        "Y_test = Y_test.reshape(-1)\n",
        "\n",
        "X_train_std = X_train_flatten / 255.\n",
        "X_test_std = X_test_flatten / 255."
      ],
      "execution_count": 26,
      "outputs": []
    },
    {
      "cell_type": "code",
      "metadata": {
        "id": "AtFGeNy2zwJJ",
        "outputId": "7c5e6015-57c3-4414-9cf9-8378cee843bb",
        "colab": {
          "base_uri": "https://localhost:8080/",
          "height": 216
        }
      },
      "source": [
        "#show image\n",
        "import matplotlib.pyplot as plt\n",
        "\n",
        "image1 = X_train_flatten[1].reshape(3,32,32).transpose([1,2,0])\n",
        "image2 = X_train_flatten[5000].reshape(3,32,32).transpose([1,2,0])\n",
        "plt.figure(figsize=(6,3))\n",
        "plt.subplot(121)\n",
        "plt.imshow(image1,  interpolation=\"bicubic\")\n",
        "plt.title('class {}'.format(Y_train[0].astype(np.int)))\n",
        "plt.subplot(122)\n",
        "plt.imshow(image2,  interpolation=\"bicubic\")\n",
        "plt.title('class {}'.format(Y_train[5000].astype(np.int)))\n",
        "plt.show()"
      ],
      "execution_count": 27,
      "outputs": [
        {
          "output_type": "display_data",
          "data": {
            "image/png": "[encoded data removed]",
            "text/plain": [
              "<Figure size 432x216 with 2 Axes>"
            ]
          },
          "metadata": {
            "tags": [],
            "needs_background": "light"
          }
        }
      ]
    },
    {
      "cell_type": "code",
      "metadata": {
        "id": "lCtTbl5TXX9t",
        "outputId": "bbb099b5-8c8a-44d1-8e7c-e28a05c5e132",
        "colab": {
          "base_uri": "https://localhost:8080/"
        }
      },
      "source": [
        "# hyperparameter\n",
        "num_of_iteration = 5000\n",
        "learning_rate = 0.1\n",
        "\n",
        "# fix random seed for reproducibility\n",
        "np.random.seed(100)\n",
        "\n",
        "# Model initialization and add bias unit\n",
        "X_train_bar, w_bar = initialize_params(X_train_std, False)\n",
        "\n",
        "if w_bar.ndim != Y_train.ndim:  # if w is implemented as a column vector\n",
        "    w_bar = w_bar.squeeze()\n",
        "    \n",
        "it = tqdm(range(num_of_iteration))\n",
        "for i in it:\n",
        "    \n",
        "    ######################## Blank ########################\n",
        "    predict, loss = forward(X_train_bar, Y_train, w_bar)         # compute prediction, loss using forward function\n",
        "    train_acc = accuracy(predict, Y_train)                       # compute train accuracy \n",
        "    grad_w = backward(X_train_bar, Y_train, predict)             # compute gradient using backward function\n",
        "    w_bar = w_bar - learning_rate * grad_w                       # weight update using gradient descent\n",
        "    #######################################################\n",
        "    \n",
        "#    if i % 100 == 0:\n",
        "#        it.set_postfix(accuracy='{:.2f}'.format(train_acc),\n",
        "#                      loss='{:.4f}'.format(loss))\n",
        "    \n",
        "# compute the train & test accuracy\n",
        "predict, _ = forward(X_train_bar, Y_train, w_bar)\n",
        "train_acc = accuracy(predict, Y_train)\n",
        "print('train accuracy: {:.2f}'.format(train_acc))\n",
        "\n",
        "unit_ones = np.ones((len(X_test_std), 1))\n",
        "X_test_bar = np.concatenate((X_test_std, unit_ones), axis=1)  # add bias unit for test dataset\n",
        "\n",
        "predict, _ = forward(X_test_bar, Y_test, w_bar)\n",
        "test_acc = accuracy(predict, Y_test)\n",
        "print('test accuracy: {:.2f}'.format(test_acc))"
      ],
      "execution_count": 28,
      "outputs": [
        {
          "output_type": "stream",
          "text": [
            "100%|██████████| 5000/5000 [13:54<00:00,  5.99it/s]\n"
          ],
          "name": "stderr"
        },
        {
          "output_type": "stream",
          "text": [
            "train accuracy: 74.19\n",
            "test accuracy: 73.80\n"
          ],
          "name": "stdout"
        }
      ]
    },
    {
      "cell_type": "markdown",
      "metadata": {
        "id": "MofuBcEgaSUm"
      },
      "source": [
        "### Step 4 Implement Logistic Regression with L2 Regularization\n",
        "\n",
        "## **TODO** : Fill in the blank with the code by referring to the following formulas below for all the **steps 4-1 ~ 4-2.** You should write your own **description of your source code** in the report."
      ]
    },
    {
      "cell_type": "markdown",
      "metadata": {
        "id": "OwJIcJh9aZuS"
      },
      "source": [
        "#### step 4-1. Implement forward propagation with regularization term\n",
        "\n",
        "__x__: Input data of size (sample_size, feature_size); $(x_1, y_1)$, $(x_2, y_2)$, ... $(x_n, y_n)$.\n",
        "\n",
        "__y__: target (labels)\n",
        "\n",
        "__w__: model weights\n",
        "\n",
        "**lambda_**: regularization parameter\n",
        "\n",
        "__predict__: Prediction for each data point $x_i$ : $h(w^Tx_i)=\\dfrac{1}{1+e^{-w^T x_i}}$ \n",
        "\n",
        "__loss__: $J(w)=\\frac{1}{n}\\sum_{i=1}^n[-y_i\\text{log}\\{h(w^Tx_i)\\} - (1-y_i)\\text{log}\\{1-h(w^Tx_i)\\}] + \\frac{\\lambda}{2n}\\Vert w\\Vert^2_2$\n",
        "\n",
        "where $n$ is number of samples and $y$ is target.\n",
        "\n",
        "**Hint**: use ```numpy.linalg.norm``` method"
      ]
    },
    {
      "cell_type": "code",
      "metadata": {
        "id": "zfqqrWetXX9g"
      },
      "source": [
        "from numpy.linalg import norm\n",
        "\n",
        "def forward_with_regularization(x, y, w, lambda_, eps=1e-8):\n",
        "    ######################## Blank ########################\n",
        "    predict = sigmoid(np.matmul(w,x.T))\n",
        "    n = y.size\n",
        "    loss = np.sum(- y * np.log(predict + eps) - (1 - y) * np.log(1 - predict + eps)) / n + lambda_  * np.sum(w ** 2) / (2 * n)\n",
        "    #######################################################\n",
        "    return predict, loss"
      ],
      "execution_count": 39,
      "outputs": []
    },
    {
      "cell_type": "markdown",
      "metadata": {
        "id": "bP9KSKmlXX9j"
      },
      "source": [
        "#### step 4-2. Implement backward propagation\n",
        "\n",
        "__Hint:__ Refer to the following derivation.\n",
        "\n",
        "$$\n",
        "\\begin{aligned}\n",
        "\\frac{\\partial J(\\boldsymbol{w})}{\\partial \\boldsymbol{w}} &=-\\frac{1}{n} \\sum_{i=1}^{n}\\left[y_{i}\\left(1-h\\left(\\boldsymbol{w}^{T} \\boldsymbol{x}_{i}\\right)\\right)-\\left(1-y_{i}\\right) h\\left(\\boldsymbol{w}^{T} \\boldsymbol{x}_{i}\\right)\\right] \\boldsymbol{x}_{i} + \\frac{\\lambda}{n}w \\\\\n",
        "&=\\frac{1}{n} \\sum_{i=1}^{n}\\left[h\\left(\\boldsymbol{w}^{T} \\boldsymbol{x}_{i}\\right)-y_{i}\\right] \\boldsymbol{x}_{i} + \\frac{\\lambda}{n}w\\\\\n",
        "&= \\frac{1}{n} (\\hat{Y}-Y)X + \\frac{\\lambda}{n}w\n",
        "\\end{aligned}\n",
        "$$"
      ]
    },
    {
      "cell_type": "code",
      "metadata": {
        "id": "3IvUmlq4XX9j"
      },
      "source": [
        "def backward_with_regularization(x, y, w, predict, lambda_):\n",
        "    ######################## Blank ########################\n",
        "    grad_w = np.matmul(predict - y, x) / y.size + lambda_ * w / y.size\n",
        "    #######################################################\n",
        "    return grad_w"
      ],
      "execution_count": 40,
      "outputs": []
    },
    {
      "cell_type": "markdown",
      "metadata": {
        "id": "VEP-15_2XX9l"
      },
      "source": [
        "#### step 4-3. Training Regularized logistic regression with different $\\lambda$ (Apply to the MNIST dataset)\n",
        "\n",
        "\n",
        "\n",
        "Load the MNIST dataset again"
      ]
    },
    {
      "cell_type": "code",
      "metadata": {
        "id": "_ObYTaNy04CR"
      },
      "source": [
        "# Dataset Load\n",
        "X_train = np.load('mnist_49/X_train.npy')\n",
        "X_test = np.load('mnist_49/X_test.npy')\n",
        "Y_train = np.load('mnist_49/Y_train.npy')\n",
        "Y_test = np.load('mnist_49/Y_test.npy')\n",
        "\n",
        "# Reshape the training and test examples\n",
        "# Data from Part 1 - Step 1\n",
        "X_train_flatten = X_train.reshape(X_train.shape[0], -1)\n",
        "X_test_flatten = X_test.reshape(X_test.shape[0], -1)\n",
        "\n",
        "X_train_std = X_train_flatten / 255.\n",
        "X_test_std = X_test_flatten / 255."
      ],
      "execution_count": 41,
      "outputs": []
    },
    {
      "cell_type": "markdown",
      "metadata": {
        "id": "8oKSNDGc1K9V"
      },
      "source": [
        "## **TODO**: Fill in the blank and **attach the results and the figure** in your report."
      ]
    },
    {
      "cell_type": "code",
      "metadata": {
        "id": "k8vJ7cNVXX9m",
        "outputId": "b79a790c-5f19-4071-ce88-7e48ca00336a",
        "colab": {
          "base_uri": "https://localhost:8080/",
          "height": 641
        }
      },
      "source": [
        "# hyperparameter\n",
        "num_of_iteration = 5000\n",
        "learning_rate = 0.5\n",
        "lin_lambdas = np.linspace(-2, 3, 10)  \n",
        "lambdas = np.power(np.e, lin_lambdas)  # Regularization parameter (lambda) = e^-2 ~ e^3\n",
        "\n",
        "# fix random seed for reproducibility\n",
        "np.random.seed(100)\n",
        "\n",
        "# add bias unit for test dataset\n",
        "unit_ones = np.ones((len(X_test_std), 1))\n",
        "X_test_bar = np.concatenate((X_test_std, unit_ones), axis=1)  \n",
        "\n",
        "train_accuracies = []\n",
        "test_accuracies = []\n",
        "    \n",
        "for lambda_ in lambdas:\n",
        "\n",
        "    # Model initialization and add bias unit\n",
        "    X_train_bar, w_bar = initialize_params(X_train_std, False)\n",
        "\n",
        "    if w_bar.ndim != Y_train.ndim:  # if w is implemented as a column vector\n",
        "        w_bar = w_bar.squeeze()\n",
        "    \n",
        "    #it = tqdm(range(num_of_iteration))\n",
        "    it = range(num_of_iteration)\n",
        "    for i in it:\n",
        "        \n",
        "        ######################## Blank ########################\n",
        "        predict, loss = forward_with_regularization(X_train_bar, Y_train, w_bar,lambda_)          # compute prediction, loss using forward function\n",
        "        train_acc = accuracy(predict, Y_train)                                                    # compute train accuracy \n",
        "        grad_w = backward_with_regularization(X_train_bar, Y_train, w_bar, predict,lambda_)       # compute gradient using backward function\n",
        "        w_bar = w_bar - learning_rate * grad_w                                                    # weight update using gradient descent\n",
        "        #######################################################\n",
        "\n",
        "   #     if i % 100 == 0:\n",
        "   #        it.set_postfix(accuracy='{:.2f}'.format(train_acc),\n",
        "   #                       loss='{:.4f}'.format(loss))\n",
        "    \n",
        "    # compute the train & test accuracy\n",
        "    predict, _ = forward(X_train_bar, Y_train, w_bar)\n",
        "    train_acc = accuracy(predict, Y_train)\n",
        "    print('train accuracy: {:.2f}'.format(train_acc))\n",
        "    train_accuracies.append(train_acc)\n",
        "\n",
        "    predict, _ = forward(X_test_bar, Y_test, w_bar)\n",
        "    test_acc = accuracy(predict, Y_test)\n",
        "    print('test accuracy: {:.2f}'.format(test_acc))\n",
        "    test_accuracies.append(test_acc)\n",
        "    \n",
        "plt.plot(lin_lambdas, train_accuracies, label='train acc')\n",
        "plt.plot(lin_lambdas, test_accuracies, label='test acc')\n",
        "plt.xlabel('$\\ln\\lambda$')\n",
        "plt.legend()\n",
        "plt.show()"
      ],
      "execution_count": 42,
      "outputs": [
        {
          "output_type": "stream",
          "text": [
            "train accuracy: 97.32\n",
            "test accuracy: 96.38\n",
            "train accuracy: 97.38\n",
            "test accuracy: 96.94\n",
            "train accuracy: 97.46\n",
            "test accuracy: 96.94\n",
            "train accuracy: 97.35\n",
            "test accuracy: 96.99\n",
            "train accuracy: 97.39\n",
            "test accuracy: 96.99\n",
            "train accuracy: 97.29\n",
            "test accuracy: 97.19\n",
            "train accuracy: 97.40\n",
            "test accuracy: 97.24\n",
            "train accuracy: 97.30\n",
            "test accuracy: 97.14\n",
            "train accuracy: 97.24\n",
            "test accuracy: 97.09\n",
            "train accuracy: 97.08\n",
            "test accuracy: 96.99\n"
          ],
          "name": "stdout"
        },
        {
          "output_type": "display_data",
          "data": {
            "image/png": "[encoded data removed]",
            "text/plain": [
              "<Figure size 432x288 with 1 Axes>"
            ]
          },
          "metadata": {
            "tags": [],
            "needs_background": "light"
          }
        }
      ]
    },
    {
      "cell_type": "markdown",
      "metadata": {
        "id": "olQSIp3P5TnH"
      },
      "source": [
        "## **Part3.** Hyperparameter Optimization\n",
        "\n",
        "* Understand and Implement various classifiers learned in class.\n",
        "* Find a best combination of hyperparameters for each classifier."
      ]
    },
    {
      "cell_type": "markdown",
      "metadata": {
        "id": "Bq_24wnv5TnI"
      },
      "source": [
        "### Step1. sample training data"
      ]
    },
    {
      "cell_type": "code",
      "metadata": {
        "id": "LXa8TDVH5TnI"
      },
      "source": [
        "train_images_cl, train_labels_cl, test_images_cl, test_labels_cl = cifar10_subset([0,2,7])\n",
        "# train_images_cl.shape : (3,5000,3072)\n",
        "# train_labels_cl.shape : (3,5000)\n",
        "# test_images_cl.shape : (3,1000,3072)\n",
        "# train_labels_cl.shape : (3,1000)"
      ],
      "execution_count": 56,
      "outputs": []
    },
    {
      "cell_type": "markdown",
      "metadata": {
        "id": "ktooTWZu0c2F"
      },
      "source": [
        "* Set the train, test sample size to be 1500, 500 respectively."
      ]
    },
    {
      "cell_type": "code",
      "metadata": {
        "id": "rzybeVOx5TnL"
      },
      "source": [
        "classes = np.unique(train_labels_cl)\n",
        "\n",
        "Len1, Len2 = 1500, 500 # sample size of Train data and Test data, respectively.\n",
        "for i, cls in enumerate(classes):\n",
        "    if i == 0:\n",
        "        X_train, Y_train = train_images_cl[i, :Len1], train_labels_cl[i,:Len1]\n",
        "        X_test, Y_test = test_images_cl[i, :Len2], test_labels_cl[i, :Len2]\n",
        "    else:\n",
        "        X_train, Y_train = np.append(X_train, train_images_cl[i, :Len1],0), np.append(Y_train, train_labels_cl[i, :Len1],0)\n",
        "        X_test, Y_test = np.append(X_test, test_images_cl[i, :Len2],0), np.append(Y_test, test_labels_cl[i, :Len2],0)"
      ],
      "execution_count": 57,
      "outputs": []
    },
    {
      "cell_type": "markdown",
      "metadata": {
        "id": "KJHDyW-a5TnO"
      },
      "source": [
        "### Step2. Optimize hyperparameters for Logistic Regression Classifier\n",
        "\n",
        "## **TODO**: Find best performing combination of **learning rate** and **regularization parameter**. Attach the **best combination** and corresponding **result** in your report.\n",
        "\n",
        "* You should use function of scikit-learn **(sklearn.linear_model.SGDClassifier)**.\n",
        "* You should set option **loss** to **log** to perform logistic regression.\n",
        "* You should set option **alpha** to control regularization parameter.\n",
        "* You should set option **eta0** to control learning rate.\n",
        "* See https://scikit-learn.org/stable/modules/generated/sklearn.linear_model.SGDClassifier.html#sklearn-linear-model-sgdclassifier for more information\n",
        "\n",
        "**Grids to be searched are provided as follows**:\n",
        "\n",
        "```Learning rate: [1e-1, 1e-2, 1e-3]```\n",
        "\n",
        "```Regularization parameter: [1e-3, 1e-4, 1e-5]```"
      ]
    },
    {
      "cell_type": "code",
      "metadata": {
        "id": "HO1XB1pq5TnO",
        "outputId": "d85bf95c-95a9-46a3-8950-96d271c69d6f",
        "colab": {
          "base_uri": "https://localhost:8080/"
        }
      },
      "source": [
        "from sklearn.linear_model import SGDClassifier\n",
        "np.random.seed(0)\n",
        "\n",
        "######################## Blank ########################\n",
        "def SGDaccuracy(predict, y):\n",
        "    acc = 0\n",
        "    n = y.size\n",
        "    for i in range(n):\n",
        "        if predict[i] == y[i]:\n",
        "            acc = acc + 1\n",
        "    acc = acc / n * 100\n",
        "    return acc\n",
        "\n",
        "cl1 = SGDClassifier(loss = 'log',alpha = 1e-3,eta0 = 1e-1)\n",
        "cl2 = SGDClassifier(loss = 'log',alpha = 1e-3,eta0 = 1e-1)\n",
        "cl3 = SGDClassifier(loss = 'log',alpha = 1e-3,eta0 = 1e-1)\n",
        "cl4 = SGDClassifier(loss = 'log',alpha = 1e-4,eta0 = 1e-2)\n",
        "cl5 = SGDClassifier(loss = 'log',alpha = 1e-4,eta0 = 1e-2)\n",
        "cl6 = SGDClassifier(loss = 'log',alpha = 1e-4,eta0 = 1e-2)\n",
        "cl7 = SGDClassifier(loss = 'log',alpha = 1e-5,eta0 = 1e-3)\n",
        "cl8 = SGDClassifier(loss = 'log',alpha = 1e-5,eta0 = 1e-3)\n",
        "cl9 = SGDClassifier(loss = 'log',alpha = 1e-5,eta0 = 1e-3)\n",
        "\n",
        "cl1.fit(X_train,Y_train)\n",
        "cl2.fit(X_train,Y_train)\n",
        "cl3.fit(X_train,Y_train)\n",
        "cl4.fit(X_train,Y_train)\n",
        "cl5.fit(X_train,Y_train)\n",
        "cl6.fit(X_train,Y_train)\n",
        "cl7.fit(X_train,Y_train)\n",
        "cl8.fit(X_train,Y_train)\n",
        "cl9.fit(X_train,Y_train)\n",
        "\n",
        "Y_pred1 = cl1.predict(X_test)\n",
        "Y_pred2 = cl2.predict(X_test)\n",
        "Y_pred3 = cl3.predict(X_test)\n",
        "Y_pred4 = cl4.predict(X_test)\n",
        "Y_pred5 = cl5.predict(X_test)\n",
        "Y_pred6 = cl6.predict(X_test)\n",
        "Y_pred7 = cl7.predict(X_test)\n",
        "Y_pred8 = cl8.predict(X_test)\n",
        "Y_pred9 = cl9.predict(X_test)\n",
        "\n",
        "acc1 = SGDaccuracy(Y_pred1, Y_test)\n",
        "acc2 = SGDaccuracy(Y_pred2, Y_test)\n",
        "acc3 = SGDaccuracy(Y_pred3, Y_test)\n",
        "acc4 = SGDaccuracy(Y_pred4, Y_test)\n",
        "acc5 = SGDaccuracy(Y_pred5, Y_test)\n",
        "acc6 = SGDaccuracy(Y_pred6, Y_test)\n",
        "acc7 = SGDaccuracy(Y_pred7, Y_test)\n",
        "acc8 = SGDaccuracy(Y_pred8, Y_test)\n",
        "acc9 = SGDaccuracy(Y_pred9, Y_test)\n",
        "\n",
        "print('acc1: {:.2f}, acc2: {:.2f}, acc3: {:.2f}, acc4: {:.2f}, acc5: {:.2f}, acc6: {:.2f}, acc7: {:.2f}, acc8: {:.2f}, acc9: {:.2f}'.format(acc1,acc2,acc3,acc4,acc5,acc6,acc7,acc8,acc9))\n",
        "eta0 = 1e-3\n",
        "alpha = 1e-5\n",
        "acc = acc7\n",
        "#######################################################\n",
        "print(f'eta0 is {eta0}, alpha is {alpha}, Acc = {acc}%')"
      ],
      "execution_count": 78,
      "outputs": [
        {
          "output_type": "stream",
          "text": [
            "acc1: 52.60, acc2: 59.20, acc3: 53.80, acc4: 61.13, acc5: 60.47, acc6: 56.60, acc7: 62.47, acc8: 58.60, acc9: 62.40\n",
            "eta0 is 0.001, alpha is 1e-05, Acc = 62.46666666666667%\n"
          ],
          "name": "stdout"
        }
      ]
    },
    {
      "cell_type": "markdown",
      "metadata": {
        "id": "FxsJMJhc5TnR"
      },
      "source": [
        "### Step3. Optimize hyperparameters for SVM Classifier\n",
        "\n",
        "## **TODO**: Find best performing combination of **kernel** and **regularization parameter**. Attach the **best combination** and corresponding **result** in your report.\n",
        "\n",
        "* You should use function of scikit-learn **(sklearn.svc.SVC)**.\n",
        "* You should set option **kernel** to control the type of kernel.\n",
        "* You should set option **C** to control regularization parameter.\n",
        "* See https://scikit-learn.org/stable/modules/generated/sklearn.svm.SVC.html for more information\n",
        "\n",
        "**Grids to be searched are provided as follows**:\n",
        "\n",
        "```Kernel: ['linear','rbf','poly']```\n",
        "\n",
        "```Regularization parameter (C): [0.1, 1, 10, 100]```"
      ]
    },
    {
      "cell_type": "code",
      "metadata": {
        "id": "w_XlOKtV5TnR",
        "outputId": "591c1097-8eff-43e8-ec36-2f77cf697931",
        "colab": {
          "base_uri": "https://localhost:8080/"
        }
      },
      "source": [
        "from sklearn.svm import SVC\n",
        "np.random.seed(0)\n",
        "\n",
        "######################## Blank ########################\n",
        "def SVCaccuracy(predict, y):\n",
        "    acc = 0\n",
        "    n = y.size\n",
        "    for i in range(n):\n",
        "        if predict[i] == y[i]:\n",
        "            acc = acc + 1\n",
        "    acc = acc / n * 100\n",
        "    return acc\n",
        "\n",
        "svc1 = SVC(kernel= 'linear', C = 0.1)\n",
        "svc2 = SVC(kernel= 'linear', C = 1)\n",
        "svc3 = SVC(kernel= 'linear', C = 10)\n",
        "svc4 = SVC(kernel= 'linear', C = 100)\n",
        "svc5 = SVC(kernel= 'rbf', C = 0.1)\n",
        "svc6 = SVC(kernel= 'rbf', C = 1)\n",
        "svc7 = SVC(kernel= 'rbf', C = 10)\n",
        "svc8 = SVC(kernel= 'rbf', C = 100)\n",
        "svc9 = SVC(kernel= 'poly', C = 0.1)\n",
        "svc10 = SVC(kernel= 'poly', C = 1)\n",
        "svc11 = SVC(kernel= 'poly', C = 10)\n",
        "svc12 = SVC(kernel= 'poly', C = 100)\n",
        "\n",
        "svc1.fit(X_train,Y_train)\n",
        "svc2.fit(X_train,Y_train)\n",
        "svc3.fit(X_train,Y_train)\n",
        "svc4.fit(X_train,Y_train)\n",
        "svc5.fit(X_train,Y_train)\n",
        "svc6.fit(X_train,Y_train)\n",
        "svc7.fit(X_train,Y_train)\n",
        "svc8.fit(X_train,Y_train)\n",
        "svc9.fit(X_train,Y_train)\n",
        "svc10.fit(X_train,Y_train)\n",
        "svc11.fit(X_train,Y_train)\n",
        "svc12.fit(X_train,Y_train)\n",
        "\n",
        "Y_pred1 = svc1.predict(X_test)\n",
        "Y_pred2 = svc2.predict(X_test)\n",
        "Y_pred3 = svc3.predict(X_test)\n",
        "Y_pred4 = svc4.predict(X_test)\n",
        "Y_pred5 = svc5.predict(X_test)\n",
        "Y_pred6 = svc6.predict(X_test)\n",
        "Y_pred7 = svc7.predict(X_test)\n",
        "Y_pred8 = svc8.predict(X_test)\n",
        "Y_pred9 = svc9.predict(X_test)\n",
        "Y_pred10 = svc10.predict(X_test)\n",
        "Y_pred11 = svc11.predict(X_test)\n",
        "Y_pred12 = svc12.predict(X_test)\n",
        "\n",
        "\n",
        "acc1 = SVCaccuracy(Y_pred1, Y_test)\n",
        "acc2 = SVCaccuracy(Y_pred2, Y_test)\n",
        "acc3 = SVCaccuracy(Y_pred3, Y_test)\n",
        "acc4 = SVCaccuracy(Y_pred4, Y_test)\n",
        "acc5 = SVCaccuracy(Y_pred5, Y_test)\n",
        "acc6 = SVCaccuracy(Y_pred6, Y_test)\n",
        "acc7 = SVCaccuracy(Y_pred7, Y_test)\n",
        "acc8 = SVCaccuracy(Y_pred8, Y_test)\n",
        "acc9 = SVCaccuracy(Y_pred9, Y_test)\n",
        "acc10 = SVCaccuracy(Y_pred10, Y_test)\n",
        "acc11 = SVCaccuracy(Y_pred11, Y_test)\n",
        "acc12 = SVCaccuracy(Y_pred12, Y_test)\n",
        "\n",
        "print('acc1: {:.2f}, acc2: {:.2f}, acc3: {:.2f}, acc4: {:.2f}, acc5: {:.2f}, acc6: {:.2f}, acc7: {:.2f}, acc8: {:.2f}, acc9: {:.2f}, acc10: {:.2f}, acc11: {:.2f}, acc12: {:.2f}'.format(acc1,acc2,acc3,acc4,acc5,acc6,acc7,acc8,acc9,acc10,acc11,acc12))\n",
        "kernel = 'rbf'\n",
        "C = 10\n",
        "acc = acc7                                               \n",
        "#######################################################\n",
        "print(f'kernel is {kernel}, C is {C}, Acc = {acc}%')"
      ],
      "execution_count": 81,
      "outputs": [
        {
          "output_type": "stream",
          "text": [
            "acc1: 55.47, acc2: 55.47, acc3: 55.47, acc4: 55.47, acc5: 68.20, acc6: 74.60, acc7: 75.27, acc8: 73.93, acc9: 73.40, acc10: 71.27, acc11: 69.13, acc12: 68.40\n",
            "kernel is rbf, C is 10, Acc = 75.26666666666667%\n"
          ],
          "name": "stdout"
        }
      ]
    },
    {
      "cell_type": "code",
      "metadata": {
        "id": "Zl1z0xzp_Fni",
        "outputId": "429b9501-a372-4b85-8906-bc79c8d5c6a8",
        "colab": {
          "base_uri": "https://localhost:8080/"
        }
      },
      "source": [
        "a = 'dddd'\n",
        "print(f'kernel is {a}')"
      ],
      "execution_count": 80,
      "outputs": [
        {
          "output_type": "stream",
          "text": [
            "kernel is dddd\n"
          ],
          "name": "stdout"
        }
      ]
    },
    {
      "cell_type": "markdown",
      "metadata": {
        "id": "kTwyYsmrVbyk"
      },
      "source": [
        "## **Part4.** PCA\n",
        "\n",
        "* Understand and Implement PCA in Iris dataset.\n",
        "* Using numpy to make PCA and compare your PCA to PCA which made by using scikit-learn package\n"
      ]
    },
    {
      "cell_type": "markdown",
      "metadata": {
        "id": "LbtknP9aIoNK"
      },
      "source": [
        "### Step 1. Load Iris dataset\n"
      ]
    },
    {
      "cell_type": "code",
      "metadata": {
        "id": "tVwcsZeQIcIy",
        "outputId": "a04a74c8-38a2-4d3f-e325-a33479a64719",
        "colab": {
          "base_uri": "https://localhost:8080/",
          "height": 204
        }
      },
      "source": [
        "import pandas as pd\n",
        "from sklearn import datasets\n",
        "\n",
        "iris = datasets.load_iris()\n",
        "iris_x = iris.data\n",
        "iris_y = iris.target\n",
        "\n",
        "#visualization\n",
        "df = pd.DataFrame(data= np.c_[iris['data'], iris['target']],\n",
        "                  columns= iris['feature_names'] + ['target'])\n",
        "display(df.head())"
      ],
      "execution_count": 43,
      "outputs": [
        {
          "output_type": "display_data",
          "data": {
            "text/html": [
              "<div>\n",
              "<style scoped>\n",
              "    .dataframe tbody tr th:only-of-type {\n",
              "        vertical-align: middle;\n",
              "    }\n",
              "\n",
              "    .dataframe tbody tr th {\n",
              "        vertical-align: top;\n",
              "    }\n",
              "\n",
              "    .dataframe thead th {\n",
              "        text-align: right;\n",
              "    }\n",
              "</style>\n",
              "<table border=\"1\" class=\"dataframe\">\n",
              "  <thead>\n",
              "    <tr style=\"text-align: right;\">\n",
              "      <th></th>\n",
              "      <th>sepal length (cm)</th>\n",
              "      <th>sepal width (cm)</th>\n",
              "      <th>petal length (cm)</th>\n",
              "      <th>petal width (cm)</th>\n",
              "      <th>target</th>\n",
              "    </tr>\n",
              "  </thead>\n",
              "  <tbody>\n",
              "    <tr>\n",
              "      <th>0</th>\n",
              "      <td>5.1</td>\n",
              "      <td>3.5</td>\n",
              "      <td>1.4</td>\n",
              "      <td>0.2</td>\n",
              "      <td>0.0</td>\n",
              "    </tr>\n",
              "    <tr>\n",
              "      <th>1</th>\n",
              "      <td>4.9</td>\n",
              "      <td>3.0</td>\n",
              "      <td>1.4</td>\n",
              "      <td>0.2</td>\n",
              "      <td>0.0</td>\n",
              "    </tr>\n",
              "    <tr>\n",
              "      <th>2</th>\n",
              "      <td>4.7</td>\n",
              "      <td>3.2</td>\n",
              "      <td>1.3</td>\n",
              "      <td>0.2</td>\n",
              "      <td>0.0</td>\n",
              "    </tr>\n",
              "    <tr>\n",
              "      <th>3</th>\n",
              "      <td>4.6</td>\n",
              "      <td>3.1</td>\n",
              "      <td>1.5</td>\n",
              "      <td>0.2</td>\n",
              "      <td>0.0</td>\n",
              "    </tr>\n",
              "    <tr>\n",
              "      <th>4</th>\n",
              "      <td>5.0</td>\n",
              "      <td>3.6</td>\n",
              "      <td>1.4</td>\n",
              "      <td>0.2</td>\n",
              "      <td>0.0</td>\n",
              "    </tr>\n",
              "  </tbody>\n",
              "</table>\n",
              "</div>"
            ],
            "text/plain": [
              "   sepal length (cm)  sepal width (cm)  ...  petal width (cm)  target\n",
              "0                5.1               3.5  ...               0.2     0.0\n",
              "1                4.9               3.0  ...               0.2     0.0\n",
              "2                4.7               3.2  ...               0.2     0.0\n",
              "3                4.6               3.1  ...               0.2     0.0\n",
              "4                5.0               3.6  ...               0.2     0.0\n",
              "\n",
              "[5 rows x 5 columns]"
            ]
          },
          "metadata": {
            "tags": []
          }
        }
      ]
    },
    {
      "cell_type": "markdown",
      "metadata": {
        "id": "IsxPtXOcM9Pn"
      },
      "source": [
        "### Step 2. Using numpy to implement PCA (with Iris dataset)\n",
        "\n",
        "## **TODO** : Fill in the blank with the code by referring to the following formulas below for all the **steps 2-1 ~ 2-4.** You should write your own **description of your source code** in the report."
      ]
    },
    {
      "cell_type": "markdown",
      "metadata": {
        "id": "-seGuIdqTzs2"
      },
      "source": [
        "#### step 2-1 : Standardize the dataset\n",
        "\n",
        "$$ z = \\frac{(x- u)}{s} ~~~~~~\\text{(feature-wise operation)}$$ \n",
        "\n",
        "$u$ is the sample mean and $s$ is standard deviation of the training samples\n",
        "\n",
        "__Hint__: Compute ```mean``` and ```std``` across ```axis=0``` (feature-wise).\n",
        "\n",
        "**Note**: Use ```iris_x``` for $x$."
      ]
    },
    {
      "cell_type": "code",
      "metadata": {
        "id": "15T-W7tEM8sm",
        "outputId": "325029e1-01db-4eb6-d363-7ae941f789c4",
        "colab": {
          "base_uri": "https://localhost:8080/"
        }
      },
      "source": [
        "#step1: Standardization\n",
        "######################## Blank ########################\n",
        "mean = np.mean(iris_x, axis = 0)\n",
        "std = np.std(iris_x, axis = 0)\n",
        "z = (iris_x - mean) / std\n",
        "#######################################################\n",
        "print(\"The mean of z:\", z.mean(0))"
      ],
      "execution_count": 44,
      "outputs": [
        {
          "output_type": "stream",
          "text": [
            "The mean of z: [-1.69031455e-15 -1.84297022e-15 -1.69864123e-15 -1.40924309e-15]\n"
          ],
          "name": "stdout"
        }
      ]
    },
    {
      "cell_type": "markdown",
      "metadata": {
        "id": "3p-Nl397TsdV"
      },
      "source": [
        "#### step 2-2 : Find the covariance matrix\n",
        "\n",
        "__Hint:__ Refer to the following formula. And use ```np.cov```method.\n",
        "\n",
        "$$ \\operatorname{cov}(\\mathbf{X})=\\frac{1}{n-1} \\mathbf{X}^{T} \\mathbf{X} $$\n",
        "\n",
        "$n$ is the number of training samples\n",
        "\n",
        "**Note**: Use standardized dataset ```z``` for $\\mathbf{X}$ in formula above."
      ]
    },
    {
      "cell_type": "code",
      "metadata": {
        "id": "AFo2Qz2wTaEQ",
        "outputId": "1acd9002-14ad-499b-f9fe-f23cf0166c66",
        "colab": {
          "base_uri": "https://localhost:8080/"
        }
      },
      "source": [
        "#step2: Find the covariance matrix\n",
        "######################## Blank ########################\n",
        "covar_matrix = np.cov(z.T)\n",
        "#######################################################\n",
        "print(\"The shape of covariance matrix: \",covar_matrix.shape)"
      ],
      "execution_count": 45,
      "outputs": [
        {
          "output_type": "stream",
          "text": [
            "The shape of covariance matrix:  (4, 4)\n"
          ],
          "name": "stdout"
        }
      ]
    },
    {
      "cell_type": "markdown",
      "metadata": {
        "id": "z6EW9qRnUri2"
      },
      "source": [
        "#### step 2-3 : Find the eigenvalues and eigenvectors of the covariance matrix\n",
        "\n",
        "The principal components can be determined via eigen decomposition of the covariance matrix $\\mathbf{C}$. \\\n",
        "$$\\mathbf{C}=\\mathbf{W} \\mathbf{\\Lambda} \\mathbf{W}^{T}$$\n",
        "\n",
        "$\\mathbf{C}$ is covariance matrix,  $\\mathbf{W}$ is matrix of eigenvectors, $\\mathbf{\\Lambda}$ is a diagonal matrix of m eigenvalues.\\\n",
        "The geometrical meaning of eigen decomposition is to find a new coordinate system of the eigenvectors for $\\mathbf{C}$.\n",
        "\n",
        "__Hint__: Use ```np.linalg.eig``` method\n",
        "\n",
        "**Note**: Use ```covar_matrix``` for covariance matrix $\\mathbf{C}$."
      ]
    },
    {
      "cell_type": "code",
      "metadata": {
        "id": "PPuTtzHkTcam"
      },
      "source": [
        "#step3 : Find the eigenvalues and eigenvectors of the covariance matrix\n",
        "######################## Blank ########################\n",
        "eig_vals, eig_vecs = np.linalg.eig(covar_matrix)\n",
        "#######################################################"
      ],
      "execution_count": 46,
      "outputs": []
    },
    {
      "cell_type": "markdown",
      "metadata": {
        "id": "ylUiQuUFYsus"
      },
      "source": [
        "#### step 2-4 : Get eigenvectors of 2 biggest eigenvalues and from the projection matrix \n",
        "\n",
        "The first k principal components explain the most variance any k variables can explain. \\\n",
        "To express our dataset in 2 dimensions, find eigenvectors of 2 biggest eigenvalues. \\\n",
        "Then project the data points onto the first 2 PCs as the representation of the data:\n",
        "\n",
        "$$\\mathbf{X}_{k}=\\mathbf{X} \\mathbf{W}_{k}$$\n",
        "\n",
        "**Note**: Use ```eig_vals``` and ```eig_vecs``` for eigen values and eigen vectors respectively.\n",
        "\n",
        "\n"
      ]
    },
    {
      "cell_type": "code",
      "metadata": {
        "id": "jCjbd48BYnkv",
        "outputId": "9cfd2587-6075-4416-bbd2-2517e98a0d0f",
        "colab": {
          "base_uri": "https://localhost:8080/"
        }
      },
      "source": [
        "#step4 : Get first 2 eigenvectors of 2 biggest eigenvalues and from the projection matrix\n",
        "######################## Blank ########################\n",
        "eig_vecs2 = eig_vecs[:,(0,1)]\n",
        "projected_X = np.matmul(iris_x,eig_vecs2) \n",
        "#######################################################\n",
        "print(\"The shape of projected data: \", projected_X.shape)"
      ],
      "execution_count": 47,
      "outputs": [
        {
          "output_type": "stream",
          "text": [
            "The shape of projected data:  (150, 2)\n"
          ],
          "name": "stdout"
        }
      ]
    },
    {
      "cell_type": "markdown",
      "metadata": {
        "id": "Q5pzZNjmbstA"
      },
      "source": [
        "#### step 2-5 : Get variance ratio\n",
        "The fraction of variance explained by a principal component is the ratio between the variance of that principal component and the total variance.\n",
        "\n",
        "## **TODO**: Run all the provided code below and **attach the results** in your report."
      ]
    },
    {
      "cell_type": "code",
      "metadata": {
        "id": "2a17smRKQvHd",
        "outputId": "1fcf8e0b-36b0-4c38-803c-23ba8b026b67",
        "colab": {
          "base_uri": "https://localhost:8080/"
        }
      },
      "source": [
        "#Step5 : get variance ratio\n",
        "variance_ratio = eig_vals[:2]/eig_vals.sum()\n",
        "print(variance_ratio)"
      ],
      "execution_count": 48,
      "outputs": [
        {
          "output_type": "stream",
          "text": [
            "[0.72962445 0.22850762]\n"
          ],
          "name": "stdout"
        }
      ]
    },
    {
      "cell_type": "code",
      "metadata": {
        "id": "N70LCGizQE1I",
        "outputId": "4343c0a5-8745-4316-fa74-102ccc33565d",
        "colab": {
          "base_uri": "https://localhost:8080/",
          "height": 523
        }
      },
      "source": [
        "#Visualization\n",
        "principalDf = pd.DataFrame(data=projected_X, columns=['principal component 1','principal component 2'])\n",
        "principalDf['target'] = iris_y\n",
        "\n",
        "fig = plt.figure(figsize = (8,8))\n",
        "ax = fig.add_subplot(1,1,1)\n",
        "ax.set_xlabel('Principal Component 1', fontsize = 15)\n",
        "ax.set_ylabel('Principal Component 2', fontsize = 15)\n",
        "ax.set_title('2 component PCA', fontsize = 20)\n",
        "\n",
        "targets = {'setosa': 0, 'versicolour' : 1, 'virginica' : 2}\n",
        "colors = ['r', 'g', 'b']\n",
        "for target, color in zip(targets.values(),colors):\n",
        "    indicesToKeep = principalDf['target'] == target\n",
        "    ax.scatter(principalDf.loc[indicesToKeep, 'principal component 1']\n",
        "               , principalDf.loc[indicesToKeep, 'principal component 2']\n",
        "               , c = color\n",
        "               , s = 50)\n",
        "ax.legend(targets.keys())\n",
        "ax.grid()"
      ],
      "execution_count": 49,
      "outputs": [
        {
          "output_type": "display_data",
          "data": {
            "image/png": "[encoded data removed]",
            "text/plain": [
              "<Figure size 576x576 with 1 Axes>"
            ]
          },
          "metadata": {
            "tags": [],
            "needs_background": "light"
          }
        }
      ]
    },
    {
      "cell_type": "markdown",
      "metadata": {
        "id": "lB-G_mjAI-Gf"
      },
      "source": [
        "### Step 3. Using sklearn PCA package  (with Iris dataset)\n",
        "\n",
        "## **TODO**: Run all the provided code below and **compare the results** with numpy implemented PCA in your report. \n",
        "\n",
        "#### step 3-1 : Standardization using ```sklearn.preprocessing.StandardScalar``` module\n",
        "\n"
      ]
    },
    {
      "cell_type": "code",
      "metadata": {
        "id": "Jo4tU1zQI9Y8",
        "outputId": "a6970abc-e661-4848-8e0d-c834b99cab1c",
        "colab": {
          "base_uri": "https://localhost:8080/"
        }
      },
      "source": [
        "from sklearn.preprocessing import StandardScaler\n",
        "#Step1. Standardization using StandardScaler\n",
        "z = StandardScaler().fit_transform(iris_x)\n",
        "print(\"The mean of z:\", z.mean(axis=0))"
      ],
      "execution_count": 50,
      "outputs": [
        {
          "output_type": "stream",
          "text": [
            "The mean of z: [-1.69031455e-15 -1.84297022e-15 -1.69864123e-15 -1.40924309e-15]\n"
          ],
          "name": "stdout"
        }
      ]
    },
    {
      "cell_type": "markdown",
      "metadata": {
        "id": "Bj5RyPYr608s"
      },
      "source": [
        "#### step 3-2 : PCA projection to 2 components using ```sklearn.decomposition.PCA``` module"
      ]
    },
    {
      "cell_type": "code",
      "metadata": {
        "id": "hF6Isn3uJg19"
      },
      "source": [
        "from sklearn.decomposition import PCA\n",
        "#Step2. PCA projection to 2 components\n",
        "pca = PCA(n_components = 2)\n",
        "principalComponents = pca.fit_transform(z)"
      ],
      "execution_count": 51,
      "outputs": []
    },
    {
      "cell_type": "code",
      "metadata": {
        "id": "_kpb7sOyMCUI",
        "outputId": "807ca058-079a-4e16-8ffb-a4f7c72fd8d7",
        "colab": {
          "base_uri": "https://localhost:8080/",
          "height": 523
        }
      },
      "source": [
        "#Visualization\n",
        "principalDf = pd.DataFrame(data=principalComponents, columns=['principal component 1','principal component 2'])\n",
        "principalDf['target'] = iris_y\n",
        "\n",
        "fig = plt.figure(figsize = (8,8))\n",
        "ax = fig.add_subplot(1,1,1)\n",
        "ax.set_xlabel('Principal Component 1', fontsize = 15)\n",
        "ax.set_ylabel('Principal Component 2', fontsize = 15)\n",
        "ax.set_title('2 component PCA', fontsize = 20)\n",
        "\n",
        "targets = {'setosa': 0, 'versicolour' : 1, 'virginica' : 2}\n",
        "colors = ['r', 'g', 'b']\n",
        "for target, color in zip(targets.values(),colors):\n",
        "    indicesToKeep = principalDf['target'] == target\n",
        "    ax.scatter(principalDf.loc[indicesToKeep, 'principal component 1']\n",
        "               , principalDf.loc[indicesToKeep, 'principal component 2']\n",
        "               , c = color\n",
        "               , s = 50)\n",
        "ax.legend(targets.keys())\n",
        "ax.grid()"
      ],
      "execution_count": 52,
      "outputs": [
        {
          "output_type": "display_data",
          "data": {
            "image/png": "[encoded data removed]",
            "text/plain": [
              "<Figure size 576x576 with 1 Axes>"
            ]
          },
          "metadata": {
            "tags": [],
            "needs_background": "light"
          }
        }
      ]
    },
    {
      "cell_type": "code",
      "metadata": {
        "id": "yMKELpudMU5O",
        "outputId": "eca4afc3-b846-451b-8eb0-ea646da6b69b",
        "colab": {
          "base_uri": "https://localhost:8080/"
        }
      },
      "source": [
        "#Step3 : Get eigenvlaue and variance ratio of covariance matrix\n",
        "\n",
        "print('eigen_value :', pca.explained_variance_)\n",
        "print('explained variance ratio:', pca.explained_variance_ratio_)"
      ],
      "execution_count": 53,
      "outputs": [
        {
          "output_type": "stream",
          "text": [
            "eigen_value : [2.93808505 0.9201649 ]\n",
            "explained variance ratio: [0.72962445 0.22850762]\n"
          ],
          "name": "stdout"
        }
      ]
    },
    {
      "cell_type": "code",
      "metadata": {
        "id": "lOTUuco34VOe"
      },
      "source": [
        ""
      ],
      "execution_count": null,
      "outputs": []
    }
  ]
}