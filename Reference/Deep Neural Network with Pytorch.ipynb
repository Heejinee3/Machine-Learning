{
  "nbformat": 4,
  "nbformat_minor": 0,
  "metadata": {
    "colab": {
      "name": "[Week10]_Training_Deep_Neural_Networks_with_Pytorch_answers.ipynb",
      "provenance": [],
      "collapsed_sections": []
    },
    "kernelspec": {
      "name": "python3",
      "display_name": "Python 3"
    },
    "accelerator": "GPU",
    "widgets": {
      "application/vnd.jupyter.widget-state+json": {
        "c3d50a64c24049089f84044da0270d5b": {
          "model_module": "@jupyter-widgets/controls",
          "model_name": "HBoxModel",
          "state": {
            "_view_name": "HBoxView",
            "_dom_classes": [],
            "_model_name": "HBoxModel",
            "_view_module": "@jupyter-widgets/controls",
            "_model_module_version": "1.5.0",
            "_view_count": null,
            "_view_module_version": "1.5.0",
            "box_style": "",
            "layout": "IPY_MODEL_8e23e5ef13584023b542146e5287e428",
            "_model_module": "@jupyter-widgets/controls",
            "children": [
              "IPY_MODEL_cda39f60ccdd42dabd7dd71603665f62",
              "IPY_MODEL_f7afa73717654442ae5412f0a5f317dc"
            ]
          }
        },
        "8e23e5ef13584023b542146e5287e428": {
          "model_module": "@jupyter-widgets/base",
          "model_name": "LayoutModel",
          "state": {
            "_view_name": "LayoutView",
            "grid_template_rows": null,
            "right": null,
            "justify_content": null,
            "_view_module": "@jupyter-widgets/base",
            "overflow": null,
            "_model_module_version": "1.2.0",
            "_view_count": null,
            "flex_flow": null,
            "width": null,
            "min_width": null,
            "border": null,
            "align_items": null,
            "bottom": null,
            "_model_module": "@jupyter-widgets/base",
            "top": null,
            "grid_column": null,
            "overflow_y": null,
            "overflow_x": null,
            "grid_auto_flow": null,
            "grid_area": null,
            "grid_template_columns": null,
            "flex": null,
            "_model_name": "LayoutModel",
            "justify_items": null,
            "grid_row": null,
            "max_height": null,
            "align_content": null,
            "visibility": null,
            "align_self": null,
            "height": null,
            "min_height": null,
            "padding": null,
            "grid_auto_rows": null,
            "grid_gap": null,
            "max_width": null,
            "order": null,
            "_view_module_version": "1.2.0",
            "grid_template_areas": null,
            "object_position": null,
            "object_fit": null,
            "grid_auto_columns": null,
            "margin": null,
            "display": null,
            "left": null
          }
        },
        "cda39f60ccdd42dabd7dd71603665f62": {
          "model_module": "@jupyter-widgets/controls",
          "model_name": "FloatProgressModel",
          "state": {
            "_view_name": "ProgressView",
            "style": "IPY_MODEL_627285dec946419c8b7aeef7e3762305",
            "_dom_classes": [],
            "description": "",
            "_model_name": "FloatProgressModel",
            "bar_style": "info",
            "max": 1,
            "_view_module": "@jupyter-widgets/controls",
            "_model_module_version": "1.5.0",
            "value": 1,
            "_view_count": null,
            "_view_module_version": "1.5.0",
            "orientation": "horizontal",
            "min": 0,
            "description_tooltip": null,
            "_model_module": "@jupyter-widgets/controls",
            "layout": "IPY_MODEL_8bc1f192fc0a4dbebbe266d529c842af"
          }
        },
        "f7afa73717654442ae5412f0a5f317dc": {
          "model_module": "@jupyter-widgets/controls",
          "model_name": "HTMLModel",
          "state": {
            "_view_name": "HTMLView",
            "style": "IPY_MODEL_26b78f7706d1445eb54d4e5bc3e4896b",
            "_dom_classes": [],
            "description": "",
            "_model_name": "HTMLModel",
            "placeholder": "​",
            "_view_module": "@jupyter-widgets/controls",
            "_model_module_version": "1.5.0",
            "value": " 9920512/? [00:20&lt;00:00, 1499022.60it/s]",
            "_view_count": null,
            "_view_module_version": "1.5.0",
            "description_tooltip": null,
            "_model_module": "@jupyter-widgets/controls",
            "layout": "IPY_MODEL_e56e3745cf0f461cafdbdd84cf7f4488"
          }
        },
        "627285dec946419c8b7aeef7e3762305": {
          "model_module": "@jupyter-widgets/controls",
          "model_name": "ProgressStyleModel",
          "state": {
            "_view_name": "StyleView",
            "_model_name": "ProgressStyleModel",
            "description_width": "initial",
            "_view_module": "@jupyter-widgets/base",
            "_model_module_version": "1.5.0",
            "_view_count": null,
            "_view_module_version": "1.2.0",
            "bar_color": null,
            "_model_module": "@jupyter-widgets/controls"
          }
        },
        "8bc1f192fc0a4dbebbe266d529c842af": {
          "model_module": "@jupyter-widgets/base",
          "model_name": "LayoutModel",
          "state": {
            "_view_name": "LayoutView",
            "grid_template_rows": null,
            "right": null,
            "justify_content": null,
            "_view_module": "@jupyter-widgets/base",
            "overflow": null,
            "_model_module_version": "1.2.0",
            "_view_count": null,
            "flex_flow": null,
            "width": null,
            "min_width": null,
            "border": null,
            "align_items": null,
            "bottom": null,
            "_model_module": "@jupyter-widgets/base",
            "top": null,
            "grid_column": null,
            "overflow_y": null,
            "overflow_x": null,
            "grid_auto_flow": null,
            "grid_area": null,
            "grid_template_columns": null,
            "flex": null,
            "_model_name": "LayoutModel",
            "justify_items": null,
            "grid_row": null,
            "max_height": null,
            "align_content": null,
            "visibility": null,
            "align_self": null,
            "height": null,
            "min_height": null,
            "padding": null,
            "grid_auto_rows": null,
            "grid_gap": null,
            "max_width": null,
            "order": null,
            "_view_module_version": "1.2.0",
            "grid_template_areas": null,
            "object_position": null,
            "object_fit": null,
            "grid_auto_columns": null,
            "margin": null,
            "display": null,
            "left": null
          }
        },
        "26b78f7706d1445eb54d4e5bc3e4896b": {
          "model_module": "@jupyter-widgets/controls",
          "model_name": "DescriptionStyleModel",
          "state": {
            "_view_name": "StyleView",
            "_model_name": "DescriptionStyleModel",
            "description_width": "",
            "_view_module": "@jupyter-widgets/base",
            "_model_module_version": "1.5.0",
            "_view_count": null,
            "_view_module_version": "1.2.0",
            "_model_module": "@jupyter-widgets/controls"
          }
        },
        "e56e3745cf0f461cafdbdd84cf7f4488": {
          "model_module": "@jupyter-widgets/base",
          "model_name": "LayoutModel",
          "state": {
            "_view_name": "LayoutView",
            "grid_template_rows": null,
            "right": null,
            "justify_content": null,
            "_view_module": "@jupyter-widgets/base",
            "overflow": null,
            "_model_module_version": "1.2.0",
            "_view_count": null,
            "flex_flow": null,
            "width": null,
            "min_width": null,
            "border": null,
            "align_items": null,
            "bottom": null,
            "_model_module": "@jupyter-widgets/base",
            "top": null,
            "grid_column": null,
            "overflow_y": null,
            "overflow_x": null,
            "grid_auto_flow": null,
            "grid_area": null,
            "grid_template_columns": null,
            "flex": null,
            "_model_name": "LayoutModel",
            "justify_items": null,
            "grid_row": null,
            "max_height": null,
            "align_content": null,
            "visibility": null,
            "align_self": null,
            "height": null,
            "min_height": null,
            "padding": null,
            "grid_auto_rows": null,
            "grid_gap": null,
            "max_width": null,
            "order": null,
            "_view_module_version": "1.2.0",
            "grid_template_areas": null,
            "object_position": null,
            "object_fit": null,
            "grid_auto_columns": null,
            "margin": null,
            "display": null,
            "left": null
          }
        },
        "f34f225feb44483c8d760b5c1fa11ff1": {
          "model_module": "@jupyter-widgets/controls",
          "model_name": "HBoxModel",
          "state": {
            "_view_name": "HBoxView",
            "_dom_classes": [],
            "_model_name": "HBoxModel",
            "_view_module": "@jupyter-widgets/controls",
            "_model_module_version": "1.5.0",
            "_view_count": null,
            "_view_module_version": "1.5.0",
            "box_style": "",
            "layout": "IPY_MODEL_08ccff11681d4262add5f6d3d027d94c",
            "_model_module": "@jupyter-widgets/controls",
            "children": [
              "IPY_MODEL_b389d632c9e94260b2e3c627ce65833c",
              "IPY_MODEL_1e733419ac4b424ba3eaff02795ade6c"
            ]
          }
        },
        "08ccff11681d4262add5f6d3d027d94c": {
          "model_module": "@jupyter-widgets/base",
          "model_name": "LayoutModel",
          "state": {
            "_view_name": "LayoutView",
            "grid_template_rows": null,
            "right": null,
            "justify_content": null,
            "_view_module": "@jupyter-widgets/base",
            "overflow": null,
            "_model_module_version": "1.2.0",
            "_view_count": null,
            "flex_flow": null,
            "width": null,
            "min_width": null,
            "border": null,
            "align_items": null,
            "bottom": null,
            "_model_module": "@jupyter-widgets/base",
            "top": null,
            "grid_column": null,
            "overflow_y": null,
            "overflow_x": null,
            "grid_auto_flow": null,
            "grid_area": null,
            "grid_template_columns": null,
            "flex": null,
            "_model_name": "LayoutModel",
            "justify_items": null,
            "grid_row": null,
            "max_height": null,
            "align_content": null,
            "visibility": null,
            "align_self": null,
            "height": null,
            "min_height": null,
            "padding": null,
            "grid_auto_rows": null,
            "grid_gap": null,
            "max_width": null,
            "order": null,
            "_view_module_version": "1.2.0",
            "grid_template_areas": null,
            "object_position": null,
            "object_fit": null,
            "grid_auto_columns": null,
            "margin": null,
            "display": null,
            "left": null
          }
        },
        "b389d632c9e94260b2e3c627ce65833c": {
          "model_module": "@jupyter-widgets/controls",
          "model_name": "FloatProgressModel",
          "state": {
            "_view_name": "ProgressView",
            "style": "IPY_MODEL_c89dda62e6f24f93a6eef76c90a8aa39",
            "_dom_classes": [],
            "description": "",
            "_model_name": "FloatProgressModel",
            "bar_style": "success",
            "max": 1,
            "_view_module": "@jupyter-widgets/controls",
            "_model_module_version": "1.5.0",
            "value": 1,
            "_view_count": null,
            "_view_module_version": "1.5.0",
            "orientation": "horizontal",
            "min": 0,
            "description_tooltip": null,
            "_model_module": "@jupyter-widgets/controls",
            "layout": "IPY_MODEL_ba5cfcb1d6d449778574d3ddca58250f"
          }
        },
        "1e733419ac4b424ba3eaff02795ade6c": {
          "model_module": "@jupyter-widgets/controls",
          "model_name": "HTMLModel",
          "state": {
            "_view_name": "HTMLView",
            "style": "IPY_MODEL_ee8181fe115d47a0b91ebf356670260e",
            "_dom_classes": [],
            "description": "",
            "_model_name": "HTMLModel",
            "placeholder": "​",
            "_view_module": "@jupyter-widgets/controls",
            "_model_module_version": "1.5.0",
            "value": " 32768/? [00:01&lt;00:00, 32385.99it/s]",
            "_view_count": null,
            "_view_module_version": "1.5.0",
            "description_tooltip": null,
            "_model_module": "@jupyter-widgets/controls",
            "layout": "IPY_MODEL_37d9f44a976e43d5bc424be4d00242a1"
          }
        },
        "c89dda62e6f24f93a6eef76c90a8aa39": {
          "model_module": "@jupyter-widgets/controls",
          "model_name": "ProgressStyleModel",
          "state": {
            "_view_name": "StyleView",
            "_model_name": "ProgressStyleModel",
            "description_width": "initial",
            "_view_module": "@jupyter-widgets/base",
            "_model_module_version": "1.5.0",
            "_view_count": null,
            "_view_module_version": "1.2.0",
            "bar_color": null,
            "_model_module": "@jupyter-widgets/controls"
          }
        },
        "ba5cfcb1d6d449778574d3ddca58250f": {
          "model_module": "@jupyter-widgets/base",
          "model_name": "LayoutModel",
          "state": {
            "_view_name": "LayoutView",
            "grid_template_rows": null,
            "right": null,
            "justify_content": null,
            "_view_module": "@jupyter-widgets/base",
            "overflow": null,
            "_model_module_version": "1.2.0",
            "_view_count": null,
            "flex_flow": null,
            "width": null,
            "min_width": null,
            "border": null,
            "align_items": null,
            "bottom": null,
            "_model_module": "@jupyter-widgets/base",
            "top": null,
            "grid_column": null,
            "overflow_y": null,
            "overflow_x": null,
            "grid_auto_flow": null,
            "grid_area": null,
            "grid_template_columns": null,
            "flex": null,
            "_model_name": "LayoutModel",
            "justify_items": null,
            "grid_row": null,
            "max_height": null,
            "align_content": null,
            "visibility": null,
            "align_self": null,
            "height": null,
            "min_height": null,
            "padding": null,
            "grid_auto_rows": null,
            "grid_gap": null,
            "max_width": null,
            "order": null,
            "_view_module_version": "1.2.0",
            "grid_template_areas": null,
            "object_position": null,
            "object_fit": null,
            "grid_auto_columns": null,
            "margin": null,
            "display": null,
            "left": null
          }
        },
        "ee8181fe115d47a0b91ebf356670260e": {
          "model_module": "@jupyter-widgets/controls",
          "model_name": "DescriptionStyleModel",
          "state": {
            "_view_name": "StyleView",
            "_model_name": "DescriptionStyleModel",
            "description_width": "",
            "_view_module": "@jupyter-widgets/base",
            "_model_module_version": "1.5.0",
            "_view_count": null,
            "_view_module_version": "1.2.0",
            "_model_module": "@jupyter-widgets/controls"
          }
        },
        "37d9f44a976e43d5bc424be4d00242a1": {
          "model_module": "@jupyter-widgets/base",
          "model_name": "LayoutModel",
          "state": {
            "_view_name": "LayoutView",
            "grid_template_rows": null,
            "right": null,
            "justify_content": null,
            "_view_module": "@jupyter-widgets/base",
            "overflow": null,
            "_model_module_version": "1.2.0",
            "_view_count": null,
            "flex_flow": null,
            "width": null,
            "min_width": null,
            "border": null,
            "align_items": null,
            "bottom": null,
            "_model_module": "@jupyter-widgets/base",
            "top": null,
            "grid_column": null,
            "overflow_y": null,
            "overflow_x": null,
            "grid_auto_flow": null,
            "grid_area": null,
            "grid_template_columns": null,
            "flex": null,
            "_model_name": "LayoutModel",
            "justify_items": null,
            "grid_row": null,
            "max_height": null,
            "align_content": null,
            "visibility": null,
            "align_self": null,
            "height": null,
            "min_height": null,
            "padding": null,
            "grid_auto_rows": null,
            "grid_gap": null,
            "max_width": null,
            "order": null,
            "_view_module_version": "1.2.0",
            "grid_template_areas": null,
            "object_position": null,
            "object_fit": null,
            "grid_auto_columns": null,
            "margin": null,
            "display": null,
            "left": null
          }
        },
        "9fd4f1fc5e95447e84b5afd17c4367dd": {
          "model_module": "@jupyter-widgets/controls",
          "model_name": "HBoxModel",
          "state": {
            "_view_name": "HBoxView",
            "_dom_classes": [],
            "_model_name": "HBoxModel",
            "_view_module": "@jupyter-widgets/controls",
            "_model_module_version": "1.5.0",
            "_view_count": null,
            "_view_module_version": "1.5.0",
            "box_style": "",
            "layout": "IPY_MODEL_8de93d699f824309b7081640f3949d75",
            "_model_module": "@jupyter-widgets/controls",
            "children": [
              "IPY_MODEL_60b5f2f0b5094dc2b4229b8206309674",
              "IPY_MODEL_351bb13d9c5f4216a48eea882869f0ba"
            ]
          }
        },
        "8de93d699f824309b7081640f3949d75": {
          "model_module": "@jupyter-widgets/base",
          "model_name": "LayoutModel",
          "state": {
            "_view_name": "LayoutView",
            "grid_template_rows": null,
            "right": null,
            "justify_content": null,
            "_view_module": "@jupyter-widgets/base",
            "overflow": null,
            "_model_module_version": "1.2.0",
            "_view_count": null,
            "flex_flow": null,
            "width": null,
            "min_width": null,
            "border": null,
            "align_items": null,
            "bottom": null,
            "_model_module": "@jupyter-widgets/base",
            "top": null,
            "grid_column": null,
            "overflow_y": null,
            "overflow_x": null,
            "grid_auto_flow": null,
            "grid_area": null,
            "grid_template_columns": null,
            "flex": null,
            "_model_name": "LayoutModel",
            "justify_items": null,
            "grid_row": null,
            "max_height": null,
            "align_content": null,
            "visibility": null,
            "align_self": null,
            "height": null,
            "min_height": null,
            "padding": null,
            "grid_auto_rows": null,
            "grid_gap": null,
            "max_width": null,
            "order": null,
            "_view_module_version": "1.2.0",
            "grid_template_areas": null,
            "object_position": null,
            "object_fit": null,
            "grid_auto_columns": null,
            "margin": null,
            "display": null,
            "left": null
          }
        },
        "60b5f2f0b5094dc2b4229b8206309674": {
          "model_module": "@jupyter-widgets/controls",
          "model_name": "FloatProgressModel",
          "state": {
            "_view_name": "ProgressView",
            "style": "IPY_MODEL_bb8d07c1b44245c3a5b931b3f963b17d",
            "_dom_classes": [],
            "description": "",
            "_model_name": "FloatProgressModel",
            "bar_style": "success",
            "max": 1,
            "_view_module": "@jupyter-widgets/controls",
            "_model_module_version": "1.5.0",
            "value": 1,
            "_view_count": null,
            "_view_module_version": "1.5.0",
            "orientation": "horizontal",
            "min": 0,
            "description_tooltip": null,
            "_model_module": "@jupyter-widgets/controls",
            "layout": "IPY_MODEL_1b13ec83d2d84850bc2dbea3993d7008"
          }
        },
        "351bb13d9c5f4216a48eea882869f0ba": {
          "model_module": "@jupyter-widgets/controls",
          "model_name": "HTMLModel",
          "state": {
            "_view_name": "HTMLView",
            "style": "IPY_MODEL_bd4eb05f9d2b484b94940b42f36e5bab",
            "_dom_classes": [],
            "description": "",
            "_model_name": "HTMLModel",
            "placeholder": "​",
            "_view_module": "@jupyter-widgets/controls",
            "_model_module_version": "1.5.0",
            "value": " 1654784/? [00:00&lt;00:00, 2262083.51it/s]",
            "_view_count": null,
            "_view_module_version": "1.5.0",
            "description_tooltip": null,
            "_model_module": "@jupyter-widgets/controls",
            "layout": "IPY_MODEL_4361bdaaddeb4e8589343c118b27ecd1"
          }
        },
        "bb8d07c1b44245c3a5b931b3f963b17d": {
          "model_module": "@jupyter-widgets/controls",
          "model_name": "ProgressStyleModel",
          "state": {
            "_view_name": "StyleView",
            "_model_name": "ProgressStyleModel",
            "description_width": "initial",
            "_view_module": "@jupyter-widgets/base",
            "_model_module_version": "1.5.0",
            "_view_count": null,
            "_view_module_version": "1.2.0",
            "bar_color": null,
            "_model_module": "@jupyter-widgets/controls"
          }
        },
        "1b13ec83d2d84850bc2dbea3993d7008": {
          "model_module": "@jupyter-widgets/base",
          "model_name": "LayoutModel",
          "state": {
            "_view_name": "LayoutView",
            "grid_template_rows": null,
            "right": null,
            "justify_content": null,
            "_view_module": "@jupyter-widgets/base",
            "overflow": null,
            "_model_module_version": "1.2.0",
            "_view_count": null,
            "flex_flow": null,
            "width": null,
            "min_width": null,
            "border": null,
            "align_items": null,
            "bottom": null,
            "_model_module": "@jupyter-widgets/base",
            "top": null,
            "grid_column": null,
            "overflow_y": null,
            "overflow_x": null,
            "grid_auto_flow": null,
            "grid_area": null,
            "grid_template_columns": null,
            "flex": null,
            "_model_name": "LayoutModel",
            "justify_items": null,
            "grid_row": null,
            "max_height": null,
            "align_content": null,
            "visibility": null,
            "align_self": null,
            "height": null,
            "min_height": null,
            "padding": null,
            "grid_auto_rows": null,
            "grid_gap": null,
            "max_width": null,
            "order": null,
            "_view_module_version": "1.2.0",
            "grid_template_areas": null,
            "object_position": null,
            "object_fit": null,
            "grid_auto_columns": null,
            "margin": null,
            "display": null,
            "left": null
          }
        },
        "bd4eb05f9d2b484b94940b42f36e5bab": {
          "model_module": "@jupyter-widgets/controls",
          "model_name": "DescriptionStyleModel",
          "state": {
            "_view_name": "StyleView",
            "_model_name": "DescriptionStyleModel",
            "description_width": "",
            "_view_module": "@jupyter-widgets/base",
            "_model_module_version": "1.5.0",
            "_view_count": null,
            "_view_module_version": "1.2.0",
            "_model_module": "@jupyter-widgets/controls"
          }
        },
        "4361bdaaddeb4e8589343c118b27ecd1": {
          "model_module": "@jupyter-widgets/base",
          "model_name": "LayoutModel",
          "state": {
            "_view_name": "LayoutView",
            "grid_template_rows": null,
            "right": null,
            "justify_content": null,
            "_view_module": "@jupyter-widgets/base",
            "overflow": null,
            "_model_module_version": "1.2.0",
            "_view_count": null,
            "flex_flow": null,
            "width": null,
            "min_width": null,
            "border": null,
            "align_items": null,
            "bottom": null,
            "_model_module": "@jupyter-widgets/base",
            "top": null,
            "grid_column": null,
            "overflow_y": null,
            "overflow_x": null,
            "grid_auto_flow": null,
            "grid_area": null,
            "grid_template_columns": null,
            "flex": null,
            "_model_name": "LayoutModel",
            "justify_items": null,
            "grid_row": null,
            "max_height": null,
            "align_content": null,
            "visibility": null,
            "align_self": null,
            "height": null,
            "min_height": null,
            "padding": null,
            "grid_auto_rows": null,
            "grid_gap": null,
            "max_width": null,
            "order": null,
            "_view_module_version": "1.2.0",
            "grid_template_areas": null,
            "object_position": null,
            "object_fit": null,
            "grid_auto_columns": null,
            "margin": null,
            "display": null,
            "left": null
          }
        },
        "ffb3feec55e6481c9f7eadbb200427ac": {
          "model_module": "@jupyter-widgets/controls",
          "model_name": "HBoxModel",
          "state": {
            "_view_name": "HBoxView",
            "_dom_classes": [],
            "_model_name": "HBoxModel",
            "_view_module": "@jupyter-widgets/controls",
            "_model_module_version": "1.5.0",
            "_view_count": null,
            "_view_module_version": "1.5.0",
            "box_style": "",
            "layout": "IPY_MODEL_8458eb30f9b9447bb59656c32584508f",
            "_model_module": "@jupyter-widgets/controls",
            "children": [
              "IPY_MODEL_f132a0283f4f483bab90d2754ad947b7",
              "IPY_MODEL_ea317dda3fb241ccab071f3bacadc75c"
            ]
          }
        },
        "8458eb30f9b9447bb59656c32584508f": {
          "model_module": "@jupyter-widgets/base",
          "model_name": "LayoutModel",
          "state": {
            "_view_name": "LayoutView",
            "grid_template_rows": null,
            "right": null,
            "justify_content": null,
            "_view_module": "@jupyter-widgets/base",
            "overflow": null,
            "_model_module_version": "1.2.0",
            "_view_count": null,
            "flex_flow": null,
            "width": null,
            "min_width": null,
            "border": null,
            "align_items": null,
            "bottom": null,
            "_model_module": "@jupyter-widgets/base",
            "top": null,
            "grid_column": null,
            "overflow_y": null,
            "overflow_x": null,
            "grid_auto_flow": null,
            "grid_area": null,
            "grid_template_columns": null,
            "flex": null,
            "_model_name": "LayoutModel",
            "justify_items": null,
            "grid_row": null,
            "max_height": null,
            "align_content": null,
            "visibility": null,
            "align_self": null,
            "height": null,
            "min_height": null,
            "padding": null,
            "grid_auto_rows": null,
            "grid_gap": null,
            "max_width": null,
            "order": null,
            "_view_module_version": "1.2.0",
            "grid_template_areas": null,
            "object_position": null,
            "object_fit": null,
            "grid_auto_columns": null,
            "margin": null,
            "display": null,
            "left": null
          }
        },
        "f132a0283f4f483bab90d2754ad947b7": {
          "model_module": "@jupyter-widgets/controls",
          "model_name": "FloatProgressModel",
          "state": {
            "_view_name": "ProgressView",
            "style": "IPY_MODEL_41474400369944819c345762dbb3d3e2",
            "_dom_classes": [],
            "description": "",
            "_model_name": "FloatProgressModel",
            "bar_style": "success",
            "max": 1,
            "_view_module": "@jupyter-widgets/controls",
            "_model_module_version": "1.5.0",
            "value": 1,
            "_view_count": null,
            "_view_module_version": "1.5.0",
            "orientation": "horizontal",
            "min": 0,
            "description_tooltip": null,
            "_model_module": "@jupyter-widgets/controls",
            "layout": "IPY_MODEL_cc2fd60185f04fbca0069f17d4c10948"
          }
        },
        "ea317dda3fb241ccab071f3bacadc75c": {
          "model_module": "@jupyter-widgets/controls",
          "model_name": "HTMLModel",
          "state": {
            "_view_name": "HTMLView",
            "style": "IPY_MODEL_44ba3e9f7a9b4bcdbab872132efc4490",
            "_dom_classes": [],
            "description": "",
            "_model_name": "HTMLModel",
            "placeholder": "​",
            "_view_module": "@jupyter-widgets/controls",
            "_model_module_version": "1.5.0",
            "value": " 8192/? [00:00&lt;00:00, 21876.10it/s]",
            "_view_count": null,
            "_view_module_version": "1.5.0",
            "description_tooltip": null,
            "_model_module": "@jupyter-widgets/controls",
            "layout": "IPY_MODEL_755b9f0ce8e943228dbf1db42767c493"
          }
        },
        "41474400369944819c345762dbb3d3e2": {
          "model_module": "@jupyter-widgets/controls",
          "model_name": "ProgressStyleModel",
          "state": {
            "_view_name": "StyleView",
            "_model_name": "ProgressStyleModel",
            "description_width": "initial",
            "_view_module": "@jupyter-widgets/base",
            "_model_module_version": "1.5.0",
            "_view_count": null,
            "_view_module_version": "1.2.0",
            "bar_color": null,
            "_model_module": "@jupyter-widgets/controls"
          }
        },
        "cc2fd60185f04fbca0069f17d4c10948": {
          "model_module": "@jupyter-widgets/base",
          "model_name": "LayoutModel",
          "state": {
            "_view_name": "LayoutView",
            "grid_template_rows": null,
            "right": null,
            "justify_content": null,
            "_view_module": "@jupyter-widgets/base",
            "overflow": null,
            "_model_module_version": "1.2.0",
            "_view_count": null,
            "flex_flow": null,
            "width": null,
            "min_width": null,
            "border": null,
            "align_items": null,
            "bottom": null,
            "_model_module": "@jupyter-widgets/base",
            "top": null,
            "grid_column": null,
            "overflow_y": null,
            "overflow_x": null,
            "grid_auto_flow": null,
            "grid_area": null,
            "grid_template_columns": null,
            "flex": null,
            "_model_name": "LayoutModel",
            "justify_items": null,
            "grid_row": null,
            "max_height": null,
            "align_content": null,
            "visibility": null,
            "align_self": null,
            "height": null,
            "min_height": null,
            "padding": null,
            "grid_auto_rows": null,
            "grid_gap": null,
            "max_width": null,
            "order": null,
            "_view_module_version": "1.2.0",
            "grid_template_areas": null,
            "object_position": null,
            "object_fit": null,
            "grid_auto_columns": null,
            "margin": null,
            "display": null,
            "left": null
          }
        },
        "44ba3e9f7a9b4bcdbab872132efc4490": {
          "model_module": "@jupyter-widgets/controls",
          "model_name": "DescriptionStyleModel",
          "state": {
            "_view_name": "StyleView",
            "_model_name": "DescriptionStyleModel",
            "description_width": "",
            "_view_module": "@jupyter-widgets/base",
            "_model_module_version": "1.5.0",
            "_view_count": null,
            "_view_module_version": "1.2.0",
            "_model_module": "@jupyter-widgets/controls"
          }
        },
        "755b9f0ce8e943228dbf1db42767c493": {
          "model_module": "@jupyter-widgets/base",
          "model_name": "LayoutModel",
          "state": {
            "_view_name": "LayoutView",
            "grid_template_rows": null,
            "right": null,
            "justify_content": null,
            "_view_module": "@jupyter-widgets/base",
            "overflow": null,
            "_model_module_version": "1.2.0",
            "_view_count": null,
            "flex_flow": null,
            "width": null,
            "min_width": null,
            "border": null,
            "align_items": null,
            "bottom": null,
            "_model_module": "@jupyter-widgets/base",
            "top": null,
            "grid_column": null,
            "overflow_y": null,
            "overflow_x": null,
            "grid_auto_flow": null,
            "grid_area": null,
            "grid_template_columns": null,
            "flex": null,
            "_model_name": "LayoutModel",
            "justify_items": null,
            "grid_row": null,
            "max_height": null,
            "align_content": null,
            "visibility": null,
            "align_self": null,
            "height": null,
            "min_height": null,
            "padding": null,
            "grid_auto_rows": null,
            "grid_gap": null,
            "max_width": null,
            "order": null,
            "_view_module_version": "1.2.0",
            "grid_template_areas": null,
            "object_position": null,
            "object_fit": null,
            "grid_auto_columns": null,
            "margin": null,
            "display": null,
            "left": null
          }
        }
      }
    }
  },
  "cells": [
    {
      "cell_type": "markdown",
      "metadata": {
        "id": "zXeQQ-goukiT"
      },
      "source": [
        "#**Deep Learning with Pytorch**"
      ]
    },
    {
      "cell_type": "markdown",
      "metadata": {
        "id": "H1KOEbyJuxHG"
      },
      "source": [
        "## Table of Contents\n",
        "1. Data Preprocessing\n",
        "    + Dataset class, Transforms, DataLoader, Data visualization in PyTorch\n",
        "2. Task 1) Implement and train a deep neural network using PyTorch\n",
        "    + Build a Deep Neural Network using PyTorch\n",
        "    + Model training through loss calculation and backpropagation\n",
        "    + Measure the performance of the trained model\n",
        "    + Plotting the results\n",
        "3. Task 2) Implement and train a deep neural network with more layers\n",
        "\n",
        "4. Optional Tasks\n",
        "    + Use different optimizers (e.g., SGD with momentum, Adam) and check the results\n",
        "    + Preventing Overfit: Regularization Techniques\n",
        "    + Applying Batch Normalization\n",
        "    \n",
        "5. Reference\n"
      ]
    },
    {
      "cell_type": "markdown",
      "metadata": {
        "id": "9EkxOnfiMDGg"
      },
      "source": [
        "##**1. Data Loading**\n",
        "- To load your datasets smoothly, first you need to be familiar with `Dataset Class`, `Transforms`, `DataLoader` in PyTorch.\n",
        "\n"
      ]
    },
    {
      "cell_type": "markdown",
      "metadata": {
        "id": "hyC3hLCmWIXA"
      },
      "source": [
        "**1) Dataset Class**\n",
        "- `Dataset Class` is an abstract class representing a dataset. It should have the following methods:\n",
        " - __ len __ so that `len(dataset)` returns the size of the dataset.\n",
        " - __ getitem __ to support the indexing so that `dataset[i]` returns $i$-th sample.\n",
        "\n",
        "**2) Transforms**\n",
        "- Most neural networks expect the images of a fixed size. But the samples from our dataset are often not of the same size. Therefore, we need to preprocess our data sample.\n",
        "- Here, we introduce some basic transforms :\n",
        " - `ToTensor` : to convert the numpy images to torch images (Note that this is essential for implementing the network in pytorch.)\n",
        " - `Resize`: to resize the input PIL Image to the given size (It's useful when the image size is different)\n",
        " - `Normalize` : to normalize a tensor image with specific mean and standard deviation\n",
        "  - `RandomCrop` : to crop from image randomly. This is a data augementation."
      ]
    },
    {
      "cell_type": "markdown",
      "metadata": {
        "id": "JwKTmM0BfCh4"
      },
      "source": [
        "PyTorch provides a package called torchvision that has data loaders for common datasets such as Imagenet, CIFAR10, MNIST, etc. and data transformers.\n",
        "\n",
        "Now, let's load MNIST datasets which we are going to use in today's lecture.\n",
        "\n",
        "MNIST dataset is a dataset of 28 $*$ 28 pixel grayscale images of handwritten single digits between 0 and 9."
      ]
    },
    {
      "cell_type": "code",
      "metadata": {
        "id": "ueIgjM9qZvaT",
        "outputId": "aa54ad88-893e-4473-9d5d-14f5c7f49681",
        "colab": {
          "base_uri": "https://localhost:8080/",
          "height": 435,
          "referenced_widgets": [
            "c3d50a64c24049089f84044da0270d5b",
            "8e23e5ef13584023b542146e5287e428",
            "cda39f60ccdd42dabd7dd71603665f62",
            "f7afa73717654442ae5412f0a5f317dc",
            "627285dec946419c8b7aeef7e3762305",
            "8bc1f192fc0a4dbebbe266d529c842af",
            "26b78f7706d1445eb54d4e5bc3e4896b",
            "e56e3745cf0f461cafdbdd84cf7f4488",
            "f34f225feb44483c8d760b5c1fa11ff1",
            "08ccff11681d4262add5f6d3d027d94c",
            "b389d632c9e94260b2e3c627ce65833c",
            "1e733419ac4b424ba3eaff02795ade6c",
            "c89dda62e6f24f93a6eef76c90a8aa39",
            "ba5cfcb1d6d449778574d3ddca58250f",
            "ee8181fe115d47a0b91ebf356670260e",
            "37d9f44a976e43d5bc424be4d00242a1",
            "9fd4f1fc5e95447e84b5afd17c4367dd",
            "8de93d699f824309b7081640f3949d75",
            "60b5f2f0b5094dc2b4229b8206309674",
            "351bb13d9c5f4216a48eea882869f0ba",
            "bb8d07c1b44245c3a5b931b3f963b17d",
            "1b13ec83d2d84850bc2dbea3993d7008",
            "bd4eb05f9d2b484b94940b42f36e5bab",
            "4361bdaaddeb4e8589343c118b27ecd1",
            "ffb3feec55e6481c9f7eadbb200427ac",
            "8458eb30f9b9447bb59656c32584508f",
            "f132a0283f4f483bab90d2754ad947b7",
            "ea317dda3fb241ccab071f3bacadc75c",
            "41474400369944819c345762dbb3d3e2",
            "cc2fd60185f04fbca0069f17d4c10948",
            "44ba3e9f7a9b4bcdbab872132efc4490",
            "755b9f0ce8e943228dbf1db42767c493"
          ]
        }
      },
      "source": [
        "import torch\n",
        "from torchvision import datasets, transforms\n",
        "\n",
        "train_dataset = datasets.MNIST(root='./data', train=True, transform=transforms.ToTensor(), download=True) # The output of torchvision datasets are PILImage images of range [0,1]. We transforms them to Tensors of normalized range [-1,1] Using ToTensor()\n",
        "test_dataset = datasets.MNIST(root='./data', train=False, transform=transforms.ToTensor(), download=True)"
      ],
      "execution_count": null,
      "outputs": [
        {
          "output_type": "stream",
          "text": [
            "Downloading http://yann.lecun.com/exdb/mnist/train-images-idx3-ubyte.gz to ./data/MNIST/raw/train-images-idx3-ubyte.gz\n"
          ],
          "name": "stdout"
        },
        {
          "output_type": "display_data",
          "data": {
            "application/vnd.jupyter.widget-view+json": {
              "model_id": "c3d50a64c24049089f84044da0270d5b",
              "version_minor": 0,
              "version_major": 2
            },
            "text/plain": [
              "HBox(children=(FloatProgress(value=1.0, bar_style='info', max=1.0), HTML(value='')))"
            ]
          },
          "metadata": {
            "tags": []
          }
        },
        {
          "output_type": "stream",
          "text": [
            "Extracting ./data/MNIST/raw/train-images-idx3-ubyte.gz to ./data/MNIST/raw\n",
            "Downloading http://yann.lecun.com/exdb/mnist/train-labels-idx1-ubyte.gz to ./data/MNIST/raw/train-labels-idx1-ubyte.gz\n"
          ],
          "name": "stdout"
        },
        {
          "output_type": "display_data",
          "data": {
            "application/vnd.jupyter.widget-view+json": {
              "model_id": "f34f225feb44483c8d760b5c1fa11ff1",
              "version_minor": 0,
              "version_major": 2
            },
            "text/plain": [
              "HBox(children=(FloatProgress(value=1.0, bar_style='info', max=1.0), HTML(value='')))"
            ]
          },
          "metadata": {
            "tags": []
          }
        },
        {
          "output_type": "stream",
          "text": [
            "Extracting ./data/MNIST/raw/train-labels-idx1-ubyte.gz to ./data/MNIST/raw\n",
            "Downloading http://yann.lecun.com/exdb/mnist/t10k-images-idx3-ubyte.gz to ./data/MNIST/raw/t10k-images-idx3-ubyte.gz\n"
          ],
          "name": "stdout"
        },
        {
          "output_type": "display_data",
          "data": {
            "application/vnd.jupyter.widget-view+json": {
              "model_id": "9fd4f1fc5e95447e84b5afd17c4367dd",
              "version_minor": 0,
              "version_major": 2
            },
            "text/plain": [
              "HBox(children=(FloatProgress(value=1.0, bar_style='info', max=1.0), HTML(value='')))"
            ]
          },
          "metadata": {
            "tags": []
          }
        },
        {
          "output_type": "stream",
          "text": [
            "Extracting ./data/MNIST/raw/t10k-images-idx3-ubyte.gz to ./data/MNIST/raw\n",
            "Downloading http://yann.lecun.com/exdb/mnist/t10k-labels-idx1-ubyte.gz to ./data/MNIST/raw/t10k-labels-idx1-ubyte.gz\n",
            "\n",
            "\n"
          ],
          "name": "stdout"
        },
        {
          "output_type": "display_data",
          "data": {
            "application/vnd.jupyter.widget-view+json": {
              "model_id": "ffb3feec55e6481c9f7eadbb200427ac",
              "version_minor": 0,
              "version_major": 2
            },
            "text/plain": [
              "HBox(children=(FloatProgress(value=1.0, bar_style='info', max=1.0), HTML(value='')))"
            ]
          },
          "metadata": {
            "tags": []
          }
        },
        {
          "output_type": "stream",
          "text": [
            "Extracting ./data/MNIST/raw/t10k-labels-idx1-ubyte.gz to ./data/MNIST/raw\n",
            "Processing...\n",
            "Done!\n",
            "\n"
          ],
          "name": "stdout"
        },
        {
          "output_type": "stream",
          "text": [
            "/usr/local/lib/python3.6/dist-packages/torchvision/datasets/mnist.py:469: UserWarning: The given NumPy array is not writeable, and PyTorch does not support non-writeable tensors. This means you can write to the underlying (supposedly non-writeable) NumPy array using the tensor. You may want to copy the array to protect its data or make it writeable before converting it to a tensor. This type of warning will be suppressed for the rest of this program. (Triggered internally at  /pytorch/torch/csrc/utils/tensor_numpy.cpp:141.)\n",
            "  return torch.from_numpy(parsed.astype(m[2], copy=False)).view(*s)\n"
          ],
          "name": "stderr"
        }
      ]
    },
    {
      "cell_type": "markdown",
      "metadata": {
        "id": "p6Sxg_RfEwTW"
      },
      "source": [
        "You can check the size of training and test dataset"
      ]
    },
    {
      "cell_type": "code",
      "metadata": {
        "id": "OTGBWM6PErps",
        "outputId": "2e0c36b3-06b2-4001-fc9c-2cd1ba251eb9",
        "colab": {
          "base_uri": "https://localhost:8080/"
        }
      },
      "source": [
        "print('\\nThe size of training dataset :', len(train_dataset))\n",
        "print('\\nThe size of test dataset :', len(test_dataset))"
      ],
      "execution_count": null,
      "outputs": [
        {
          "output_type": "stream",
          "text": [
            "\n",
            "The size of training dataset : 60000\n",
            "\n",
            "The size of test dataset : 10000\n"
          ],
          "name": "stdout"
        }
      ]
    },
    {
      "cell_type": "markdown",
      "metadata": {
        "id": "DfSR1c12WJ2X"
      },
      "source": [
        "**3) DataLoader**\n",
        "\n",
        "-  We are losing a lot of features by using a simple `for` loop to iterate over the data(full batch). So, in practice, we use a part of the entire samples(called the batch) to obtain a gradient of a cost fucntion (in other words, to implement stochastic gradient descent). To this end, we need to batch and shuffle the data and these are conducted by `DataLoader` in PyTorch\n"
      ]
    },
    {
      "cell_type": "code",
      "metadata": {
        "id": "e9Ng0qmdWVE3",
        "outputId": "ecd47a2f-950d-4962-cde8-580f8be7dc64",
        "colab": {
          "base_uri": "https://localhost:8080/"
        }
      },
      "source": [
        "batch_size = 64 # Set the batch size you want\n",
        "\n",
        "train_loader = torch.utils.data.DataLoader(dataset=train_dataset, batch_size=batch_size, shuffle=True) # Shuffle argument controls data shuffling for stochastic gradient descent\n",
        "test_loader = torch.utils.data.DataLoader(dataset=test_dataset, batch_size=batch_size, shuffle=False)\n",
        "\n",
        "# Usually used as follows.\n",
        "for (images, labels) in train_loader:\n",
        "    print(images.shape)\n",
        "    print(labels.shape)\n",
        "    ####################\n",
        "    #    statements  \n",
        "    ####################\n",
        "    break "
      ],
      "execution_count": null,
      "outputs": [
        {
          "output_type": "stream",
          "text": [
            "torch.Size([64, 1, 28, 28])\n",
            "torch.Size([64])\n"
          ],
          "name": "stdout"
        }
      ]
    },
    {
      "cell_type": "markdown",
      "metadata": {
        "id": "V0GdIBLPiWbp"
      },
      "source": [
        "4) Data Visualization\n",
        "- We can visualize our input images. It can be implemented by the following code."
      ]
    },
    {
      "cell_type": "code",
      "metadata": {
        "id": "5-y81wPWDMd0",
        "outputId": "e161d3dd-693b-476c-9bfb-855f9271471a",
        "colab": {
          "base_uri": "https://localhost:8080/",
          "height": 265
        }
      },
      "source": [
        "import numpy as np\n",
        "import matplotlib.pyplot as plt\n",
        "import torchvision\n",
        "\n",
        "dataiter = iter(train_loader)\n",
        "inputs, labels = dataiter.next()\n",
        "\n",
        "figure = plt.figure()\n",
        "plt.imshow(inputs[0].numpy().squeeze(), cmap='gray_r') # We can see a first image of a batch\n",
        "plt.show()"
      ],
      "execution_count": null,
      "outputs": [
        {
          "output_type": "display_data",
          "data": {
            "image/png": "[encoded data removed]",
            "text/plain": [
              "<Figure size 432x288 with 1 Axes>"
            ]
          },
          "metadata": {
            "tags": [],
            "needs_background": "light"
          }
        }
      ]
    },
    {
      "cell_type": "markdown",
      "metadata": {
        "id": "ZUdFSiWyGNiK"
      },
      "source": [
        "## **Task 1) Implement and train a deep neural network using PyTorch**"
      ]
    },
    {
      "cell_type": "markdown",
      "metadata": {
        "id": "E4-4tBpMGsNp"
      },
      "source": [
        "### **1. Defining our Model**\n",
        "\n",
        "- In this practice session, we will build a small MLP(only consists of Fully-Connected Layers) model. \n",
        "- As you learned in the last lecture, an linear operation is computed in the Fully-Connected Layer which means the following :\n",
        "\n",
        " $\\mathbf{Y} = \\mathbf{X}\\mathbf{W} + \\mathbf{b}$ where $\\mathbf{W} \\in \\mathbf{R}^{ \\ previous\\_layer\\_size \\times next\\_layer\\_size}$ and $\\mathbf{b}$ $\\in \\mathbf{R}^{next\\_layer\\_size}$\n",
        "\n",
        "- And then, after passing through the linear layer, activation function (e.g., ReLU) is applied to give non-linearity except for the output layer. In the output layer, Softmax function is used for multi-class classification.\n",
        "\n",
        " ReLU(x) = max(0,x)\n",
        "\n",
        " $\\tilde{y}_{i}$ = $[Softmax(x)]_i$ = $\\frac{e^{x_i}}{\\sum_{j=1}^{C}e^{x_k}}$ where $x = [x_1, x_2, \\ldots, x_C]$ and C is the number of classes\n",
        "\n",
        "Let's make a model with 3 layers (2 hidden layers)."
      ]
    },
    {
      "cell_type": "markdown",
      "metadata": {
        "id": "PXeNnjqXG0jG"
      },
      "source": [
        "![그림2.png](data:image/png;base64,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)"
      ]
    },
    {
      "cell_type": "code",
      "metadata": {
        "id": "pIynK-Qgjn6_"
      },
      "source": [
        "import torch.nn as nn\n",
        "import torch.nn.functional as F\n",
        "\n",
        "class Mynetwork(nn.Module):\n",
        "\n",
        "    def __init__(self):\n",
        "\n",
        "        super(Mynetwork, self).__init__()\n",
        "        # torch.nn.Linear(size of each input sample, size of each output sample)\n",
        "        self.fc1 = nn.Linear(784,390) # Input size should be 784 (28*28*1) and output size is the size of first hidden layer(your design parameter).\n",
        "        self.fc2 = nn.Linear(390, 200) # Input size should be the size of first hidden layer and output size is the size of second hidden layer(your design parameter).\n",
        "        self.fc3 = nn.Linear(200, 10) # Input size should be the size of second hidden layer and output size should be 10 (the number of classes).\n",
        "        \n",
        "    def forward(self, x):\n",
        "\n",
        "        x = x.view(-1, 1*28*28) # Change the shape([batch_size, channels, row, col]) to [batch_size, channels*row*col] for fully-connected layer\n",
        "        x = F.relu(self.fc1(x)) # Use relu function after fully-connected layer\n",
        "        x = F.relu(self.fc2(x))\n",
        "        x = self.fc3(x) # Note that softmax function is not applied here.\n",
        "\n",
        "        return x"
      ],
      "execution_count": null,
      "outputs": []
    },
    {
      "cell_type": "markdown",
      "metadata": {
        "id": "1nTEhh8SnwRg"
      },
      "source": [
        "Then, let's check our model."
      ]
    },
    {
      "cell_type": "code",
      "metadata": {
        "id": "MZzQBXihobUb",
        "outputId": "01ae72dd-844b-480e-cc0a-3be9e201c0d2",
        "colab": {
          "base_uri": "https://localhost:8080/"
        }
      },
      "source": [
        "model = Mynetwork()\n",
        "input_test = torch.randn(64,1,28,28)  # shape: [batch_size, channels, row, col]\n",
        "output = model(input_test)  # output shape: [batch_size, the number of classes]\n",
        "print(output.size())"
      ],
      "execution_count": null,
      "outputs": [
        {
          "output_type": "stream",
          "text": [
            "torch.Size([64, 10])\n"
          ],
          "name": "stdout"
        }
      ]
    },
    {
      "cell_type": "markdown",
      "metadata": {
        "id": "RVo-hM9IpS5W"
      },
      "source": [
        "### **2. Training and Evaluation**\n",
        "**Training** : Once the data is loaded and the model is defined, we can train the deep neural network.\n",
        "- Set parameters for training,\n",
        "    - Epoch, optimizer, learning rate and loss function\n",
        "- 1) Pass the input through the model to get the output (forward propagation)\n",
        "```python\n",
        "    outputs = model(inputs) \n",
        "```\n",
        "- 2) Compute loss using the obtained output and true label\n",
        "```python\n",
        "    loss = criterion(outputs, labels) \n",
        "```\n",
        "- 3) Obtain the gradient of each parameters by implementing backpropagation\n",
        "```python\n",
        "    loss.backward() \n",
        "```\n",
        "- 4) Perform a parameters update via optimizer using the computed gradient \n",
        "```python\n",
        "     optimizer.step() \n",
        "```\n",
        "\n",
        "**Evaluation** : After finishing training, we calculate accuracy of the test data to measure the performance of the models we obtained through training.\n",
        "\n"
      ]
    },
    {
      "cell_type": "markdown",
      "metadata": {
        "id": "p-r-Iv6biw7u"
      },
      "source": [
        "Before training, load the data and define the model again."
      ]
    },
    {
      "cell_type": "code",
      "metadata": {
        "id": "DbWZB-jPYcXK",
        "outputId": "35ba9f09-b864-4149-acde-0734a6399f38",
        "colab": {
          "base_uri": "https://localhost:8080/"
        }
      },
      "source": [
        "import numpy as np\n",
        "import torch\n",
        "import torch.nn.functional as F\n",
        "import torch.nn as nn\n",
        "import torchvision\n",
        "\n",
        "from torch.utils.data import Dataset\n",
        "from torch.utils.data import DataLoader\n",
        "\n",
        "from torchvision import datasets, transforms\n",
        "import torch.optim as optim\n",
        "\n",
        "from tqdm import tqdm\n",
        "\n",
        "################## Load data and define a model ##################\n",
        "\n",
        "# MNIST dataset load\n",
        "train_dataset = datasets.MNIST(root='./data', train=True, transform=transforms.ToTensor(), download=True) # The output of torchvision datasets are PILImage images of range [0,1]. We transforms them to Tensors of normalized range [-1,1] Using ToTensor()\n",
        "test_dataset = datasets.MNIST(root='./data', train=False, transform=transforms.ToTensor(), download=True)\n",
        "\n",
        "\n",
        "batch_size = 64 # Set the batch size you want\n",
        "\n",
        "#Make train and test loader\n",
        "train_loader = torch.utils.data.DataLoader(dataset=train_dataset, batch_size=batch_size, shuffle=True) # Shuffle argument controls data shuffling for stochastic gradient descent\n",
        "test_loader = torch.utils.data.DataLoader(dataset=test_dataset, batch_size=batch_size, shuffle=False)\n",
        "\n",
        "device = 'cuda' if torch.cuda.is_available() else 'cpu' #If we can use gpu, return 'cuda'\n",
        "\n",
        "#Make a model defined above\n",
        "model1 = Mynetwork()\n",
        "model1.to(device) # Move our model to gpu if we can use gpu\n",
        "\n"
      ],
      "execution_count": null,
      "outputs": [
        {
          "output_type": "execute_result",
          "data": {
            "text/plain": [
              "Mynetwork(\n",
              "  (fc1): Linear(in_features=784, out_features=390, bias=True)\n",
              "  (fc2): Linear(in_features=390, out_features=200, bias=True)\n",
              "  (fc3): Linear(in_features=200, out_features=10, bias=True)\n",
              ")"
            ]
          },
          "metadata": {
            "tags": []
          },
          "execution_count": 28
        }
      ]
    },
    {
      "cell_type": "markdown",
      "metadata": {
        "id": "guCR7oIlieUx"
      },
      "source": [
        "**1) Set parameters for training**\n",
        "- For multiclass classification, we use the cross entropy loss $L = -\\sum_{i=1}^{C}t_ilog(y_i)$ where $t$ is indicates a label of one-hot vector type (i.e. if true label is 4, t=[0,0,0,1,0,0,0,0,0,0]. Thus $t_4$=1 and if i is not 4, $t_i$=0)\n",
        "\n",
        "- In PyTorch, we can update the parameters of model via optimizer. Here, we use simple SGD as optimizer. \n",
        "- But you can use the other optimizers (e.g., SGD with momentum and Adam). This will be done in task3. "
      ]
    },
    {
      "cell_type": "code",
      "metadata": {
        "id": "VA4jxTVjibZb"
      },
      "source": [
        "#Set the epoch\n",
        "num_epoch = 15\n",
        "\n",
        "#Determine the type of loss\n",
        "criterion = nn.CrossEntropyLoss()\n",
        "\n",
        "#Choose an optimizer for you to use and set learning rate\n",
        "optimizer = optim.SGD(model1.parameters(), lr=0.001)"
      ],
      "execution_count": null,
      "outputs": []
    },
    {
      "cell_type": "markdown",
      "metadata": {
        "id": "E_KUuPfTpKGk"
      },
      "source": [
        "**2) Training**\n",
        "- Based on the above, the training is implemented by below function."
      ]
    },
    {
      "cell_type": "code",
      "metadata": {
        "id": "ZDQPJHmVr8k6"
      },
      "source": [
        "def train(model, device, train_loader, optimizer, criterion):\n",
        "    \n",
        "    # The layers of our model which uses dropout, batch-normalization should behave differently depending on the current phase(training or evaluation)\n",
        "    model.train() # training mode \n",
        "    \n",
        "    losses_batch = []\n",
        "\n",
        "    for idx, (inputs, labels) in enumerate(train_loader):\n",
        "        inputs, labels = inputs.to(device), labels.to(device) #Move data to gpu if we can use gpu\n",
        "        optimizer.zero_grad() # clear out the gradients to avoid accumulating with the gradients computed in previous step. \n",
        "        outputs = model(inputs) # 1) Proceed forward pass\n",
        "        loss = criterion(outputs, labels) # 2) Compute the loss by comparing the predictive outputs and the actual labels\n",
        "        losses_batch.append(loss)\n",
        "        loss.backward() # 3) Compute a gradient of a loss function by backpropagation\n",
        "        optimizer.step() # 4) Update the weight by gradient descent according to the method(SGD or SGD with momentum or Adam) we defined earlier\n",
        "\n",
        "    loss_epoch = sum(losses_batch)/len(losses_batch)\n",
        "\n",
        "    return loss_epoch"
      ],
      "execution_count": null,
      "outputs": []
    },
    {
      "cell_type": "markdown",
      "metadata": {
        "id": "2_ixrckVxZIv"
      },
      "source": [
        "**3) Evaluation**\n",
        "- Based on the above, the evaluation is implemented by below function."
      ]
    },
    {
      "cell_type": "code",
      "metadata": {
        "id": "8UmMcia9uoHH"
      },
      "source": [
        "######### Evaluation ###########\n",
        "\n",
        "def eval(model, device, test_loader):\n",
        "     \n",
        "    model.eval() # evaluation mode\n",
        "    total = 0\n",
        "    correct = 0\n",
        "\n",
        "    with torch.no_grad(): # Deactivate the autograd engine # Note that in testing time, we don't need the gradient.\n",
        "        for inputs, labels in test_loader:\n",
        "            inputs, labels = inputs.to(device), labels.to(device) #Move data to gpu if we can use gpu\n",
        "            outputs = model(inputs) # Obtain the outputs from model\n",
        "            _, predicts = torch.max(outputs.data , 1) # Make a prediction \n",
        "            total += labels.size(0)\n",
        "            correct += (predicts==labels).sum().item() # Compute the number of correct predictions\n",
        "    \n",
        "    Accuracy = 100*correct/total\n",
        "\n",
        "    print('Test Accuracy: {:.2f}%'.format(Accuracy))\n",
        "    return Accuracy"
      ],
      "execution_count": null,
      "outputs": []
    },
    {
      "cell_type": "code",
      "metadata": {
        "id": "3s3zGIYzsayi",
        "outputId": "10d97ab3-d132-41e1-f295-da6d2b01f673",
        "colab": {
          "base_uri": "https://localhost:8080/"
        }
      },
      "source": [
        "# Implement training and evaluation\n",
        "torch.manual_seed(2020) # Sets the seed for reproducibility\n",
        "\n",
        "train_loss_epoch = []\n",
        "test_acc_epoch = []\n",
        "\n",
        "for epoch in tqdm(range(num_epoch)):\n",
        "    train_loss_epoch.append(train(model1, device, train_loader, optimizer, criterion))\n",
        "    test_acc_epoch.append(eval(model1, device, test_loader))"
      ],
      "execution_count": null,
      "outputs": [
        {
          "output_type": "stream",
          "text": [
            "  7%|▋         | 1/15 [00:05<01:17,  5.53s/it]"
          ],
          "name": "stderr"
        },
        {
          "output_type": "stream",
          "text": [
            "Test Accuracy: 30.14%\n"
          ],
          "name": "stdout"
        },
        {
          "output_type": "stream",
          "text": [
            "\r 13%|█▎        | 2/15 [00:11<01:11,  5.54s/it]"
          ],
          "name": "stderr"
        },
        {
          "output_type": "stream",
          "text": [
            "Test Accuracy: 54.75%\n"
          ],
          "name": "stdout"
        },
        {
          "output_type": "stream",
          "text": [
            "\r 20%|██        | 3/15 [00:16<01:06,  5.52s/it]"
          ],
          "name": "stderr"
        },
        {
          "output_type": "stream",
          "text": [
            "Test Accuracy: 63.02%\n"
          ],
          "name": "stdout"
        },
        {
          "output_type": "stream",
          "text": [
            "\r 27%|██▋       | 4/15 [00:22<01:00,  5.53s/it]"
          ],
          "name": "stderr"
        },
        {
          "output_type": "stream",
          "text": [
            "Test Accuracy: 67.09%\n"
          ],
          "name": "stdout"
        },
        {
          "output_type": "stream",
          "text": [
            "\r 33%|███▎      | 5/15 [00:27<00:55,  5.56s/it]"
          ],
          "name": "stderr"
        },
        {
          "output_type": "stream",
          "text": [
            "Test Accuracy: 69.78%\n"
          ],
          "name": "stdout"
        },
        {
          "output_type": "stream",
          "text": [
            "\r 40%|████      | 6/15 [00:33<00:50,  5.56s/it]"
          ],
          "name": "stderr"
        },
        {
          "output_type": "stream",
          "text": [
            "Test Accuracy: 72.57%\n"
          ],
          "name": "stdout"
        },
        {
          "output_type": "stream",
          "text": [
            "\r 47%|████▋     | 7/15 [00:38<00:44,  5.57s/it]"
          ],
          "name": "stderr"
        },
        {
          "output_type": "stream",
          "text": [
            "Test Accuracy: 76.29%\n"
          ],
          "name": "stdout"
        },
        {
          "output_type": "stream",
          "text": [
            "\r 53%|█████▎    | 8/15 [00:44<00:38,  5.56s/it]"
          ],
          "name": "stderr"
        },
        {
          "output_type": "stream",
          "text": [
            "Test Accuracy: 79.09%\n"
          ],
          "name": "stdout"
        },
        {
          "output_type": "stream",
          "text": [
            "\r 60%|██████    | 9/15 [00:50<00:33,  5.57s/it]"
          ],
          "name": "stderr"
        },
        {
          "output_type": "stream",
          "text": [
            "Test Accuracy: 81.43%\n"
          ],
          "name": "stdout"
        },
        {
          "output_type": "stream",
          "text": [
            "\r 67%|██████▋   | 10/15 [00:55<00:27,  5.56s/it]"
          ],
          "name": "stderr"
        },
        {
          "output_type": "stream",
          "text": [
            "Test Accuracy: 82.71%\n"
          ],
          "name": "stdout"
        },
        {
          "output_type": "stream",
          "text": [
            "\r 73%|███████▎  | 11/15 [01:01<00:22,  5.55s/it]"
          ],
          "name": "stderr"
        },
        {
          "output_type": "stream",
          "text": [
            "Test Accuracy: 83.94%\n"
          ],
          "name": "stdout"
        },
        {
          "output_type": "stream",
          "text": [
            "\r 80%|████████  | 12/15 [01:06<00:16,  5.51s/it]"
          ],
          "name": "stderr"
        },
        {
          "output_type": "stream",
          "text": [
            "Test Accuracy: 85.05%\n"
          ],
          "name": "stdout"
        },
        {
          "output_type": "stream",
          "text": [
            "\r 87%|████████▋ | 13/15 [01:12<00:11,  5.50s/it]"
          ],
          "name": "stderr"
        },
        {
          "output_type": "stream",
          "text": [
            "Test Accuracy: 85.81%\n"
          ],
          "name": "stdout"
        },
        {
          "output_type": "stream",
          "text": [
            "\r 93%|█████████▎| 14/15 [01:17<00:05,  5.47s/it]"
          ],
          "name": "stderr"
        },
        {
          "output_type": "stream",
          "text": [
            "Test Accuracy: 86.31%\n"
          ],
          "name": "stdout"
        },
        {
          "output_type": "stream",
          "text": [
            "100%|██████████| 15/15 [01:22<00:00,  5.52s/it]"
          ],
          "name": "stderr"
        },
        {
          "output_type": "stream",
          "text": [
            "Test Accuracy: 86.95%\n"
          ],
          "name": "stdout"
        },
        {
          "output_type": "stream",
          "text": [
            "\n"
          ],
          "name": "stderr"
        }
      ]
    },
    {
      "cell_type": "markdown",
      "metadata": {
        "id": "PApwxp3IFL9t"
      },
      "source": [
        "**4) Plotting the results**\n",
        " - We can plot the results obtained from above by using matplotlib library"
      ]
    },
    {
      "cell_type": "code",
      "metadata": {
        "id": "lko86CA582Jk",
        "outputId": "8b9fcbc5-5f57-4e13-8762-b400efb51cca",
        "colab": {
          "base_uri": "https://localhost:8080/",
          "height": 325
        }
      },
      "source": [
        "import matplotlib.pyplot as plt\n",
        "\n",
        "figure = plt.figure(figsize=(10,10))\n",
        "\n",
        "f1 = figure.add_subplot(221)\n",
        "f2 = figure.add_subplot(222)\n",
        "\n",
        "epochs = range(num_epoch)\n",
        "\n",
        "f1.plot(epochs, train_loss_epoch)\n",
        "f1.set_title('Training loss over epoch')\n",
        "f1.set_xlabel('Epoch')\n",
        "f1.set_ylabel('Training Loss')\n",
        "\n",
        "\n",
        "f2.plot(epochs, test_acc_epoch)\n",
        "f2.set_title('Test Accuracy over epoch')\n",
        "f2.set_xlabel('Epoch')\n",
        "f2.set_ylabel('Test Accuracy')\n",
        "\n",
        "plt.show()"
      ],
      "execution_count": null,
      "outputs": [
        {
          "output_type": "display_data",
          "data": {
            "image/png": "[encoded data removed]",
            "text/plain": [
              "<Figure size 720x720 with 2 Axes>"
            ]
          },
          "metadata": {
            "tags": [],
            "needs_background": "light"
          }
        }
      ]
    },
    {
      "cell_type": "markdown",
      "metadata": {
        "id": "QU-2cMW68TqD"
      },
      "source": [
        "## **Task 2) Implement and train a deep neural network with more layers**"
      ]
    },
    {
      "cell_type": "markdown",
      "metadata": {
        "id": "bUSO0CqCFhj8"
      },
      "source": [
        "![Task2.png](data:image/png;base64,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)"
      ]
    },
    {
      "cell_type": "markdown",
      "metadata": {
        "id": "iVRfWy13GTtV"
      },
      "source": [
        "In this section, you will implement a more complicated deep neural network(See Figure above).\n",
        "\n",
        "As compared to the model of task1, this model has 3 hidden layers with more parameters.\n",
        "\n",
        "You should apply ReLU activation function at the output of each linear layer except for the output layer.\n",
        "\n",
        "Refer to the Task1 and complete blanks in codeblocks below.\n"
      ]
    },
    {
      "cell_type": "markdown",
      "metadata": {
        "id": "2LqxNpV3HFGk"
      },
      "source": [
        "### **1. Defining our Model**\n"
      ]
    },
    {
      "cell_type": "code",
      "metadata": {
        "id": "mijuvAa8G-_i"
      },
      "source": [
        "import torch.nn as nn\n",
        "import torch.nn.functional as F\n",
        "\n",
        "class Deepernetwork(nn.Module):\n",
        "\n",
        "    def __init__(self):\n",
        "\n",
        "        super(Deepernetwork, self).__init__()\n",
        "        # torch.nn.Linear(size of each input sample, size of each output sample)\n",
        "        ################## Write your code here: Make 4 linear layers ####################\n",
        "        self.fc1 = nn.Linear(784, 500) \n",
        "        self.fc2 = nn.Linear(500, 300) \n",
        "        self.fc3 = nn.Linear(300, 150) \n",
        "        self.fc4 = nn.Linear(150, 10) \n",
        "        ##################################################################################\n",
        "    def forward(self, x):\n",
        "\n",
        "        x = x.view(-1, 1*28*28) # Change the shape([batch_size, channels, row, col]) to [batch_size, channels*row*col] for fully-connected layer\n",
        "        ################## Write your code here: Forward input x and return model ouput ####################\n",
        "        x = F.relu(self.fc1(x)) \n",
        "        x = F.relu(self.fc2(x))\n",
        "        x = F.relu(self.fc3(x))\n",
        "        x = self.fc4(x) \n",
        "      ######################################################################################################\n",
        "      \n",
        "        return x\n"
      ],
      "execution_count": null,
      "outputs": []
    },
    {
      "cell_type": "markdown",
      "metadata": {
        "id": "rZtDCzTrI1Ze"
      },
      "source": [
        "### **2. Training our Model**\n"
      ]
    },
    {
      "cell_type": "code",
      "metadata": {
        "id": "utBR-d-3I2TC"
      },
      "source": [
        "def train(model, device, train_loader, optimizer, criterion):\n",
        "    model.train() # training mode \n",
        "    losses_batch = []\n",
        "\n",
        "    ################## Write your code here: Compute loss and update model parameters ####################\n",
        "    ####### Actually, you can copy the code of Task1, but try to understand typing on your own. ##########\n",
        "    for idx, (inputs, labels) in enumerate(train_loader):\n",
        "        inputs, labels = inputs.to(device), labels.to(device) #Move data to gpu if we can use gpu\n",
        "        optimizer.zero_grad() # clear out the gradients to avoid accumulating with the gradients computed in previous step. \n",
        "        outputs = model(inputs) # 1) Proceed forward pass\n",
        "        loss = criterion(outputs, labels) # 2) Compute the loss by comparing the predictive outputs and the actual labels\n",
        "        losses_batch.append(loss)\n",
        "        loss.backward() # 3) Compute a gradient of a loss function by backpropagation\n",
        "        optimizer.step() # 4) Update the weight by gradient descent according to the method(SGD or SGD with momentum or Adam) we defined earlier\n",
        "\n",
        "    loss_epoch = sum(losses_batch)/len(losses_batch)\n",
        "    ######################################################################################################\n",
        "    \n",
        "    return loss_epoch"
      ],
      "execution_count": null,
      "outputs": []
    },
    {
      "cell_type": "markdown",
      "metadata": {
        "id": "Tn-4GQAHKSvP"
      },
      "source": [
        "### **3. Evaluation of our Model**\n"
      ]
    },
    {
      "cell_type": "code",
      "metadata": {
        "id": "ypbG-irAKTHl"
      },
      "source": [
        "def eval(model, device, test_loader):\n",
        "    model.eval() # evaluation mode\n",
        "    total = 0\n",
        "    correct = 0\n",
        "\n",
        "    ################## Write your code here: Obtain prediction and corresponding accuracy. ###############\n",
        "    ####### Actually, you can copy the code of Task1, but try to understand typing on your own. ##########\n",
        "    with torch.no_grad(): # Deactivate the autograd engine # Note that in testing time, we don't need the gradient.\n",
        "        for inputs, labels in test_loader:\n",
        "            inputs, labels = inputs.to(device), labels.to(device) #Move data to gpu if we can use gpu\n",
        "            outputs = model(inputs) # Obtain the outputs from model\n",
        "            _, predicts = torch.max(outputs.data , 1) # Make a prediction \n",
        "            total += labels.size(0)\n",
        "            correct += (predicts==labels).sum().item() # Compute the number of correct predictions\n",
        "    \n",
        "    Accuracy = 100*correct/total\n",
        "    ######################################################################################################  \n",
        "\n",
        "    print('Test Accuracy: {:.2f}%'.format(Accuracy))\n",
        "    return Accuracy"
      ],
      "execution_count": null,
      "outputs": []
    },
    {
      "cell_type": "markdown",
      "metadata": {
        "id": "EQQf9L3JKufs"
      },
      "source": [
        "### **4. Check your code**"
      ]
    },
    {
      "cell_type": "code",
      "metadata": {
        "id": "02VQ9D-KKuuk",
        "outputId": "2516aba6-3bdb-4352-fe4b-2e9083ec7a9a",
        "colab": {
          "base_uri": "https://localhost:8080/"
        }
      },
      "source": [
        "# train and evaluate your model\n",
        "torch.manual_seed(2020) # Sets the seed for reproducibility\n",
        "\n",
        "model2 = Deepernetwork()\n",
        "model2.to(device) # Move our model to gpu if we can use gpu\n",
        "\n",
        "#Set the epoch\n",
        "num_epoch = 15\n",
        "\n",
        "#Determine the type of loss\n",
        "criterion = nn.CrossEntropyLoss()\n",
        "\n",
        "#Choose an optimizer for you to use and set learning rate\n",
        "optimizer = optim.SGD(model2.parameters(), lr=0.001)\n",
        "\n",
        "train_loss_epoch = []\n",
        "test_acc_epoch = []\n",
        "\n",
        "for epoch in tqdm(range(num_epoch)):\n",
        "    train_loss_epoch.append(train(model2, device, train_loader, optimizer, criterion))\n",
        "    test_acc_epoch.append(eval(model2, device, test_loader))"
      ],
      "execution_count": null,
      "outputs": [
        {
          "output_type": "stream",
          "text": [
            "  7%|▋         | 1/15 [00:05<01:20,  5.77s/it]"
          ],
          "name": "stderr"
        },
        {
          "output_type": "stream",
          "text": [
            "Test Accuracy: 10.18%\n"
          ],
          "name": "stdout"
        },
        {
          "output_type": "stream",
          "text": [
            "\r 13%|█▎        | 2/15 [00:11<01:14,  5.76s/it]"
          ],
          "name": "stderr"
        },
        {
          "output_type": "stream",
          "text": [
            "Test Accuracy: 24.22%\n"
          ],
          "name": "stdout"
        },
        {
          "output_type": "stream",
          "text": [
            "\r 20%|██        | 3/15 [00:17<01:08,  5.72s/it]"
          ],
          "name": "stderr"
        },
        {
          "output_type": "stream",
          "text": [
            "Test Accuracy: 40.12%\n"
          ],
          "name": "stdout"
        },
        {
          "output_type": "stream",
          "text": [
            "\r 27%|██▋       | 4/15 [00:22<01:02,  5.72s/it]"
          ],
          "name": "stderr"
        },
        {
          "output_type": "stream",
          "text": [
            "Test Accuracy: 46.04%\n"
          ],
          "name": "stdout"
        },
        {
          "output_type": "stream",
          "text": [
            "\r 33%|███▎      | 5/15 [00:28<00:57,  5.71s/it]"
          ],
          "name": "stderr"
        },
        {
          "output_type": "stream",
          "text": [
            "Test Accuracy: 51.46%\n"
          ],
          "name": "stdout"
        },
        {
          "output_type": "stream",
          "text": [
            "\r 40%|████      | 6/15 [00:34<00:51,  5.70s/it]"
          ],
          "name": "stderr"
        },
        {
          "output_type": "stream",
          "text": [
            "Test Accuracy: 56.31%\n"
          ],
          "name": "stdout"
        },
        {
          "output_type": "stream",
          "text": [
            "\r 47%|████▋     | 7/15 [00:39<00:45,  5.68s/it]"
          ],
          "name": "stderr"
        },
        {
          "output_type": "stream",
          "text": [
            "Test Accuracy: 57.55%\n"
          ],
          "name": "stdout"
        },
        {
          "output_type": "stream",
          "text": [
            "\r 53%|█████▎    | 8/15 [00:45<00:39,  5.71s/it]"
          ],
          "name": "stderr"
        },
        {
          "output_type": "stream",
          "text": [
            "Test Accuracy: 58.37%\n"
          ],
          "name": "stdout"
        },
        {
          "output_type": "stream",
          "text": [
            "\r 60%|██████    | 9/15 [00:51<00:34,  5.68s/it]"
          ],
          "name": "stderr"
        },
        {
          "output_type": "stream",
          "text": [
            "Test Accuracy: 61.22%\n"
          ],
          "name": "stdout"
        },
        {
          "output_type": "stream",
          "text": [
            "\r 67%|██████▋   | 10/15 [00:56<00:28,  5.66s/it]"
          ],
          "name": "stderr"
        },
        {
          "output_type": "stream",
          "text": [
            "Test Accuracy: 66.99%\n"
          ],
          "name": "stdout"
        },
        {
          "output_type": "stream",
          "text": [
            "\r 73%|███████▎  | 11/15 [01:02<00:22,  5.65s/it]"
          ],
          "name": "stderr"
        },
        {
          "output_type": "stream",
          "text": [
            "Test Accuracy: 71.73%\n"
          ],
          "name": "stdout"
        },
        {
          "output_type": "stream",
          "text": [
            "\r 80%|████████  | 12/15 [01:08<00:16,  5.64s/it]"
          ],
          "name": "stderr"
        },
        {
          "output_type": "stream",
          "text": [
            "Test Accuracy: 74.59%\n"
          ],
          "name": "stdout"
        },
        {
          "output_type": "stream",
          "text": [
            "\r 87%|████████▋ | 13/15 [01:13<00:11,  5.62s/it]"
          ],
          "name": "stderr"
        },
        {
          "output_type": "stream",
          "text": [
            "Test Accuracy: 76.57%\n"
          ],
          "name": "stdout"
        },
        {
          "output_type": "stream",
          "text": [
            "\r 93%|█████████▎| 14/15 [01:19<00:05,  5.59s/it]"
          ],
          "name": "stderr"
        },
        {
          "output_type": "stream",
          "text": [
            "Test Accuracy: 78.08%\n"
          ],
          "name": "stdout"
        },
        {
          "output_type": "stream",
          "text": [
            "100%|██████████| 15/15 [01:24<00:00,  5.66s/it]"
          ],
          "name": "stderr"
        },
        {
          "output_type": "stream",
          "text": [
            "Test Accuracy: 79.82%\n"
          ],
          "name": "stdout"
        },
        {
          "output_type": "stream",
          "text": [
            "\n"
          ],
          "name": "stderr"
        }
      ]
    },
    {
      "cell_type": "markdown",
      "metadata": {
        "id": "MDhrv-k1GSRt"
      },
      "source": [
        "# **Optional Tasks**"
      ]
    },
    {
      "cell_type": "markdown",
      "metadata": {
        "id": "BP1p5xAbHIw6"
      },
      "source": [
        "### (Optional) Task 1 : Use different optimizers (e.g., SGD with momentum, Adam) and check the results\n"
      ]
    },
    {
      "cell_type": "code",
      "metadata": {
        "id": "GAIy2TQFHK5g",
        "outputId": "1298de6b-e7b1-4945-c287-3a9af1180004",
        "colab": {
          "base_uri": "https://localhost:8080/"
        }
      },
      "source": [
        "#SGD with momentum\n",
        "\n",
        "device = 'cuda' if torch.cuda.is_available() else 'cpu'\n",
        "\n",
        "model_momentum = Mynetwork()\n",
        "model_momentum.to(device)\n",
        "\n",
        "num_epoch = 15\n",
        "\n",
        "\n",
        "criterion = nn.CrossEntropyLoss()\n",
        "optimizer = optim.SGD(model_momentum.parameters(), lr=0.001, momentum=0.9)\n",
        "\n",
        "\n",
        "train_loss_epoch_momentum = []\n",
        "test_acc_epoch_momentum = []\n",
        "\n",
        "\n",
        "for epoch in tqdm(range(num_epoch)):\n",
        "    train_loss_epoch_momentum.append(train(model_momentum, device, train_loader, optimizer, criterion))\n",
        "    test_acc_epoch_momentum.append(eval(model_momentum, device, test_loader))"
      ],
      "execution_count": null,
      "outputs": [
        {
          "output_type": "stream",
          "text": [
            "  7%|▋         | 1/15 [00:05<01:19,  5.70s/it]"
          ],
          "name": "stderr"
        },
        {
          "output_type": "stream",
          "text": [
            "Test Accuracy: 82.80%\n"
          ],
          "name": "stdout"
        },
        {
          "output_type": "stream",
          "text": [
            "\r 13%|█▎        | 2/15 [00:11<01:14,  5.71s/it]"
          ],
          "name": "stderr"
        },
        {
          "output_type": "stream",
          "text": [
            "Test Accuracy: 88.39%\n"
          ],
          "name": "stdout"
        },
        {
          "output_type": "stream",
          "text": [
            "\r 20%|██        | 3/15 [00:17<01:08,  5.69s/it]"
          ],
          "name": "stderr"
        },
        {
          "output_type": "stream",
          "text": [
            "Test Accuracy: 90.01%\n"
          ],
          "name": "stdout"
        },
        {
          "output_type": "stream",
          "text": [
            "\r 27%|██▋       | 4/15 [00:22<01:02,  5.70s/it]"
          ],
          "name": "stderr"
        },
        {
          "output_type": "stream",
          "text": [
            "Test Accuracy: 91.01%\n"
          ],
          "name": "stdout"
        },
        {
          "output_type": "stream",
          "text": [
            "\r 33%|███▎      | 5/15 [00:28<00:57,  5.71s/it]"
          ],
          "name": "stderr"
        },
        {
          "output_type": "stream",
          "text": [
            "Test Accuracy: 91.88%\n"
          ],
          "name": "stdout"
        },
        {
          "output_type": "stream",
          "text": [
            "\r 40%|████      | 6/15 [00:34<00:51,  5.69s/it]"
          ],
          "name": "stderr"
        },
        {
          "output_type": "stream",
          "text": [
            "Test Accuracy: 92.30%\n"
          ],
          "name": "stdout"
        },
        {
          "output_type": "stream",
          "text": [
            "\r 47%|████▋     | 7/15 [00:39<00:45,  5.69s/it]"
          ],
          "name": "stderr"
        },
        {
          "output_type": "stream",
          "text": [
            "Test Accuracy: 92.86%\n"
          ],
          "name": "stdout"
        },
        {
          "output_type": "stream",
          "text": [
            "\r 53%|█████▎    | 8/15 [00:45<00:39,  5.67s/it]"
          ],
          "name": "stderr"
        },
        {
          "output_type": "stream",
          "text": [
            "Test Accuracy: 93.26%\n"
          ],
          "name": "stdout"
        },
        {
          "output_type": "stream",
          "text": [
            "\r 60%|██████    | 9/15 [00:51<00:33,  5.66s/it]"
          ],
          "name": "stderr"
        },
        {
          "output_type": "stream",
          "text": [
            "Test Accuracy: 93.66%\n"
          ],
          "name": "stdout"
        },
        {
          "output_type": "stream",
          "text": [
            "\r 67%|██████▋   | 10/15 [00:56<00:28,  5.65s/it]"
          ],
          "name": "stderr"
        },
        {
          "output_type": "stream",
          "text": [
            "Test Accuracy: 93.94%\n"
          ],
          "name": "stdout"
        },
        {
          "output_type": "stream",
          "text": [
            "\r 73%|███████▎  | 11/15 [01:02<00:22,  5.66s/it]"
          ],
          "name": "stderr"
        },
        {
          "output_type": "stream",
          "text": [
            "Test Accuracy: 94.14%\n"
          ],
          "name": "stdout"
        },
        {
          "output_type": "stream",
          "text": [
            "\r 80%|████████  | 12/15 [01:08<00:17,  5.68s/it]"
          ],
          "name": "stderr"
        },
        {
          "output_type": "stream",
          "text": [
            "Test Accuracy: 94.54%\n"
          ],
          "name": "stdout"
        },
        {
          "output_type": "stream",
          "text": [
            "\r 87%|████████▋ | 13/15 [01:13<00:11,  5.67s/it]"
          ],
          "name": "stderr"
        },
        {
          "output_type": "stream",
          "text": [
            "Test Accuracy: 94.78%\n"
          ],
          "name": "stdout"
        },
        {
          "output_type": "stream",
          "text": [
            "\r 93%|█████████▎| 14/15 [01:19<00:05,  5.67s/it]"
          ],
          "name": "stderr"
        },
        {
          "output_type": "stream",
          "text": [
            "Test Accuracy: 95.04%\n"
          ],
          "name": "stdout"
        },
        {
          "output_type": "stream",
          "text": [
            "100%|██████████| 15/15 [01:25<00:00,  5.67s/it]"
          ],
          "name": "stderr"
        },
        {
          "output_type": "stream",
          "text": [
            "Test Accuracy: 95.19%\n"
          ],
          "name": "stdout"
        },
        {
          "output_type": "stream",
          "text": [
            "\n"
          ],
          "name": "stderr"
        }
      ]
    },
    {
      "cell_type": "code",
      "metadata": {
        "id": "eMSZNID9H_06",
        "outputId": "8835d325-09bf-4b7b-b46a-ad3bad401953",
        "colab": {
          "base_uri": "https://localhost:8080/"
        }
      },
      "source": [
        "#Adam\n",
        "\n",
        "device = 'cuda' if torch.cuda.is_available() else 'cpu'\n",
        "\n",
        "model_Adam = Mynetwork()\n",
        "model_Adam.to(device)\n",
        "\n",
        "num_epoch = 15\n",
        "\n",
        "criterion = nn.CrossEntropyLoss()\n",
        "optimizer = optim.Adam(model_Adam.parameters(), lr=0.001, betas=(0.9,0.999))\n",
        "\n",
        "\n",
        "train_loss_epoch_Adam = []\n",
        "test_acc_epoch_Adam = []\n",
        "\n",
        "\n",
        "for epoch in tqdm(range(num_epoch)):\n",
        "    train_loss_epoch_Adam.append(train(model_Adam, device, train_loader, optimizer, criterion))\n",
        "    test_acc_epoch_Adam.append(eval(model_Adam, device, test_loader))"
      ],
      "execution_count": null,
      "outputs": [
        {
          "output_type": "stream",
          "text": [
            "  7%|▋         | 1/15 [00:06<01:25,  6.13s/it]"
          ],
          "name": "stderr"
        },
        {
          "output_type": "stream",
          "text": [
            "Test Accuracy: 96.64%\n"
          ],
          "name": "stdout"
        },
        {
          "output_type": "stream",
          "text": [
            "\r 13%|█▎        | 2/15 [00:12<01:19,  6.09s/it]"
          ],
          "name": "stderr"
        },
        {
          "output_type": "stream",
          "text": [
            "Test Accuracy: 97.12%\n"
          ],
          "name": "stdout"
        },
        {
          "output_type": "stream",
          "text": [
            "\r 20%|██        | 3/15 [00:18<01:12,  6.05s/it]"
          ],
          "name": "stderr"
        },
        {
          "output_type": "stream",
          "text": [
            "Test Accuracy: 97.19%\n"
          ],
          "name": "stdout"
        },
        {
          "output_type": "stream",
          "text": [
            "\r 27%|██▋       | 4/15 [00:24<01:06,  6.02s/it]"
          ],
          "name": "stderr"
        },
        {
          "output_type": "stream",
          "text": [
            "Test Accuracy: 97.85%\n"
          ],
          "name": "stdout"
        },
        {
          "output_type": "stream",
          "text": [
            "\r 33%|███▎      | 5/15 [00:30<01:00,  6.03s/it]"
          ],
          "name": "stderr"
        },
        {
          "output_type": "stream",
          "text": [
            "Test Accuracy: 98.07%\n"
          ],
          "name": "stdout"
        },
        {
          "output_type": "stream",
          "text": [
            "\r 40%|████      | 6/15 [00:36<00:54,  6.00s/it]"
          ],
          "name": "stderr"
        },
        {
          "output_type": "stream",
          "text": [
            "Test Accuracy: 97.77%\n"
          ],
          "name": "stdout"
        },
        {
          "output_type": "stream",
          "text": [
            "\r 47%|████▋     | 7/15 [00:41<00:47,  5.99s/it]"
          ],
          "name": "stderr"
        },
        {
          "output_type": "stream",
          "text": [
            "Test Accuracy: 98.17%\n"
          ],
          "name": "stdout"
        },
        {
          "output_type": "stream",
          "text": [
            "\r 53%|█████▎    | 8/15 [00:47<00:41,  5.99s/it]"
          ],
          "name": "stderr"
        },
        {
          "output_type": "stream",
          "text": [
            "Test Accuracy: 97.94%\n"
          ],
          "name": "stdout"
        },
        {
          "output_type": "stream",
          "text": [
            "\r 60%|██████    | 9/15 [00:53<00:35,  5.99s/it]"
          ],
          "name": "stderr"
        },
        {
          "output_type": "stream",
          "text": [
            "Test Accuracy: 98.16%\n"
          ],
          "name": "stdout"
        },
        {
          "output_type": "stream",
          "text": [
            "\r 67%|██████▋   | 10/15 [00:59<00:30,  6.00s/it]"
          ],
          "name": "stderr"
        },
        {
          "output_type": "stream",
          "text": [
            "Test Accuracy: 97.92%\n"
          ],
          "name": "stdout"
        },
        {
          "output_type": "stream",
          "text": [
            "\r 73%|███████▎  | 11/15 [01:06<00:24,  6.01s/it]"
          ],
          "name": "stderr"
        },
        {
          "output_type": "stream",
          "text": [
            "Test Accuracy: 98.11%\n"
          ],
          "name": "stdout"
        },
        {
          "output_type": "stream",
          "text": [
            "\r 80%|████████  | 12/15 [01:11<00:17,  6.00s/it]"
          ],
          "name": "stderr"
        },
        {
          "output_type": "stream",
          "text": [
            "Test Accuracy: 98.08%\n"
          ],
          "name": "stdout"
        },
        {
          "output_type": "stream",
          "text": [
            "\r 87%|████████▋ | 13/15 [01:18<00:12,  6.00s/it]"
          ],
          "name": "stderr"
        },
        {
          "output_type": "stream",
          "text": [
            "Test Accuracy: 98.26%\n"
          ],
          "name": "stdout"
        },
        {
          "output_type": "stream",
          "text": [
            "\r 93%|█████████▎| 14/15 [01:24<00:06,  6.05s/it]"
          ],
          "name": "stderr"
        },
        {
          "output_type": "stream",
          "text": [
            "Test Accuracy: 98.14%\n"
          ],
          "name": "stdout"
        },
        {
          "output_type": "stream",
          "text": [
            "100%|██████████| 15/15 [01:30<00:00,  6.02s/it]"
          ],
          "name": "stderr"
        },
        {
          "output_type": "stream",
          "text": [
            "Test Accuracy: 97.85%\n"
          ],
          "name": "stdout"
        },
        {
          "output_type": "stream",
          "text": [
            "\n"
          ],
          "name": "stderr"
        }
      ]
    },
    {
      "cell_type": "code",
      "metadata": {
        "id": "DpQGBopPJOdH",
        "outputId": "458722ab-5813-4bc8-cafb-7493bf825550",
        "colab": {
          "base_uri": "https://localhost:8080/",
          "height": 325
        }
      },
      "source": [
        "figure = plt.figure(figsize=(10,10))\n",
        "\n",
        "f1 = figure.add_subplot(221)\n",
        "f2 = figure.add_subplot(222)\n",
        "\n",
        "epochs = range(num_epoch)\n",
        "\n",
        "f1.plot(epochs, train_loss_epoch[:15], label='SGD')\n",
        "f1.plot(epochs, train_loss_epoch_momentum, label='SGD with momentum')\n",
        "f1.plot(epochs, train_loss_epoch_Adam, label='Adam')\n",
        "f1.legend()\n",
        "f1.set_title('Training loss over epoch')\n",
        "f1.set_xlabel('Epoch')\n",
        "f1.set_ylabel('Training Loss')\n",
        "\n",
        "f2.plot(epochs, test_acc_epoch[:15],  label='SGD ')\n",
        "f2.plot(epochs, test_acc_epoch_momentum,  label='SGD with momentum')\n",
        "f2.plot(epochs, test_acc_epoch_Adam,  label='Adam')\n",
        "f2.legend()\n",
        "f2.set_title('Test Accuracy over epoch')\n",
        "f2.set_xlabel('Epoch')\n",
        "f2.set_ylabel('Test Accuracy')\n",
        "\n",
        "plt.show()"
      ],
      "execution_count": null,
      "outputs": [
        {
          "output_type": "display_data",
          "data": {
            "image/png": "[encoded data removed]",
            "text/plain": [
              "<Figure size 720x720 with 2 Axes>"
            ]
          },
          "metadata": {
            "tags": [],
            "needs_background": "light"
          }
        }
      ]
    },
    {
      "cell_type": "markdown",
      "metadata": {
        "id": "jZV6rHFhqXn2"
      },
      "source": [
        "### (Optional) Task 2 : Preventing Overfit: Regularization Techniques"
      ]
    },
    {
      "cell_type": "markdown",
      "metadata": {
        "id": "ceRwEB56qflm"
      },
      "source": [
        "#### 1.Weight Decay - L2 (Ridge) regularization"
      ]
    },
    {
      "cell_type": "code",
      "metadata": {
        "id": "Z2z1Qo7krYk7",
        "outputId": "46ec9919-b8ef-45d2-feb2-a331eff6bfcd",
        "colab": {
          "base_uri": "https://localhost:8080/"
        }
      },
      "source": [
        "#L2 (Ridge) regularization\n",
        "\n",
        "model_L2 = Mynetwork()\n",
        "model_L2.to(device)\n",
        "\n",
        "num_epoch = 15\n",
        "\n",
        "device = 'cuda' if torch.cuda.is_available() else 'cpu'\n",
        "\n",
        "criterion = nn.CrossEntropyLoss()\n",
        "optimizer = optim.SGD(model_L2.parameters(), lr=0.001, weight_decay=0.05) # we can add L2 regularization effect by giving a weight decay parameter(lambda)\n",
        "\n",
        "\n",
        "train_loss_epoch_L2 = []\n",
        "test_acc_epoch_L2 = []\n",
        "\n",
        "\n",
        "for epoch in tqdm(range(num_epoch)):\n",
        "    train_loss_epoch_L2.append(train(model_L2, device, train_loader, optimizer, criterion))\n",
        "    test_acc_epoch_L2.append(eval(model_L2, device, test_loader))"
      ],
      "execution_count": null,
      "outputs": [
        {
          "output_type": "stream",
          "text": [
            "  7%|▋         | 1/15 [00:05<01:20,  5.78s/it]"
          ],
          "name": "stderr"
        },
        {
          "output_type": "stream",
          "text": [
            "Test Accuracy: 23.01%\n"
          ],
          "name": "stdout"
        },
        {
          "output_type": "stream",
          "text": [
            "\r 13%|█▎        | 2/15 [00:11<01:14,  5.76s/it]"
          ],
          "name": "stderr"
        },
        {
          "output_type": "stream",
          "text": [
            "Test Accuracy: 46.10%\n"
          ],
          "name": "stdout"
        },
        {
          "output_type": "stream",
          "text": [
            "\r 20%|██        | 3/15 [00:17<01:09,  5.76s/it]"
          ],
          "name": "stderr"
        },
        {
          "output_type": "stream",
          "text": [
            "Test Accuracy: 57.40%\n"
          ],
          "name": "stdout"
        },
        {
          "output_type": "stream",
          "text": [
            "\r 27%|██▋       | 4/15 [00:22<01:03,  5.75s/it]"
          ],
          "name": "stderr"
        },
        {
          "output_type": "stream",
          "text": [
            "Test Accuracy: 61.33%\n"
          ],
          "name": "stdout"
        },
        {
          "output_type": "stream",
          "text": [
            "\r 33%|███▎      | 5/15 [00:28<00:57,  5.76s/it]"
          ],
          "name": "stderr"
        },
        {
          "output_type": "stream",
          "text": [
            "Test Accuracy: 63.01%\n"
          ],
          "name": "stdout"
        },
        {
          "output_type": "stream",
          "text": [
            "\r 40%|████      | 6/15 [00:34<00:51,  5.75s/it]"
          ],
          "name": "stderr"
        },
        {
          "output_type": "stream",
          "text": [
            "Test Accuracy: 64.96%\n"
          ],
          "name": "stdout"
        },
        {
          "output_type": "stream",
          "text": [
            "\r 47%|████▋     | 7/15 [00:40<00:45,  5.74s/it]"
          ],
          "name": "stderr"
        },
        {
          "output_type": "stream",
          "text": [
            "Test Accuracy: 67.32%\n"
          ],
          "name": "stdout"
        },
        {
          "output_type": "stream",
          "text": [
            "\r 53%|█████▎    | 8/15 [00:45<00:40,  5.73s/it]"
          ],
          "name": "stderr"
        },
        {
          "output_type": "stream",
          "text": [
            "Test Accuracy: 69.46%\n"
          ],
          "name": "stdout"
        },
        {
          "output_type": "stream",
          "text": [
            "\r 60%|██████    | 9/15 [00:51<00:34,  5.71s/it]"
          ],
          "name": "stderr"
        },
        {
          "output_type": "stream",
          "text": [
            "Test Accuracy: 70.59%\n"
          ],
          "name": "stdout"
        },
        {
          "output_type": "stream",
          "text": [
            "\r 67%|██████▋   | 10/15 [00:57<00:28,  5.70s/it]"
          ],
          "name": "stderr"
        },
        {
          "output_type": "stream",
          "text": [
            "Test Accuracy: 71.81%\n"
          ],
          "name": "stdout"
        },
        {
          "output_type": "stream",
          "text": [
            "\r 73%|███████▎  | 11/15 [01:02<00:22,  5.71s/it]"
          ],
          "name": "stderr"
        },
        {
          "output_type": "stream",
          "text": [
            "Test Accuracy: 73.66%\n"
          ],
          "name": "stdout"
        },
        {
          "output_type": "stream",
          "text": [
            "\r 80%|████████  | 12/15 [01:08<00:17,  5.72s/it]"
          ],
          "name": "stderr"
        },
        {
          "output_type": "stream",
          "text": [
            "Test Accuracy: 74.85%\n"
          ],
          "name": "stdout"
        },
        {
          "output_type": "stream",
          "text": [
            "\r 87%|████████▋ | 13/15 [01:14<00:11,  5.70s/it]"
          ],
          "name": "stderr"
        },
        {
          "output_type": "stream",
          "text": [
            "Test Accuracy: 75.87%\n"
          ],
          "name": "stdout"
        },
        {
          "output_type": "stream",
          "text": [
            "\r 93%|█████████▎| 14/15 [01:20<00:05,  5.70s/it]"
          ],
          "name": "stderr"
        },
        {
          "output_type": "stream",
          "text": [
            "Test Accuracy: 77.03%\n"
          ],
          "name": "stdout"
        },
        {
          "output_type": "stream",
          "text": [
            "100%|██████████| 15/15 [01:25<00:00,  5.72s/it]"
          ],
          "name": "stderr"
        },
        {
          "output_type": "stream",
          "text": [
            "Test Accuracy: 78.05%\n"
          ],
          "name": "stdout"
        },
        {
          "output_type": "stream",
          "text": [
            "\n"
          ],
          "name": "stderr"
        }
      ]
    },
    {
      "cell_type": "markdown",
      "metadata": {
        "id": "T6UmuIxOqo4F"
      },
      "source": [
        "#### 2.Dropout"
      ]
    },
    {
      "cell_type": "code",
      "metadata": {
        "id": "QI248DNGsVKw"
      },
      "source": [
        "#Dropout\n",
        "\n",
        "class Mynetwork_dropout(nn.Module):\n",
        "\n",
        "    def __init__(self):\n",
        "\n",
        "        super(Mynetwork_dropout, self).__init__()\n",
        "        # torch.nn.Linear(size of each input sample, size of each output sample)\n",
        "        self.fc1 = nn.Linear(784,390) \n",
        "        self.fc2 = nn.Linear(390, 200) \n",
        "        self.fc3 = nn.Linear(200, 10) \n",
        "        self.dropout = nn.Dropout(p=0.2) # During training, randomly zeroes some of the elements of the input tensor with probability p using samples from a Bernoulli distribution\n",
        "\n",
        "\n",
        "    def forward(self, x):\n",
        "\n",
        "        x = x.view(-1, 1*28*28) # Change the shape([batch_size, channels, row, col]) to [batch_size, channels*row*col] for fully-connected layer\n",
        "        x = F.relu(self.fc1(x)) # Use relu function after fully-connected layer\n",
        "        x = self.dropout(x)\n",
        "        x = F.relu(self.fc2(x))\n",
        "        x = self.dropout(x)\n",
        "        x = self.fc3(x) # Softmax function is not applied here.\n",
        "\n",
        "        return x"
      ],
      "execution_count": null,
      "outputs": []
    },
    {
      "cell_type": "code",
      "metadata": {
        "id": "j5n0oelk2HG2",
        "outputId": "1d10b617-6ee4-49a8-a46b-1d8364fbc85e",
        "colab": {
          "base_uri": "https://localhost:8080/"
        }
      },
      "source": [
        "device = 'cuda' if torch.cuda.is_available() else 'cpu'\n",
        "\n",
        "model_dropout = Mynetwork_dropout()\n",
        "model_dropout.to(device)\n",
        "\n",
        "num_epoch = 15\n",
        "\n",
        "\n",
        "\n",
        "criterion = nn.CrossEntropyLoss()\n",
        "optimizer = optim.SGD(model_dropout.parameters(), lr=0.001, weight_decay=0.05)\n",
        "\n",
        "\n",
        "train_loss_epoch_DO = []\n",
        "test_acc_epoch_DO = []\n",
        "\n",
        "\n",
        "for epoch in tqdm(range(num_epoch)):\n",
        "    train_loss_epoch_DO.append(train(model_dropout, device, train_loader, optimizer, criterion))\n",
        "    test_acc_epoch_DO.append(eval(model_dropout, device, test_loader))"
      ],
      "execution_count": null,
      "outputs": [
        {
          "output_type": "stream",
          "text": [
            "  7%|▋         | 1/15 [00:05<01:22,  5.87s/it]"
          ],
          "name": "stderr"
        },
        {
          "output_type": "stream",
          "text": [
            "Test Accuracy: 23.37%\n"
          ],
          "name": "stdout"
        },
        {
          "output_type": "stream",
          "text": [
            "\r 13%|█▎        | 2/15 [00:11<01:16,  5.86s/it]"
          ],
          "name": "stderr"
        },
        {
          "output_type": "stream",
          "text": [
            "Test Accuracy: 39.79%\n"
          ],
          "name": "stdout"
        },
        {
          "output_type": "stream",
          "text": [
            "\r 20%|██        | 3/15 [00:17<01:09,  5.83s/it]"
          ],
          "name": "stderr"
        },
        {
          "output_type": "stream",
          "text": [
            "Test Accuracy: 54.19%\n"
          ],
          "name": "stdout"
        },
        {
          "output_type": "stream",
          "text": [
            "\r 27%|██▋       | 4/15 [00:23<01:04,  5.83s/it]"
          ],
          "name": "stderr"
        },
        {
          "output_type": "stream",
          "text": [
            "Test Accuracy: 60.06%\n"
          ],
          "name": "stdout"
        },
        {
          "output_type": "stream",
          "text": [
            "\r 33%|███▎      | 5/15 [00:29<00:58,  5.82s/it]"
          ],
          "name": "stderr"
        },
        {
          "output_type": "stream",
          "text": [
            "Test Accuracy: 62.20%\n"
          ],
          "name": "stdout"
        },
        {
          "output_type": "stream",
          "text": [
            "\r 40%|████      | 6/15 [00:34<00:52,  5.81s/it]"
          ],
          "name": "stderr"
        },
        {
          "output_type": "stream",
          "text": [
            "Test Accuracy: 62.80%\n"
          ],
          "name": "stdout"
        },
        {
          "output_type": "stream",
          "text": [
            "\r 47%|████▋     | 7/15 [00:40<00:46,  5.81s/it]"
          ],
          "name": "stderr"
        },
        {
          "output_type": "stream",
          "text": [
            "Test Accuracy: 64.22%\n"
          ],
          "name": "stdout"
        },
        {
          "output_type": "stream",
          "text": [
            "\r 53%|█████▎    | 8/15 [00:46<00:40,  5.81s/it]"
          ],
          "name": "stderr"
        },
        {
          "output_type": "stream",
          "text": [
            "Test Accuracy: 66.04%\n"
          ],
          "name": "stdout"
        },
        {
          "output_type": "stream",
          "text": [
            "\r 60%|██████    | 9/15 [00:52<00:34,  5.81s/it]"
          ],
          "name": "stderr"
        },
        {
          "output_type": "stream",
          "text": [
            "Test Accuracy: 67.75%\n"
          ],
          "name": "stdout"
        },
        {
          "output_type": "stream",
          "text": [
            "\r 67%|██████▋   | 10/15 [00:58<00:29,  5.81s/it]"
          ],
          "name": "stderr"
        },
        {
          "output_type": "stream",
          "text": [
            "Test Accuracy: 69.13%\n"
          ],
          "name": "stdout"
        },
        {
          "output_type": "stream",
          "text": [
            "\r 73%|███████▎  | 11/15 [01:03<00:23,  5.80s/it]"
          ],
          "name": "stderr"
        },
        {
          "output_type": "stream",
          "text": [
            "Test Accuracy: 70.91%\n"
          ],
          "name": "stdout"
        },
        {
          "output_type": "stream",
          "text": [
            "\r 80%|████████  | 12/15 [01:09<00:17,  5.78s/it]"
          ],
          "name": "stderr"
        },
        {
          "output_type": "stream",
          "text": [
            "Test Accuracy: 73.31%\n"
          ],
          "name": "stdout"
        },
        {
          "output_type": "stream",
          "text": [
            "\r 87%|████████▋ | 13/15 [01:15<00:11,  5.76s/it]"
          ],
          "name": "stderr"
        },
        {
          "output_type": "stream",
          "text": [
            "Test Accuracy: 74.94%\n"
          ],
          "name": "stdout"
        },
        {
          "output_type": "stream",
          "text": [
            "\r 93%|█████████▎| 14/15 [01:21<00:05,  5.75s/it]"
          ],
          "name": "stderr"
        },
        {
          "output_type": "stream",
          "text": [
            "Test Accuracy: 76.53%\n"
          ],
          "name": "stdout"
        },
        {
          "output_type": "stream",
          "text": [
            "100%|██████████| 15/15 [01:26<00:00,  5.79s/it]"
          ],
          "name": "stderr"
        },
        {
          "output_type": "stream",
          "text": [
            "Test Accuracy: 77.45%\n"
          ],
          "name": "stdout"
        },
        {
          "output_type": "stream",
          "text": [
            "\n"
          ],
          "name": "stderr"
        }
      ]
    },
    {
      "cell_type": "code",
      "metadata": {
        "id": "4QQ8uSCfDVdx",
        "outputId": "17ccb6e7-b71a-49cf-cfdc-7a77e8933056",
        "colab": {
          "base_uri": "https://localhost:8080/",
          "height": 325
        }
      },
      "source": [
        "figure = plt.figure(figsize=(10,10))\n",
        "\n",
        "f1 = figure.add_subplot(221)\n",
        "f2 = figure.add_subplot(222)\n",
        "\n",
        "epochs = range(num_epoch)\n",
        "\n",
        "f1.plot(epochs, train_loss_epoch_L2, label='SGD with L2 regularization')\n",
        "f1.plot(epochs, train_loss_epoch_DO, label='SGD with Dropout')\n",
        "\n",
        "f1.legend()\n",
        "f1.set_title('Training loss over epoch')\n",
        "f1.set_xlabel('Epoch')\n",
        "f1.set_ylabel('Training Loss')\n",
        "\n",
        "f2.plot(epochs, test_acc_epoch_L2,  label='SGD with L2 regularization')\n",
        "f2.plot(epochs, test_acc_epoch_DO,  label='SGD with Dropout')\n",
        "\n",
        "f2.legend()\n",
        "f2.set_title('Test Accuracy over epoch')\n",
        "f2.set_xlabel('Epoch')\n",
        "f2.set_ylabel('Test Accuracy')\n",
        "\n",
        "plt.show()"
      ],
      "execution_count": null,
      "outputs": [
        {
          "output_type": "display_data",
          "data": {
            "image/png": "[encoded data removed]",
            "text/plain": [
              "<Figure size 720x720 with 2 Axes>"
            ]
          },
          "metadata": {
            "tags": [],
            "needs_background": "light"
          }
        }
      ]
    },
    {
      "cell_type": "markdown",
      "metadata": {
        "id": "xl06BxhW3kV4"
      },
      "source": [
        "### (Optional) Task 3 : Applying Batch Normalization\n",
        " - During backpropagation, unfornuately, gradient may vanish or explode.\n",
        " - You can use batch normalization to stablize the distribution of output of each layer.\n",
        "\n",
        " ![BN 수식.png](data:image/png;base64,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)\n",
        "\n",
        "\n",
        "- The mean E\\[x] and variance Var\\[x] are calculated per-dimension oer the mini-batches and $\\gamma$ and $\\beta$ are learnable parameter.\n",
        "- You can use **torch.nn.Batchnorm1d(num_feature, ...)** to apply batch normalization."
      ]
    },
    {
      "cell_type": "code",
      "metadata": {
        "id": "uqVQ2jry3pwj"
      },
      "source": [
        "import torch.nn as nn\n",
        "import torch.nn.functional as F\n",
        "\n",
        "class BatchNormNet(nn.Module):\n",
        "\n",
        "    def __init__(self):\n",
        "\n",
        "        super(BatchNormNet, self).__init__()\n",
        "        # torch.nn.Linear(size of each input sample, size of each output sample)\n",
        "        self.fc1 = nn.Linear(784,390) # Input size should be 784 (28*28*1) and output size is the size of first hidden layer(your design parameter).\n",
        "        self.fc2 = nn.Linear(390, 200) # Input size should be the size of first hidden layer and output size is the size of second hidden layer(your design parameter).\n",
        "        self.fc3 = nn.Linear(200, 10) # Input size should be the size of second hidden layer and output size should be 10 (the number of classes).\n",
        "        self.bn1 = nn.BatchNorm1d(num_features=390)\n",
        "        self.bn2 = nn.BatchNorm1d(num_features=200)\n",
        "\n",
        "    def forward(self, x):\n",
        "\n",
        "        x = x.view(-1, 1*28*28) # Change the shape([batch_size, channels, row, col]) to [batch_size, channels*row*col] for fully-connected layer\n",
        "        x = F.relu(self.bn1(self.fc1(x))) # Use relu function after fully-connected layer\n",
        "        x = F.relu(self.bn2(self.fc2(x)))\n",
        "        x = self.fc3(x) # Note that softmax function is not applied here.\n",
        "\n",
        "        return x"
      ],
      "execution_count": null,
      "outputs": []
    },
    {
      "cell_type": "code",
      "metadata": {
        "id": "czmn71GC3q-y",
        "outputId": "b75d8058-f92a-4c47-c991-7372d82127e6",
        "colab": {
          "base_uri": "https://localhost:8080/"
        }
      },
      "source": [
        "# train and evaluate your model\n",
        "\n",
        "model_bn = BatchNormNet()\n",
        "model_bn.to(device)\n",
        "#Choose an optimizer for you to use and set learning rate\n",
        "optimizer = optim.SGD(model_bn.parameters(), lr=0.001)\n",
        "\n",
        "train_loss_epoch = []\n",
        "test_acc_epoch = []\n",
        "\n",
        "for epoch in tqdm(range(num_epoch)):\n",
        "    train_loss_epoch.append(train(model_bn, device, train_loader, optimizer, criterion))\n",
        "    test_acc_epoch.append(eval(model_bn, device, test_loader))"
      ],
      "execution_count": null,
      "outputs": [
        {
          "output_type": "stream",
          "text": [
            "  7%|▋         | 1/15 [00:05<01:23,  5.97s/it]"
          ],
          "name": "stderr"
        },
        {
          "output_type": "stream",
          "text": [
            "Test Accuracy: 87.71%\n"
          ],
          "name": "stdout"
        },
        {
          "output_type": "stream",
          "text": [
            "\r 13%|█▎        | 2/15 [00:11<01:17,  5.97s/it]"
          ],
          "name": "stderr"
        },
        {
          "output_type": "stream",
          "text": [
            "Test Accuracy: 90.69%\n"
          ],
          "name": "stdout"
        },
        {
          "output_type": "stream",
          "text": [
            "\r 20%|██        | 3/15 [00:17<01:11,  5.98s/it]"
          ],
          "name": "stderr"
        },
        {
          "output_type": "stream",
          "text": [
            "Test Accuracy: 92.05%\n"
          ],
          "name": "stdout"
        },
        {
          "output_type": "stream",
          "text": [
            "\r 27%|██▋       | 4/15 [00:23<01:05,  5.97s/it]"
          ],
          "name": "stderr"
        },
        {
          "output_type": "stream",
          "text": [
            "Test Accuracy: 92.96%\n"
          ],
          "name": "stdout"
        },
        {
          "output_type": "stream",
          "text": [
            "\r 33%|███▎      | 5/15 [00:29<00:59,  5.98s/it]"
          ],
          "name": "stderr"
        },
        {
          "output_type": "stream",
          "text": [
            "Test Accuracy: 93.53%\n"
          ],
          "name": "stdout"
        },
        {
          "output_type": "stream",
          "text": [
            "\r 40%|████      | 6/15 [00:36<00:54,  6.02s/it]"
          ],
          "name": "stderr"
        },
        {
          "output_type": "stream",
          "text": [
            "Test Accuracy: 93.80%\n"
          ],
          "name": "stdout"
        },
        {
          "output_type": "stream",
          "text": [
            "\r 47%|████▋     | 7/15 [00:42<00:48,  6.05s/it]"
          ],
          "name": "stderr"
        },
        {
          "output_type": "stream",
          "text": [
            "Test Accuracy: 94.36%\n"
          ],
          "name": "stdout"
        },
        {
          "output_type": "stream",
          "text": [
            "\r 53%|█████▎    | 8/15 [00:48<00:42,  6.02s/it]"
          ],
          "name": "stderr"
        },
        {
          "output_type": "stream",
          "text": [
            "Test Accuracy: 94.60%\n"
          ],
          "name": "stdout"
        },
        {
          "output_type": "stream",
          "text": [
            "\r 60%|██████    | 9/15 [00:54<00:36,  6.02s/it]"
          ],
          "name": "stderr"
        },
        {
          "output_type": "stream",
          "text": [
            "Test Accuracy: 94.85%\n"
          ],
          "name": "stdout"
        },
        {
          "output_type": "stream",
          "text": [
            "\r 67%|██████▋   | 10/15 [01:00<00:30,  6.01s/it]"
          ],
          "name": "stderr"
        },
        {
          "output_type": "stream",
          "text": [
            "Test Accuracy: 95.13%\n"
          ],
          "name": "stdout"
        },
        {
          "output_type": "stream",
          "text": [
            "\r 73%|███████▎  | 11/15 [01:06<00:24,  6.00s/it]"
          ],
          "name": "stderr"
        },
        {
          "output_type": "stream",
          "text": [
            "Test Accuracy: 95.40%\n"
          ],
          "name": "stdout"
        },
        {
          "output_type": "stream",
          "text": [
            "\r 80%|████████  | 12/15 [01:12<00:17,  5.99s/it]"
          ],
          "name": "stderr"
        },
        {
          "output_type": "stream",
          "text": [
            "Test Accuracy: 95.41%\n"
          ],
          "name": "stdout"
        },
        {
          "output_type": "stream",
          "text": [
            "\r 87%|████████▋ | 13/15 [01:17<00:11,  5.98s/it]"
          ],
          "name": "stderr"
        },
        {
          "output_type": "stream",
          "text": [
            "Test Accuracy: 95.61%\n"
          ],
          "name": "stdout"
        },
        {
          "output_type": "stream",
          "text": [
            "\r 93%|█████████▎| 14/15 [01:23<00:05,  5.96s/it]"
          ],
          "name": "stderr"
        },
        {
          "output_type": "stream",
          "text": [
            "Test Accuracy: 95.71%\n"
          ],
          "name": "stdout"
        },
        {
          "output_type": "stream",
          "text": [
            "100%|██████████| 15/15 [01:29<00:00,  5.99s/it]"
          ],
          "name": "stderr"
        },
        {
          "output_type": "stream",
          "text": [
            "Test Accuracy: 96.05%\n"
          ],
          "name": "stdout"
        },
        {
          "output_type": "stream",
          "text": [
            "\n"
          ],
          "name": "stderr"
        }
      ]
    },
    {
      "cell_type": "markdown",
      "metadata": {
        "id": "b250ZohtRZqe"
      },
      "source": [
        "## 6. Reference\n",
        "https://pytorch.org/tutorials/beginner/data_loading_tutorial.html?highlight=dataset%20dataloader\n",
        "\n",
        "https://wikidocs.net/57165\n",
        "\n",
        "https://machinelearningmastery.com/how-to-develop-a-convolutional-neural-network-from-scratch-for-mnist-handwritten-digit-classification/"
      ]
    }
  ]
}