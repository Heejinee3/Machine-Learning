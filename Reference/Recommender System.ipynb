{
  "nbformat": 4,
  "nbformat_minor": 0,
  "metadata": {
    "colab": {
      "name": "recommender_systems.ipynb",
      "provenance": [],
      "collapsed_sections": []
    },
    "kernelspec": {
      "display_name": "Python 3",
      "name": "python3"
    },
    "language_info": {
      "name": "python"
    }
  },
  "cells": [
    {
      "cell_type": "markdown",
      "metadata": {
        "id": "9mxzWG0juqnC"
      },
      "source": [
        "# **Chapter 21. Recommender Systems**"
      ]
    },
    {
      "cell_type": "code",
      "metadata": {
        "id": "eNbVWZQRTQnz",
        "cellView": "form"
      },
      "source": [
        "#@title\n",
        "\n",
        "import requests\n",
        "\n",
        "url = 'https://raw.githubusercontent.com/joelgrus/data-science-from-scratch/master/scratch/linear_algebra.py'\n",
        "r = requests.get(url)\n",
        "\n",
        "with open('linear_algebra.py', 'w') as f:\n",
        "    f.write(r.text)\n",
        "\n",
        "from linear_algebra import Vector, dot, add, subtract, magnitude, squared_distance, scalar_multiply\n",
        "\n",
        "url = 'https://raw.githubusercontent.com/joelgrus/data-science-from-scratch/master/scratch/probability.py'\n",
        "r = requests.get(url)\n",
        "\n",
        "with open('probability.py', 'w') as f:\n",
        "    f.write(r.text)\n",
        "\n",
        "import math\n",
        "\n",
        "from probability import inverse_normal_cdf\n",
        "\n",
        "def gradient_step(v: Vector, gradient: Vector, step_size: float) -> Vector:\n",
        "    \"\"\"Moves `step_size` in the `gradient` direction from `v`\"\"\"\n",
        "    assert len(v) == len(gradient)\n",
        "    step = scalar_multiply(step_size, gradient)\n",
        "    return add(v, step)\n",
        "    \n",
        "def error(x: Vector, y: float, beta: Vector) -> float:\n",
        "    return predict(x, beta) - y\n",
        "\n",
        "def squared_error(x: Vector, y: float, beta: Vector) -> float:\n",
        "    return error(x, y, beta) ** 2\n",
        "\n",
        "def sqerror_gradient(x: Vector, y: float, beta: Vector) -> Vector:\n",
        "    err = error(x, y, beta)\n",
        "    return [2 * err * x_i for x_i in x]\n",
        "\n",
        "###########\n",
        "\n",
        "def cosine_similarity(v1: Vector, v2: Vector) -> float:\n",
        "    return dot(v1, v2) / math.sqrt(dot(v1, v1) * dot(v2, v2))\n",
        "\n",
        "Tensor = list\n",
        "from typing import List\n",
        "\n",
        "import random\n",
        "\n",
        "def random_uniform(*dims: int) -> Tensor:\n",
        "    if len(dims) == 1:\n",
        "        return [random.random() for _ in range(dims[0])]\n",
        "    else:\n",
        "        return [random_uniform(*dims[1:]) for _ in range(dims[0])]\n",
        "\n",
        "def random_normal(*dims: int,\n",
        "                  mean: float = 0.0,\n",
        "                  variance: float = 1.0) -> Tensor:\n",
        "    if len(dims) == 1:\n",
        "        return [mean + variance * inverse_normal_cdf(random.random())\n",
        "                for _ in range(dims[0])]\n",
        "    else:\n",
        "        return [random_normal(*dims[1:], mean=mean, variance=variance)\n",
        "                for _ in range(dims[0])]\n",
        "\n",
        "def random_tensor(*dims: int, init: str = 'normal') -> Tensor:\n",
        "    if init == 'normal':\n",
        "        return random_normal(*dims)\n",
        "    elif init == 'uniform':\n",
        "        return random_uniform(*dims)\n",
        "    elif init == 'xavier':\n",
        "        variance = len(dims) / sum(dims)\n",
        "        return random_normal(*dims, variance=variance)\n",
        "    else:\n",
        "        raise ValueError(f\"unknown init: {init}\")\n",
        "\n",
        "##############\n",
        "\n",
        "def de_mean(data: List[Vector]) -> List[Vector]:\n",
        "    \"\"\"Recenters the data to have mean 0 in every dimension\"\"\"\n",
        "    mean = vector_mean(data)\n",
        "    return [subtract(vector, mean) for vector in data]\n",
        "\n",
        "def direction(w: Vector) -> Vector:\n",
        "    mag = magnitude(w)\n",
        "    return [w_i / mag for w_i in w]\n",
        "\n",
        "def directional_variance(data: List[Vector], w: Vector) -> float:\n",
        "    \"\"\"\n",
        "    Returns the variance of x in the direction of w\n",
        "    \"\"\"\n",
        "    w_dir = direction(w)\n",
        "    return sum(dot(v, w_dir) ** 2 for v in data)\n",
        "\n",
        "def directional_variance_gradient(data: List[Vector], w: Vector) -> Vector:\n",
        "    \"\"\"\n",
        "    The gradient of directional variance with respect to w\n",
        "    \"\"\"\n",
        "    w_dir = direction(w)\n",
        "    return [sum(2 * dot(v, w_dir) * v[i] for v in data)\n",
        "            for i in range(len(w))]\n",
        "\n",
        "def first_principal_component(data: List[Vector],\n",
        "                              n: int = 100,\n",
        "                              step_size: float = 0.1) -> Vector:\n",
        "    # Start with a random guess\n",
        "    guess = [1.0 for _ in data[0]]\n",
        "\n",
        "    with tqdm.trange(n) as t:\n",
        "        for _ in t:\n",
        "            dv = directional_variance(data, guess)\n",
        "            gradient = directional_variance_gradient(data, guess)\n",
        "            guess = gradient_step(guess, gradient, step_size)\n",
        "            t.set_description(f\"dv: {dv:.3f}\")\n",
        "\n",
        "    return direction(guess)\n",
        "\n",
        "def project(v: Vector, w: Vector) -> Vector:\n",
        "    \"\"\"return the projection of v onto the direction w\"\"\"\n",
        "    projection_length = dot(v, w)\n",
        "    return scalar_multiply(projection_length, w)\n",
        "\n",
        "def remove_projection_from_vector(v: Vector, w: Vector) -> Vector:\n",
        "    \"\"\"projects v onto w and subtracts the result from v\"\"\"\n",
        "    return subtract(v, project(v, w))\n",
        "\n",
        "def remove_projection(data: List[Vector], w: Vector) -> List[Vector]:\n",
        "    return [remove_projection_from_vector(v, w) for v in data]\n",
        "\n",
        "def pca(data: List[Vector], num_components: int) -> List[Vector]:\n",
        "    components: List[Vector] = []\n",
        "    for _ in range(num_components):\n",
        "        component = first_principal_component(data)\n",
        "        components.append(component)\n",
        "        data = remove_projection(data, component)\n",
        "\n",
        "    return components\n",
        "\n",
        "def transform_vector(v: Vector, components: List[Vector]) -> Vector:\n",
        "    return [dot(v, w) for w in components]\n",
        "\n",
        "def transform(data: List[Vector], components: List[Vector]) -> List[Vector]:\n",
        "    return [transform_vector(v, components) for v in data]"
      ],
      "execution_count": null,
      "outputs": []
    },
    {
      "cell_type": "markdown",
      "metadata": {
        "id": "4kQRhhOAxFBk"
      },
      "source": [
        "## **Recommending What's Popular**"
      ]
    },
    {
      "cell_type": "code",
      "metadata": {
        "id": "6ayvMPDqdM_7"
      },
      "source": [
        "users_interests = [\n",
        "    [\"Hadoop\", \"Big Data\", \"HBase\", \"Java\", \"Spark\", \"Storm\", \"Cassandra\"],\n",
        "    [\"NoSQL\", \"MongoDB\", \"Cassandra\", \"HBase\", \"Postgres\"],\n",
        "    [\"Python\", \"scikit-learn\", \"scipy\", \"numpy\", \"statsmodels\", \"pandas\"],\n",
        "    [\"R\", \"Python\", \"statistics\", \"regression\", \"probability\"],\n",
        "    [\"machine learning\", \"regression\", \"decision trees\", \"libsvm\"],\n",
        "    [\"Python\", \"R\", \"Java\", \"C++\", \"Haskell\", \"programming languages\"],\n",
        "    [\"statistics\", \"probability\", \"mathematics\", \"theory\"],\n",
        "    [\"machine learning\", \"scikit-learn\", \"Mahout\", \"neural networks\"],\n",
        "    [\"neural networks\", \"deep learning\", \"Big Data\", \"artificial intelligence\"],\n",
        "    [\"Hadoop\", \"Java\", \"MapReduce\", \"Big Data\"],\n",
        "    [\"statistics\", \"R\", \"statsmodels\"],\n",
        "    [\"C++\", \"deep learning\", \"artificial intelligence\", \"probability\"],\n",
        "    [\"pandas\", \"R\", \"Python\"],\n",
        "    [\"databases\", \"HBase\", \"Postgres\", \"MySQL\", \"MongoDB\"],\n",
        "    [\"libsvm\", \"regression\", \"support vector machines\"]\n",
        "]"
      ],
      "execution_count": null,
      "outputs": []
    },
    {
      "cell_type": "code",
      "metadata": {
        "id": "H2dNgf3vdo5v"
      },
      "source": [
        "from collections import Counter\n",
        "\n",
        "popular_interests = Counter(interest\n",
        "                            for user_interests in users_interests\n",
        "                            for interest in user_interests)\n",
        "\n",
        "from typing import Dict, List, Tuple\n",
        "\n",
        "def most_popular_new_interests(\n",
        "        user_interests: List[str],\n",
        "        max_results: int = 5) -> List[Tuple[str, int]]:\n",
        "    suggestions = [(interest, frequency)\n",
        "                   for interest, frequency in popular_interests.most_common()\n",
        "                   if interest not in user_interests]\n",
        "    return suggestions[:max_results]"
      ],
      "execution_count": null,
      "outputs": []
    },
    {
      "cell_type": "markdown",
      "metadata": {
        "id": "4B6tmNSiw9u5"
      },
      "source": [
        "## **User-Based Collaborative Filtering**"
      ]
    },
    {
      "cell_type": "code",
      "metadata": {
        "id": "TFbCJ_EFeidV"
      },
      "source": [
        "unique_interests = sorted({interest\n",
        "                           for user_interests in users_interests\n",
        "                           for interest in user_interests})\n",
        "\n",
        "assert unique_interests[:6] == [\n",
        "    'Big Data',\n",
        "    'C++',\n",
        "    'Cassandra',\n",
        "    'HBase',\n",
        "    'Hadoop',\n",
        "    'Haskell',\n",
        "    # ...\n",
        "]"
      ],
      "execution_count": null,
      "outputs": []
    },
    {
      "cell_type": "code",
      "metadata": {
        "id": "tN7ASYpwn9wu"
      },
      "source": [
        "def make_user_interest_vector(user_interests: List[str]) -> List[int]:\n",
        "    \"\"\"\n",
        "    Given a list ofinterests, produce a vector whose ith element is 1\n",
        "    if unique_interests[i] is in the list, 0 otherwise\n",
        "    \"\"\"\n",
        "    return [1 if interest in user_interests else 0\n",
        "            for interest in unique_interests]\n",
        "\n",
        "user_interest_vectors = [make_user_interest_vector(user_interests)\n",
        "                         for user_interests in users_interests]\n",
        "\n",
        "user_similarities = [[cosine_similarity(interest_vector_i, interest_vector_j)\n",
        "                      for interest_vector_j in user_interest_vectors]\n",
        "                     for interest_vector_i in user_interest_vectors]\n",
        "\n",
        "# Users 0 and 9 share interests in Hadoop, Java, and Big Data\n",
        "assert 0.56 < user_similarities[0][9] < 0.58, \"several shared interests\"\n",
        "\n",
        "# Users 0 and 8 share only one interest: Big Data\n",
        "assert 0.18 < user_similarities[0][8] < 0.20, \"only one shared interest\"\n",
        "\n",
        "def most_similar_users_to(user_id: int) -> List[Tuple[int, float]]:\n",
        "    pairs = [(other_user_id, similarity)                      # Find other\n",
        "             for other_user_id, similarity in                 # users with\n",
        "                enumerate(user_similarities[user_id])         # nonzero\n",
        "             if user_id != other_user_id and similarity > 0]  # similarity.\n",
        "\n",
        "    return sorted(pairs,                                      # Sort them\n",
        "                  key=lambda pair: pair[-1],                  # most similar\n",
        "                  reverse=True)                               # first.\n",
        "\n",
        "most_similar_to_zero = most_similar_users_to(0)\n",
        "user, score = most_similar_to_zero[0]\n",
        "assert user == 9\n",
        "assert 0.56 < score < 0.57\n",
        "user, score = most_similar_to_zero[1]\n",
        "assert user == 1\n",
        "assert 0.33 < score < 0.34"
      ],
      "execution_count": null,
      "outputs": []
    },
    {
      "cell_type": "markdown",
      "metadata": {
        "id": "Rx4wQLpXLlHx"
      },
      "source": [
        "![image.png](data:image/png;base64,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)"
      ]
    },
    {
      "cell_type": "code",
      "metadata": {
        "id": "GR0TE2WWyHgI"
      },
      "source": [
        "from collections import defaultdict\n",
        "\n",
        "def user_based_suggestions(user_id: int,\n",
        "                           include_current_interests: bool = False):\n",
        "    # Sum up the similarities.\n",
        "    suggestions: Dict[str, float] = defaultdict(float)\n",
        "    for other_user_id, similarity in most_similar_users_to(user_id):\n",
        "        for interest in users_interests[other_user_id]:\n",
        "            suggestions[interest] += similarity\n",
        "\n",
        "    # Convert them to a sorted list.\n",
        "    suggestions = sorted(suggestions.items(),\n",
        "                         key=lambda pair: pair[-1],  # weight\n",
        "                         reverse=True)\n",
        "\n",
        "    # And (maybe) exclude already-interests\n",
        "    if include_current_interests:\n",
        "        return suggestions\n",
        "    else:\n",
        "        return [(suggestion, weight)\n",
        "                for suggestion, weight in suggestions\n",
        "                if suggestion not in users_interests[user_id]]\n",
        "\n",
        "ubs0 = user_based_suggestions(0)\n",
        "interest, score = ubs0[0]\n",
        "assert interest == 'MapReduce'\n",
        "assert 0.56 < score < 0.57\n",
        "interest, score = ubs0[1]\n",
        "assert interest == 'MongoDB'\n",
        "assert 0.50 < score < 0.51"
      ],
      "execution_count": null,
      "outputs": []
    },
    {
      "cell_type": "markdown",
      "metadata": {
        "id": "1mUpI1QVwzj2"
      },
      "source": [
        "## **Item-Based Collaborative Filtering**"
      ]
    },
    {
      "cell_type": "code",
      "metadata": {
        "id": "wzv4iIw8xfo8"
      },
      "source": [
        "interest_user_matrix = [[user_interest_vector[j]\n",
        "                         for user_interest_vector in user_interest_vectors]\n",
        "                        for j, _ in enumerate(unique_interests)]\n",
        "\n",
        "[1, 0, 0, 0, 0, 0, 0, 0, 1, 1, 0, 0, 0, 0, 0]\n",
        "\n",
        "interest_similarities = [[cosine_similarity(user_vector_i, user_vector_j)\n",
        "                          for user_vector_j in interest_user_matrix]\n",
        "                         for user_vector_i in interest_user_matrix]\n",
        "\n",
        "def most_similar_interests_to(interest_id: int):\n",
        "    similarities = interest_similarities[interest_id]\n",
        "    pairs = [(unique_interests[other_interest_id], similarity)\n",
        "             for other_interest_id, similarity in enumerate(similarities)\n",
        "             if interest_id != other_interest_id and similarity > 0]\n",
        "    return sorted(pairs,\n",
        "                  key=lambda pair: pair[-1],\n",
        "                  reverse=True)\n",
        "\n",
        "msit0 = most_similar_interests_to(0)\n",
        "assert msit0[0][0] == 'Hadoop'\n",
        "assert 0.815 < msit0[0][1] < 0.817\n",
        "assert msit0[1][0] == 'Java'\n",
        "assert 0.666 < msit0[1][1] < 0.667"
      ],
      "execution_count": null,
      "outputs": []
    },
    {
      "cell_type": "markdown",
      "metadata": {
        "id": "l0aZSuB-NiBy"
      },
      "source": [
        "![image.png](data:image/png;base64,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)"
      ]
    },
    {
      "cell_type": "code",
      "metadata": {
        "id": "aEJvkbfxyax9"
      },
      "source": [
        "def item_based_suggestions(user_id: int,\n",
        "                           include_current_interests: bool = False):\n",
        "    # Add up the similar interests\n",
        "    suggestions = defaultdict(float)\n",
        "    user_interest_vector = user_interest_vectors[user_id]\n",
        "    for interest_id, is_interested in enumerate(user_interest_vector):\n",
        "        if is_interested == 1:\n",
        "            similar_interests = most_similar_interests_to(interest_id)\n",
        "            for interest, similarity in similar_interests:\n",
        "                suggestions[interest] += similarity\n",
        "\n",
        "    # Sort them by weight\n",
        "    suggestions = sorted(suggestions.items(),\n",
        "                         key=lambda pair: pair[-1],\n",
        "                         reverse=True)\n",
        "\n",
        "    if include_current_interests:\n",
        "        return suggestions\n",
        "    else:\n",
        "        return [(suggestion, weight)\n",
        "                for suggestion, weight in suggestions\n",
        "                if suggestion not in users_interests[user_id]]\n",
        "\n",
        "[('MapReduce', 1.861807319565799),\n",
        " ('Postgres', 1.3164965809277263),\n",
        " ('MongoDB', 1.3164965809277263),\n",
        " ('NoSQL', 1.2844570503761732),\n",
        " ('programming languages', 0.5773502691896258),\n",
        " ('MySQL', 0.5773502691896258),\n",
        " ('Haskell', 0.5773502691896258),\n",
        " ('databases', 0.5773502691896258),\n",
        " ('neural networks', 0.4082482904638631),\n",
        " ('deep learning', 0.4082482904638631),\n",
        " ('C++', 0.4082482904638631),\n",
        " ('artificial intelligence', 0.4082482904638631),\n",
        " ('Python', 0.2886751345948129),\n",
        " ('R', 0.2886751345948129)]\n",
        "\n",
        "ibs0 = item_based_suggestions(0)\n",
        "assert ibs0[0][0] == 'MapReduce'\n",
        "assert 1.86 < ibs0[0][1] < 1.87\n",
        "assert ibs0[1][0] in ('Postgres', 'MongoDB')  # A tie\n",
        "assert 1.31 < ibs0[1][1] < 1.32"
      ],
      "execution_count": null,
      "outputs": []
    },
    {
      "cell_type": "markdown",
      "metadata": {
        "id": "IvO92Ogzwvj2"
      },
      "source": [
        "## **Matrix Factorization**"
      ]
    },
    {
      "cell_type": "code",
      "metadata": {
        "colab": {
          "resources": {
            "http://localhost:8080/nbextensions/google.colab/files.js": {
              "data": "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",
              "ok": true,
              "headers": [
                [
                  "content-type",
                  "application/javascript"
                ]
              ],
              "status": 200,
              "status_text": ""
            }
          },
          "base_uri": "https://localhost:8080/",
          "height": 111
        },
        "id": "JZl8VxAa1gLz",
        "outputId": "9d1828f7-71df-4784-831e-6d19accae52e"
      },
      "source": [
        "from google.colab import files\n",
        "uploaded = files.upload()\n",
        "\n",
        "import pandas as pd\n",
        "import io\n",
        "\n",
        "# You can download it from http://files.grouplens.org/datasets/movielens/ml-100k.zip.\n",
        "\n",
        "# This points to the current directory, modify if your files are elsewhere.\n",
        "MOVIES = \"u.item\"   # pipe-delimited: movie_id|title|...\n",
        "RATINGS = \"u.data\"  # tab-delimited: user_id, movie_id, rating, timestamp\n",
        "\n",
        "df_movies = pd.read_csv(io.BytesIO(uploaded[MOVIES]), delimiter='|', encoding='latin-1', header=None)\n",
        "df_ratings = pd.read_csv(io.BytesIO(uploaded[RATINGS]), delimiter='\\t', header=None)"
      ],
      "execution_count": null,
      "outputs": [
        {
          "output_type": "display_data",
          "data": {
            "text/html": [
              "\n",
              "     <input type=\"file\" id=\"files-36a6e5dd-3170-4516-b1a7-c0f4786de975\" name=\"files[]\" multiple disabled\n",
              "        style=\"border:none\" />\n",
              "     <output id=\"result-36a6e5dd-3170-4516-b1a7-c0f4786de975\">\n",
              "      Upload widget is only available when the cell has been executed in the\n",
              "      current browser session. Please rerun this cell to enable.\n",
              "      </output>\n",
              "      <script src=\"/nbextensions/google.colab/files.js\"></script> "
            ],
            "text/plain": [
              "<IPython.core.display.HTML object>"
            ]
          },
          "metadata": {
            "tags": []
          }
        },
        {
          "output_type": "stream",
          "text": [
            "Saving u.data to u (3).data\n",
            "Saving u.item to u (1).item\n"
          ],
          "name": "stdout"
        }
      ]
    },
    {
      "cell_type": "code",
      "metadata": {
        "colab": {
          "base_uri": "https://localhost:8080/"
        },
        "id": "81dIJ5E5TF4l",
        "outputId": "bc6cd89e-c07c-4adf-92ff-6cb6312af1c6"
      },
      "source": [
        "from typing import NamedTuple\n",
        "\n",
        "class Rating(NamedTuple):\n",
        "    user_id: str\n",
        "    movie_id: str\n",
        "    rating: float\n",
        "\n",
        "movies = {movie[1][0]:movie[1][1] for movie in df_movies.iterrows()}\n",
        "\n",
        "# Create a list of [Rating]\n",
        "ratings = [Rating(rating[1][0], rating[1][1], float(rating[1][2])) \n",
        "           for rating in df_ratings.iterrows()]\n",
        "\n",
        "# 1682 movies rated by 943 users\n",
        "assert len(movies) == 1682\n",
        "assert len(list({rating.user_id for rating in ratings})) == 943\n",
        "\n",
        "import re\n",
        "\n",
        "# Data structure for accumulating ratings by movie_id\n",
        "star_wars_ratings = {movie_id: []\n",
        "                      for movie_id, title in movies.items()\n",
        "                      if re.search(\"Star Wars|Empire Strikes|Jedi\", title)}\n",
        "\n",
        "# Iterate over ratings, accumulating the Star Wars ones\n",
        "for rating in ratings:\n",
        "    if rating.movie_id in star_wars_ratings:\n",
        "        star_wars_ratings[rating.movie_id].append(rating.rating)\n",
        "\n",
        "# Compute the average rating for each movie\n",
        "avg_ratings = [(sum(title_ratings) / len(title_ratings), movie_id)\n",
        "                for movie_id, title_ratings in star_wars_ratings.items()]\n",
        "\n",
        "# And then print them in order\n",
        "for avg_rating, movie_id in sorted(avg_ratings, reverse=True):\n",
        "    print(f\"{avg_rating:.2f} {movies[movie_id]}\")\n",
        "\n",
        "import random\n",
        "random.seed(0)\n",
        "random.shuffle(ratings)\n",
        "\n",
        "split1 = int(len(ratings) * 0.7)\n",
        "split2 = int(len(ratings) * 0.85)\n",
        "\n",
        "train = ratings[:split1]              # 70% of the data\n",
        "validation = ratings[split1:split2]   # 15% of the data\n",
        "test = ratings[split2:]               # 15% of the data\n",
        "\n",
        "avg_rating = sum(rating.rating for rating in train) / len(train)\n",
        "baseline_error = sum((rating.rating - avg_rating) ** 2\n",
        "                      for rating in test) / len(test)\n",
        "\n",
        "# This is what we hope to do better than\n",
        "assert 1.26 < baseline_error < 1.27\n",
        "\n",
        "\n",
        "# Embedding vectors for matrix factorization model\n",
        "\n",
        "EMBEDDING_DIM = 2\n",
        "\n",
        "# Find unique ids\n",
        "user_ids = {rating.user_id for rating in ratings}\n",
        "movie_ids = {rating.movie_id for rating in ratings}\n",
        "\n",
        "# Then create a random vector per id\n",
        "user_vectors = {user_id: random_tensor(EMBEDDING_DIM)\n",
        "                for user_id in user_ids}\n",
        "movie_vectors = {movie_id: random_tensor(EMBEDDING_DIM)\n",
        "                  for movie_id in movie_ids}\n",
        "\n",
        "# Training loop for matrix factorization model\n",
        "\n",
        "from typing import List\n",
        "import tqdm\n",
        "\n",
        "def loop(dataset: List[Rating],\n",
        "          learning_rate: float = None) -> None:\n",
        "    with tqdm.tqdm(dataset) as t:\n",
        "        loss = 0.0\n",
        "        for i, rating in enumerate(t):\n",
        "            movie_vector = movie_vectors[rating.movie_id]\n",
        "            user_vector = user_vectors[rating.user_id]\n",
        "            predicted = dot(user_vector, movie_vector)\n",
        "            error = predicted - rating.rating\n",
        "            loss += error ** 2\n",
        "\n",
        "            if learning_rate is not None:\n",
        "                #     predicted = m_0 * u_0 + ... + m_k * u_k\n",
        "                # So each u_j enters output with coefficent m_j\n",
        "                # and each m_j enters output with coefficient u_j\n",
        "                user_gradient = [error * m_j for m_j in movie_vector]\n",
        "                movie_gradient = [error * u_j for u_j in user_vector]\n",
        "\n",
        "                # Take gradient steps\n",
        "                for j in range(EMBEDDING_DIM):\n",
        "                    user_vector[j] -= learning_rate * user_gradient[j]\n",
        "                    movie_vector[j] -= learning_rate * movie_gradient[j]\n",
        "\n",
        "            t.set_description(f\"avg loss: {loss / (i + 1)}\")\n",
        "\n",
        "learning_rate = 0.05\n",
        "for epoch in range(20):\n",
        "    learning_rate *= 0.9\n",
        "    print(epoch, learning_rate)\n",
        "    loop(train, learning_rate=learning_rate)\n",
        "    loop(validation)\n",
        "loop(test)"
      ],
      "execution_count": null,
      "outputs": [
        {
          "output_type": "stream",
          "text": [
            "4.36 Star Wars (1977)\n",
            "4.20 Empire Strikes Back, The (1980)\n",
            "4.01 Return of the Jedi (1983)\n"
          ],
          "name": "stdout"
        },
        {
          "output_type": "stream",
          "text": [
            "avg loss: 14.199722065338316:   0%|          | 51/70000 [00:00<02:19, 502.68it/s]"
          ],
          "name": "stderr"
        },
        {
          "output_type": "stream",
          "text": [
            "0 0.045000000000000005\n"
          ],
          "name": "stdout"
        },
        {
          "output_type": "stream",
          "text": [
            "avg loss: 5.738589156583945: 100%|██████████| 70000/70000 [02:50<00:00, 410.36it/s]\n",
            "avg loss: 1.30053384693014: 100%|██████████| 15000/15000 [00:37<00:00, 398.79it/s]\n",
            "avg loss: 1.27327590555644:   0%|          | 76/70000 [00:00<01:32, 758.97it/s] "
          ],
          "name": "stderr"
        },
        {
          "output_type": "stream",
          "text": [
            "1 0.04050000000000001\n"
          ],
          "name": "stdout"
        },
        {
          "output_type": "stream",
          "text": [
            "avg loss: 1.1238557608603816: 100%|██████████| 70000/70000 [02:47<00:00, 418.75it/s]\n",
            "avg loss: 1.110274996504073: 100%|██████████| 15000/15000 [00:33<00:00, 449.45it/s]\n",
            "avg loss: 1.0569326464865845:   0%|          | 50/70000 [00:00<02:20, 499.61it/s]"
          ],
          "name": "stderr"
        },
        {
          "output_type": "stream",
          "text": [
            "2 0.03645000000000001\n"
          ],
          "name": "stdout"
        },
        {
          "output_type": "stream",
          "text": [
            "avg loss: 1.023125676629685: 100%|██████████| 70000/70000 [02:36<00:00, 447.76it/s]\n",
            "avg loss: 1.0574328984734234: 100%|██████████| 15000/15000 [00:34<00:00, 436.38it/s]\n",
            "avg loss: 0.9973334979112621:   0%|          | 60/70000 [00:00<01:58, 592.37it/s]"
          ],
          "name": "stderr"
        },
        {
          "output_type": "stream",
          "text": [
            "3 0.03280500000000001\n"
          ],
          "name": "stdout"
        },
        {
          "output_type": "stream",
          "text": [
            "avg loss: 0.980532220579458: 100%|██████████| 70000/70000 [02:35<00:00, 450.92it/s]\n",
            "avg loss: 1.0277943570936905: 100%|██████████| 15000/15000 [00:32<00:00, 459.29it/s]\n",
            "avg loss: 0.9574956968239903:   0%|          | 78/70000 [00:00<01:29, 777.53it/s]"
          ],
          "name": "stderr"
        },
        {
          "output_type": "stream",
          "text": [
            "4 0.02952450000000001\n"
          ],
          "name": "stdout"
        },
        {
          "output_type": "stream",
          "text": [
            "avg loss: 0.9515691835565789: 100%|██████████| 70000/70000 [02:26<00:00, 477.47it/s]\n",
            "avg loss: 1.00657482671383: 100%|██████████| 15000/15000 [00:30<00:00, 485.03it/s]\n",
            "avg loss: 1.0132313122545347: 100%|██████████| 15000/15000 [00:30<00:00, 489.65it/s]\n"
          ],
          "name": "stderr"
        }
      ]
    },
    {
      "cell_type": "code",
      "metadata": {
        "colab": {
          "base_uri": "https://localhost:8080/"
        },
        "id": "tW7ryx0cm3N6",
        "outputId": "6ad93ba3-fb83-45bd-90ec-5e4e3869f674"
      },
      "source": [
        "original_vectors = [vector for vector in movie_vectors.values()]\n",
        "components = pca(original_vectors, 2)\n",
        "\n",
        "ratings_by_movie = defaultdict(list)\n",
        "for rating in ratings:\n",
        "    ratings_by_movie[rating.movie_id].append(rating.rating)\n",
        "\n",
        "vectors = [\n",
        "    (movie_id,\n",
        "      sum(ratings_by_movie[movie_id]) / len(ratings_by_movie[movie_id]),\n",
        "      movies[movie_id],\n",
        "      vector)\n",
        "    for movie_id, vector in zip(movie_vectors.keys(),\n",
        "                                transform(original_vectors, components))\n",
        "]\n",
        "\n",
        "# Print top 25 and bottom 25 by first principal component\n",
        "print(sorted(vectors, key=lambda v: v[-1][0])[:25])\n",
        "print(sorted(vectors, key=lambda v: v[-1][0])[-25:])"
      ],
      "execution_count": null,
      "outputs": [
        {
          "output_type": "stream",
          "text": [
            "dv: 4312.213: 100%|██████████| 100/100 [00:00<00:00, 112.76it/s]\n",
            "dv: 917.154: 100%|██████████| 100/100 [00:00<00:00, 121.05it/s]\n"
          ],
          "name": "stderr"
        },
        {
          "output_type": "stream",
          "text": [
            "[(285, 4.265432098765432, 'Secrets & Lies (1996)', [-2.4083964425103597, 0.07062894423594224]), (169, 4.466101694915254, 'Wrong Trousers, The (1993)', [-2.3969894040807933, -0.41609075211106705]), (511, 4.23121387283237, 'Lawrence of Arabia (1962)', [-2.376469019595373, -0.3846058732711223]), (694, 4.045454545454546, 'Persuasion (1995)', [-2.369510417930442, 0.14050115070135838]), (1103, 3.789473684210526, 'Trust (1990)', [-2.3566782134318562, 1.4188141989971506]), (483, 4.45679012345679, 'Casablanca (1942)', [-2.355487914445603, -0.25294262862494943]), (318, 4.466442953020135, \"Schindler's List (1993)\", [-2.3526448321020763, 0.3767415405672848]), (64, 4.445229681978798, 'Shawshank Redemption, The (1994)', [-2.3492602863305674, 0.012802305701592465]), (98, 4.28974358974359, 'Silence of the Lambs, The (1991)', [-2.343626544599426, -0.1506321193388147]), (23, 4.1208791208791204, 'Taxi Driver (1976)', [-2.342495489960924, -0.5763179178777522]), (923, 4.155172413793103, 'Raise the Red Lantern (1991)', [-2.3402633982256202, 1.143669037145795]), (657, 4.259541984732825, 'Manchurian Candidate, The (1962)', [-2.335826755950262, -0.19813436058514522]), (408, 4.491071428571429, 'Close Shave, A (1995)', [-2.3294710015019637, -0.6516126411841285]), (191, 4.163043478260869, 'Amadeus (1984)', [-2.3282815884615706, -0.548542616282951]), (178, 4.344, '12 Angry Men (1957)', [-2.322318943733233, -0.0033278742831009955]), (12, 4.385767790262173, 'Usual Suspects, The (1995)', [-2.3174556161013866, -0.1840683752268334]), (22, 4.151515151515151, 'Braveheart (1995)', [-2.317386853662856, 0.3488021603264704]), (811, 3.9444444444444446, 'Thirty-Two Short Films About Glenn Gould (1993)', [-2.31036282599438, -0.23381421272917335]), (357, 4.291666666666667, \"One Flew Over the Cuckoo's Nest (1975)\", [-2.310351583129126, -0.26359953756097587]), (136, 4.123809523809523, 'Mr. Smith Goes to Washington (1939)', [-2.3077501761236094, -0.17490974193658837]), (519, 4.1, 'Treasure of the Sierra Madre, The (1948)', [-2.3019584963620083, 0.2853597433869772]), (1169, 4.1, 'Fresh (1994)', [-2.301878911423699, 1.2109876597552736]), (745, 3.875, 'Ruling Class, The (1972)', [-2.3011408305376446, 0.08236399703346231]), (1194, 4.064516129032258, 'Once Were Warriors (1994)', [-2.301010185081555, 0.2101097561819183]), (114, 4.447761194029851, 'Wallace & Gromit: The Best of Aardman Animation (1996)', [-2.292257123643406, -0.4153842368808588])]\n",
            "[(1667, 3.0, 'Next Step, The (1995)', [0.37950638738905007, 1.9396535523439524]), (1461, 2.0, 'Here Comes Cookie (1935)', [0.4073588802626327, -1.1923095042901624]), (1492, 4.0, 'Window to Paris (1994)', [0.41073431705587565, 0.5888087864226048]), (1563, 1.0, 'Promise, The (Versprechen, Das) (1994)', [0.41877189374368357, -0.31037714962930846]), (1635, 3.0, 'Two Friends (1986) ', [0.4461085465140764, 0.15380641714891433]), (1601, 1.0, 'Office Killer (1997)', [0.451304670332631, -0.13011852156568562]), (1380, 2.3333333333333335, 'Hollow Reed (1996)', [0.4748519346810696, 0.8476386351783065]), (1557, 1.0, 'Yankee Zulu (1994)', [0.4979209403972855, 1.003308859311241]), (1565, 1.0, 'Daens (1992)', [0.5217905148944582, -1.842685998030659]), (1591, 3.1666666666666665, 'Duoluo tianshi (1995)', [0.5306631543921551, -0.7334953133943491]), (1532, 2.0, 'Foreign Student (1994)', [0.6010205279588686, -0.57337834028128]), (1648, 2.0, 'Niagara, Niagara (1997)', [0.6213127870589827, -1.3534189754358033]), (1559, 1.0, 'Hostile Intentions (1994)', [0.6225771759528612, -0.7479950313482007]), (1567, 1.0, 'Careful (1992)', [0.66774652302442, -0.7328615060713073]), (1523, 3.0, 'Good Man in Africa, A (1994)', [0.7052104108698856, -1.4167112351760862]), (1626, 1.0, 'Nobody Loves Me (Keiner liebt mich) (1994)', [0.838578679772201, -3.0756411474663126]), (1510, 3.0, 'Mad Dog Time (1996)', [0.9424655915664252, 0.18394696189360082]), (1588, 2.0, 'Salut cousin! (1996)', [0.971026007393023, -1.8448194826923614]), (1432, 1.0, 'Mighty, The (1998)', [1.027895949843663, 1.2985126958570319]), (1476, 2.0, 'Raw Deal (1948)', [1.0954747005426426, 0.1617070358997702]), (1373, 1.0, 'Good Morning (1971)', [1.191882378165512, -0.31272734183452355]), (1637, 3.0, 'Girls Town (1996)', [1.2785081677509675, 1.131081948630761]), (1595, 2.0, 'Shopping (1994)', [1.3292154661926319, -0.5853266569423624]), (1358, 3.0, 'The Deadly Cure (1996)', [1.6652219710006002, -1.9322194310007004]), (1579, 1.0, 'Baton Rouge (1988)', [1.692441017620141, -1.8444885628788832])]\n"
          ],
          "name": "stdout"
        }
      ]
    }
  ]
}