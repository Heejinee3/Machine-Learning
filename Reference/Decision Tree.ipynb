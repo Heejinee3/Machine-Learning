{
  "nbformat": 4,
  "nbformat_minor": 0,
  "metadata": {
    "colab": {
      "name": "decision_trees.ipynb",
      "provenance": [],
      "collapsed_sections": []
    },
    "kernelspec": {
      "name": "python3",
      "display_name": "Python 3"
    },
    "language_info": {
      "name": "python"
    }
  },
  "cells": [
    {
      "cell_type": "markdown",
      "metadata": {
        "id": "9mxzWG0juqnC"
      },
      "source": [
        "# **Chapter 17. Decision Trees**"
      ]
    },
    {
      "cell_type": "markdown",
      "metadata": {
        "id": "1qSNNS0z67w_"
      },
      "source": [
        "## What is a **Decision Tree**?\n",
        "\n",
        "* A decision tree uses a tree structure to represent a number of possible decision paths and an outcome for each path.\n",
        "* If you have ever played the game **Twenty Questions**, then you are familiar with decision trees. For example:\n",
        ">* \"I am thinking of an animal.\"\n",
        ">* \"Does it have more than five legs?\"\n",
        ">* \"No.\"\n",
        ">* \"Is it delicious?\"\n",
        ">* \"No.\"\n",
        ">* \"Does it appear on the back of the Australian five-cent coin?\"\n",
        ">* \"Yes.\"\n",
        ">* \"Is it an echidna(바늘두더지)?\"\n",
        ">* \"Yes, it is!\"\n",
        "\n",
        "* This corresponds to the path: \"Not more than 5 legs\" $\\rightarrow$ \"Not delicious\" $\\rightarrow$ \"On the 5-cent coin\" $\\rightarrow$ \"Echidna!\"\n",
        "\n",
        "![picture](https://drive.google.com/uc?id=1DdprSGfdNJugbWKuuVk3_JeyFJkvJ2AX)"
      ]
    },
    {
      "cell_type": "markdown",
      "metadata": {
        "id": "fuFMTVbOSiMD"
      },
      "source": [
        "* Decision trees are very easy to understand and interpret, and the process by which they reach a prediction is completely transparent.\n",
        "\n",
        "* Decision trees can easily handle a mix of numeric (e.g., number of legs) and categorical (e.g., delicious/not delicious) attributes and can even classify data for which attributes are missing.\n",
        "\n",
        "* At the same time, finding an \"optimal\" decision tree for a set of training data is computationally a very hard problem. We will get around this by trying to build a good enough tree rather than an optimal one, although for large datasets this can still be a lot of work.\n",
        "\n",
        "* More important, it is very easy (and very bad) to build decision trees that are overfitted to the training data, and that don't generalize well to unseen data."
      ]
    },
    {
      "cell_type": "markdown",
      "metadata": {
        "id": "W9Pir3nqy2G8"
      },
      "source": [
        "* We will work through the **ID3** algorithm for learning a\n",
        "decision tree from a set of labeled data.\n",
        ">* CART, ID3, and C4.5 algorithms are the representative algorithms."
      ]
    },
    {
      "cell_type": "markdown",
      "metadata": {
        "id": "npHSkn3JzaVR"
      },
      "source": [
        "## **Entropy**\n",
        "\n",
        "* In order to build a decision tree, we will need to decide _what questions to ask_ and _in what order_. \n",
        ">* At each stage of the tree there are some possibilities we've eliminated and some that we haven't. After learning that an animal doesn't have more than five legs, we've eliminated the possibility that it's a grasshopper. We haven't eliminated the possibility that it's a duck. Each possible question partitions the remaining possibilities according to its answer.\n",
        "\n",
        "* Ideally, we'd like to choose questions whose answers give a lot of information about what our tree should predict. \n",
        ">* If there's a single yes/no question for which \"yes\" answers always correspond to `True` outputs and \"no\" answers to `False` outputs (or vice versa), this would be an awesome question to pick. Conversely, a yes/no question\n",
        "for which neither answer gives you much new information about what the prediction should be is probably not a good choice.\n",
        "\n",
        "![picture](https://drive.google.com/uc?id=1_PK8z-NAvzPUqrzBgQnN3PlCQIliHgzd)"
      ]
    },
    {
      "cell_type": "markdown",
      "metadata": {
        "id": "m_DzqnSJ1Tq0"
      },
      "source": [
        "* Imagine that we have a set $S$ of data, each member of which is labeled as belonging to one of a finite number of classes $C_1, \\ldots, C_n$. If all the data points belong to a single class, then there is no real uncertainty, which means we'd like there to be *low* entropy. If the data points are evenly spread across the classes, there is a lot of uncertainty and we'd like there to be *high* entropy.\n",
        "\n",
        "![picture](https://drive.google.com/uc?id=1zFP-AirUZTHipNp47kT8HaFobzJ3vSfe)\n",
        "\n",
        "![picture](https://drive.google.com/uc?id=1BaMjxjoH5O8eV9bhJrAFffepx5E56G6Z)"
      ]
    },
    {
      "cell_type": "markdown",
      "metadata": {
        "id": "6wQIvdbpnO8n"
      },
      "source": [
        "* In math terms, if $p_i$ is the proportion of data labeled as class $c_i$, we define the entropy as: $$H(S) = -p_1\\log_2 p_1-\\cdots-p_n\\log_2 p_n $$"
      ]
    },
    {
      "cell_type": "code",
      "metadata": {
        "colab": {
          "base_uri": "https://localhost:8080/",
          "height": 279
        },
        "id": "6Xo7xpFPNJcS",
        "outputId": "c20db8e5-815b-42fd-b917-526065b17a85"
      },
      "source": [
        "import matplotlib.pyplot as plt\n",
        "import numpy as np\n",
        "from scipy.stats import entropy\n",
        "\n",
        "x = np.linspace(0,1)\n",
        "y = entropy([x, 1-x], base=2)\n",
        "\n",
        "plt.plot(x, y)\n",
        "plt.xlabel('p')\n",
        "plt.ylabel('Entropy')\n",
        "plt.show()"
      ],
      "execution_count": null,
      "outputs": [
        {
          "output_type": "display_data",
          "data": {
            "image/png": "[encoded data removed]",
            "text/plain": [
              "<Figure size 432x288 with 1 Axes>"
            ]
          },
          "metadata": {
            "tags": [],
            "needs_background": "light"
          }
        }
      ]
    },
    {
      "cell_type": "code",
      "metadata": {
        "id": "lOftlMXIooZE"
      },
      "source": [
        "from typing import List\n",
        "import math\n",
        "\n",
        "def entropy(class_probabilities: List[float]) -> float:\n",
        "    \"\"\"Given a list of class probabilities, compute the entropy\"\"\"\n",
        "    return sum(-p * math.log(p, 2)\n",
        "               for p in class_probabilities\n",
        "               if p > 0)                     # ignore zero probabilities\n",
        "\n",
        "assert entropy([1.0]) == 0\n",
        "assert entropy([0.5, 0.5]) == 1\n",
        "assert 0.81 < entropy([0.25, 0.75]) < 0.82\n",
        "\n",
        "from typing import Any\n",
        "from collections import Counter\n",
        "\n",
        "def class_probabilities(labels: List[Any]) -> List[float]:\n",
        "    total_count = len(labels)\n",
        "    return [count / total_count\n",
        "            for count in Counter(labels).values()]\n",
        "\n",
        "def data_entropy(labels: List[Any]) -> float:\n",
        "    return entropy(class_probabilities(labels))\n",
        "\n",
        "assert data_entropy(['a']) == 0\n",
        "assert data_entropy([True, False]) == 1\n",
        "assert data_entropy([3, 4, 4, 4]) == entropy([0.25, 0.75])"
      ],
      "execution_count": null,
      "outputs": []
    },
    {
      "cell_type": "markdown",
      "metadata": {
        "id": "IF3p4un5oo2T"
      },
      "source": [
        "## **The Entropy of a Partition**\n",
        "\n",
        "* We'd like some notion of the entropy that results from partitioning a set of data in a certain way. We want a partition to have low entropy if it splits the data into subsets that themselves have low entropy (i.e., are highly certain), and high entropy if it contains subsets that (are large and) have high entropy (i.e., are highly uncertain).\n",
        "\n",
        "* Mathematically, if we partition our data $S$ into subsets $S_1, \\ldots, S_m$ containing proportions $q_1, \\ldots, q_m$ of the data, then we compute the entropy of the partition as a weighted sum:\n",
        "$$H = q_1H(S_1) +\\cdots+q_mH(S_m)$$\n",
        "\n",
        "* The difference in the entropy before and after the split is called the **information gain**."
      ]
    },
    {
      "cell_type": "code",
      "metadata": {
        "id": "_cirSVnHqBSn"
      },
      "source": [
        "def partition_entropy(subsets: List[List[Any]]) -> float:\n",
        "    \"\"\"Returns the entropy from this partition of data into subsets\"\"\"\n",
        "    total_count = sum(len(subset) for subset in subsets)\n",
        "\n",
        "    return sum(data_entropy(subset) * len(subset) / total_count\n",
        "               for subset in subsets)"
      ],
      "execution_count": null,
      "outputs": []
    },
    {
      "cell_type": "markdown",
      "metadata": {
        "id": "mv54ExG8p7Dp"
      },
      "source": [
        "## **Creating a Decisin Tree**\n",
        "\n",
        "* Our tree will consist of **decision nodes** (which ask a question and direct us differently depending on the answer) and **leaf nodes** (which give us a prediction). We will build it using the relatively simple **ID3** algorithm, which operates in the following manner. Let's say we're given some labeled data, and a list of attributes to consider branching on:\n",
        ">* If the data all have the same label, create a leaf node that predicts that label and then stop.\n",
        ">* If the list of attributes is empty (i.e., there are no more possible questions to ask), create a leaf node that predicts the most common label and then stop.\n",
        ">* Otherwise, try partitioning the data by each of the attributes.\n",
        ">* Choose the partition with the lowest partition entropy.\n",
        ">* Add a decision node based on the chosen attribute.\n",
        ">* Recur on each partitioned subset using the remaining attributes."
      ]
    },
    {
      "cell_type": "code",
      "metadata": {
        "id": "lXV7C-FbtYrg",
        "colab": {
          "base_uri": "https://localhost:8080/"
        },
        "outputId": "2b8afd45-f048-46a3-c48e-86d6f6c998e8"
      },
      "source": [
        "from typing import NamedTuple, Optional\n",
        "\n",
        "class Candidate(NamedTuple):\n",
        "    level: str\n",
        "    lang: str\n",
        "    tweets: bool\n",
        "    phd: bool\n",
        "    did_well: Optional[bool] = None  # allow unlabeled data\n",
        "\n",
        "                  #  level     lang     tweets  phd  did_well\n",
        "inputs = [Candidate('Senior', 'Java',   False, False, False),\n",
        "          Candidate('Senior', 'Java',   False, True,  False),\n",
        "          Candidate('Mid',    'Python', False, False, True),\n",
        "          Candidate('Junior', 'Python', False, False, True),\n",
        "          Candidate('Junior', 'R',      True,  False, True),\n",
        "          Candidate('Junior', 'R',      True,  True,  False),\n",
        "          Candidate('Mid',    'R',      True,  True,  True),\n",
        "          Candidate('Senior', 'Python', False, False, False),\n",
        "          Candidate('Senior', 'R',      True,  False, True),\n",
        "          Candidate('Junior', 'Python', True,  False, True),\n",
        "          Candidate('Senior', 'Python', True,  True,  True),\n",
        "          Candidate('Mid',    'Python', False, True,  True),\n",
        "          Candidate('Mid',    'Java',   True,  False, True),\n",
        "          Candidate('Junior', 'Python', False, True,  False)\n",
        "         ]\n",
        "\n",
        "from typing import Dict, TypeVar\n",
        "from collections import defaultdict\n",
        "\n",
        "T = TypeVar('T')  # generic type for inputs\n",
        "\n",
        "def partition_by(inputs: List[T], attribute: str) -> Dict[Any, List[T]]:\n",
        "    \"\"\"Partition the inputs into lists based on the specified attribute.\"\"\"\n",
        "    partitions: Dict[Any, List[T]] = defaultdict(list)\n",
        "    for input in inputs:\n",
        "        key = getattr(input, attribute)  # value of the specified attribute\n",
        "        partitions[key].append(input)    # add input to the correct partition\n",
        "    return partitions\n",
        "\n",
        "def partition_entropy_by(inputs: List[Any],\n",
        "                         attribute: str,\n",
        "                         label_attribute: str) -> float:\n",
        "    \"\"\"Compute the entropy corresponding to the given partition\"\"\"\n",
        "    # partitions consist of our inputs\n",
        "    partitions = partition_by(inputs, attribute)\n",
        "\n",
        "    # but partition_entropy needs just the class labels\n",
        "    labels = [[getattr(input, label_attribute) for input in partition]\n",
        "              for partition in partitions.values()]\n",
        "\n",
        "    return partition_entropy(labels)\n",
        "\n",
        "for key in ['level','lang','tweets','phd']:\n",
        "    print(key, partition_entropy_by(inputs, key, 'did_well'))\n",
        "\n",
        "assert 0.69 < partition_entropy_by(inputs, 'level', 'did_well')  < 0.70\n",
        "assert 0.86 < partition_entropy_by(inputs, 'lang', 'did_well')   < 0.87\n",
        "assert 0.78 < partition_entropy_by(inputs, 'tweets', 'did_well') < 0.79\n",
        "assert 0.89 < partition_entropy_by(inputs, 'phd', 'did_well')    < 0.90\n",
        "\n",
        "senior_inputs = [input for input in inputs if input.level == 'Senior']\n",
        "\n",
        "assert 0.4 == partition_entropy_by(senior_inputs, 'lang', 'did_well')\n",
        "assert 0.0 == partition_entropy_by(senior_inputs, 'tweets', 'did_well')\n",
        "assert 0.95 < partition_entropy_by(senior_inputs, 'phd', 'did_well') < 0.96"
      ],
      "execution_count": null,
      "outputs": [
        {
          "output_type": "stream",
          "text": [
            "level 0.6935361388961919\n",
            "lang 0.8601317128547441\n",
            "tweets 0.7884504573082896\n",
            "phd 0.8921589282623617\n"
          ],
          "name": "stdout"
        }
      ]
    },
    {
      "cell_type": "markdown",
      "metadata": {
        "id": "lTkaKZ2YtY67"
      },
      "source": [
        "![picture](https://drive.google.com/uc?id=1B_Acd0OoJfG4NacP5U_WN8CHMqFz9pH6)"
      ]
    },
    {
      "cell_type": "markdown",
      "metadata": {
        "id": "OpzuRf4gtkrd"
      },
      "source": [
        "## **Putting It All Together**\n",
        "\n",
        "* We would like to implement it more generally."
      ]
    },
    {
      "cell_type": "code",
      "metadata": {
        "id": "YNLyr_5HgIMG"
      },
      "source": [
        "from typing import NamedTuple, Union, Any\n",
        "\n",
        "class Leaf(NamedTuple):\n",
        "    value: Any\n",
        "\n",
        "class Split(NamedTuple):\n",
        "    attribute: str\n",
        "    subtrees: dict\n",
        "    default_value: Any = None\n",
        "\n",
        "DecisionTree = Union[Leaf, Split]\n",
        "\n",
        "hiring_tree = Split('level', {   # First, consider \"level\".\n",
        "    'Junior': Split('phd', {     # if level is \"Junior\", next look at \"phd\"\n",
        "        False: Leaf(True),       #   if \"phd\" is False, predict True\n",
        "        True: Leaf(False)        #   if \"phd\" is True, predict False\n",
        "    }),\n",
        "    'Mid': Leaf(True),           # if level is \"Mid\", just predict True\n",
        "    'Senior': Split('tweets', {  # if level is \"Senior\", look at \"tweets\"\n",
        "        False: Leaf(False),      #   if \"tweets\" is False, predict False\n",
        "        True: Leaf(True)         #   if \"tweets\" is True, predict True\n",
        "    })\n",
        "})\n",
        "\n",
        "def classify(tree: DecisionTree, input: Any) -> Any:\n",
        "    \"\"\"classify the input using the given decision tree\"\"\"\n",
        "\n",
        "    # If this is a leaf node, return its value\n",
        "    if isinstance(tree, Leaf):\n",
        "        return tree.value\n",
        "\n",
        "    # Otherwise this tree consists of an attribute to split on\n",
        "    # and a dictionary whose keys are values of that attribute\n",
        "    # and whose values of are subtrees to consider next\n",
        "    subtree_key = getattr(input, tree.attribute)\n",
        "\n",
        "    if subtree_key not in tree.subtrees:   # If no subtree for key,\n",
        "        return tree.default_value          # return the default value.\n",
        "\n",
        "    subtree = tree.subtrees[subtree_key]   # Choose the appropriate subtree\n",
        "    return classify(subtree, input)        # and use it to classify the input.\n",
        "\n",
        "def build_tree_id3(inputs: List[Any],\n",
        "                   split_attributes: List[str],\n",
        "                   target_attribute: str) -> DecisionTree:\n",
        "    # Count target labels\n",
        "    label_counts = Counter(getattr(input, target_attribute)\n",
        "                           for input in inputs)\n",
        "    most_common_label = label_counts.most_common(1)[0][0]\n",
        "\n",
        "    # If there's a unique label, predict it\n",
        "    if len(label_counts) == 1:\n",
        "        return Leaf(most_common_label)\n",
        "\n",
        "    # If no split attributes left, return the majority label\n",
        "    if not split_attributes:\n",
        "        return Leaf(most_common_label)\n",
        "\n",
        "    # Otherwise split by the best attribute\n",
        "\n",
        "    def split_entropy(attribute: str) -> float:\n",
        "        \"\"\"Helper function for finding the best attribute\"\"\"\n",
        "        return partition_entropy_by(inputs, attribute, target_attribute)\n",
        "\n",
        "    best_attribute = min(split_attributes, key=split_entropy)\n",
        "\n",
        "    partitions = partition_by(inputs, best_attribute)\n",
        "    new_attributes = [a for a in split_attributes if a != best_attribute]\n",
        "\n",
        "    # recursively build the subtrees\n",
        "    subtrees = {attribute_value : build_tree_id3(subset,\n",
        "                                                 new_attributes,\n",
        "                                                 target_attribute)\n",
        "                for attribute_value, subset in partitions.items()}\n",
        "\n",
        "    return Split(best_attribute, subtrees, default_value=most_common_label)\n",
        "\n",
        "tree = build_tree_id3(inputs,\n",
        "                      ['level', 'lang', 'tweets', 'phd'],\n",
        "                      'did_well')\n",
        "\n",
        "# Should predict True\n",
        "assert classify(tree, Candidate(\"Junior\", \"Java\", True, False))\n",
        "\n",
        "# Should predict False\n",
        "assert not classify(tree, Candidate(\"Junior\", \"Java\", True, True))\n",
        "\n",
        "# Should predict True\n",
        "assert classify(tree, Candidate(\"Intern\", \"Java\", True, True))"
      ],
      "execution_count": null,
      "outputs": []
    },
    {
      "cell_type": "markdown",
      "metadata": {
        "id": "Y4erkJLUd5B7"
      },
      "source": [
        "## **Using scikit-learn**"
      ]
    },
    {
      "cell_type": "code",
      "metadata": {
        "colab": {
          "base_uri": "https://localhost:8080/",
          "height": 438
        },
        "id": "oDMGsSsrJY6P",
        "outputId": "adf872fb-32a9-40d0-9797-c7cf1ace23bf"
      },
      "source": [
        "from sklearn.datasets import load_iris\n",
        "from sklearn.tree import DecisionTreeClassifier\n",
        "\n",
        "iris = load_iris()\n",
        "X = iris.data[:, 2:] # petal length and width\n",
        "y = iris.target\n",
        "\n",
        "tree_clf = DecisionTreeClassifier(max_depth=2, random_state=42)\n",
        "tree_clf.fit(X, y)\n",
        "\n",
        "from graphviz import Source\n",
        "from sklearn.tree import export_graphviz\n",
        "\n",
        "export_graphviz(\n",
        "        tree_clf,\n",
        "        out_file=\"iris_tree.dot\",\n",
        "        feature_names=iris.feature_names[2:],\n",
        "        class_names=iris.target_names,\n",
        "        rounded=True,\n",
        "        filled=True\n",
        "    )\n",
        "\n",
        "Source.from_file(\"iris_tree.dot\")"
      ],
      "execution_count": null,
      "outputs": [
        {
          "output_type": "execute_result",
          "data": {
            "text/plain": [
              "<graphviz.files.Source at 0x7f1ddf254150>"
            ],
            "image/svg+xml": "<?xml version=\"1.0\" encoding=\"UTF-8\" standalone=\"no\"?>\n<!DOCTYPE svg PUBLIC \"-//W3C//DTD SVG 1.1//EN\"\n \"http://www.w3.org/Graphics/SVG/1.1/DTD/svg11.dtd\">\n<!-- Generated by graphviz version 2.40.1 (20161225.0304)\n -->\n<!-- Title: Tree Pages: 1 -->\n<svg width=\"368pt\" height=\"314pt\"\n viewBox=\"0.00 0.00 368.00 314.00\" xmlns=\"http://www.w3.org/2000/svg\" xmlns:xlink=\"http://www.w3.org/1999/xlink\">\n<g id=\"graph0\" class=\"graph\" transform=\"scale(1 1) rotate(0) translate(4 310)\">\n<title>Tree</title>\n<polygon fill=\"#ffffff\" stroke=\"transparent\" points=\"-4,4 -4,-310 364,-310 364,4 -4,4\"/>\n<!-- 0 -->\n<g id=\"node1\" class=\"node\">\n<title>0</title>\n<path fill=\"#ffffff\" stroke=\"#000000\" d=\"M219.5,-306C219.5,-306 67.5,-306 67.5,-306 61.5,-306 55.5,-300 55.5,-294 55.5,-294 55.5,-235 55.5,-235 55.5,-229 61.5,-223 67.5,-223 67.5,-223 219.5,-223 219.5,-223 225.5,-223 231.5,-229 231.5,-235 231.5,-235 231.5,-294 231.5,-294 231.5,-300 225.5,-306 219.5,-306\"/>\n<text text-anchor=\"middle\" x=\"143.5\" y=\"-290.8\" font-family=\"Helvetica,sans-Serif\" font-size=\"14.00\" fill=\"#000000\">petal length (cm) &lt;= 2.45</text>\n<text text-anchor=\"middle\" x=\"143.5\" y=\"-275.8\" font-family=\"Helvetica,sans-Serif\" font-size=\"14.00\" fill=\"#000000\">gini = 0.667</text>\n<text text-anchor=\"middle\" x=\"143.5\" y=\"-260.8\" font-family=\"Helvetica,sans-Serif\" font-size=\"14.00\" fill=\"#000000\">samples = 150</text>\n<text text-anchor=\"middle\" x=\"143.5\" y=\"-245.8\" font-family=\"Helvetica,sans-Serif\" font-size=\"14.00\" fill=\"#000000\">value = [50, 50, 50]</text>\n<text text-anchor=\"middle\" x=\"143.5\" y=\"-230.8\" font-family=\"Helvetica,sans-Serif\" font-size=\"14.00\" fill=\"#000000\">class = setosa</text>\n</g>\n<!-- 1 -->\n<g id=\"node2\" class=\"node\">\n<title>1</title>\n<path fill=\"#e58139\" stroke=\"#000000\" d=\"M111,-179.5C111,-179.5 12,-179.5 12,-179.5 6,-179.5 0,-173.5 0,-167.5 0,-167.5 0,-123.5 0,-123.5 0,-117.5 6,-111.5 12,-111.5 12,-111.5 111,-111.5 111,-111.5 117,-111.5 123,-117.5 123,-123.5 123,-123.5 123,-167.5 123,-167.5 123,-173.5 117,-179.5 111,-179.5\"/>\n<text text-anchor=\"middle\" x=\"61.5\" y=\"-164.3\" font-family=\"Helvetica,sans-Serif\" font-size=\"14.00\" fill=\"#000000\">gini = 0.0</text>\n<text text-anchor=\"middle\" x=\"61.5\" y=\"-149.3\" font-family=\"Helvetica,sans-Serif\" font-size=\"14.00\" fill=\"#000000\">samples = 50</text>\n<text text-anchor=\"middle\" x=\"61.5\" y=\"-134.3\" font-family=\"Helvetica,sans-Serif\" font-size=\"14.00\" fill=\"#000000\">value = [50, 0, 0]</text>\n<text text-anchor=\"middle\" x=\"61.5\" y=\"-119.3\" font-family=\"Helvetica,sans-Serif\" font-size=\"14.00\" fill=\"#000000\">class = setosa</text>\n</g>\n<!-- 0&#45;&gt;1 -->\n<g id=\"edge1\" class=\"edge\">\n<title>0&#45;&gt;1</title>\n<path fill=\"none\" stroke=\"#000000\" d=\"M114.8204,-222.8796C107.0917,-211.6636 98.7191,-199.5131 90.9492,-188.2372\"/>\n<polygon fill=\"#000000\" stroke=\"#000000\" points=\"93.7018,-186.0634 85.1456,-179.8149 87.9377,-190.0353 93.7018,-186.0634\"/>\n<text text-anchor=\"middle\" x=\"80.6196\" y=\"-200.7018\" font-family=\"Helvetica,sans-Serif\" font-size=\"14.00\" fill=\"#000000\">True</text>\n</g>\n<!-- 2 -->\n<g id=\"node3\" class=\"node\">\n<title>2</title>\n<path fill=\"#ffffff\" stroke=\"#000000\" d=\"M299.5,-187C299.5,-187 153.5,-187 153.5,-187 147.5,-187 141.5,-181 141.5,-175 141.5,-175 141.5,-116 141.5,-116 141.5,-110 147.5,-104 153.5,-104 153.5,-104 299.5,-104 299.5,-104 305.5,-104 311.5,-110 311.5,-116 311.5,-116 311.5,-175 311.5,-175 311.5,-181 305.5,-187 299.5,-187\"/>\n<text text-anchor=\"middle\" x=\"226.5\" y=\"-171.8\" font-family=\"Helvetica,sans-Serif\" font-size=\"14.00\" fill=\"#000000\">petal width (cm) &lt;= 1.75</text>\n<text text-anchor=\"middle\" x=\"226.5\" y=\"-156.8\" font-family=\"Helvetica,sans-Serif\" font-size=\"14.00\" fill=\"#000000\">gini = 0.5</text>\n<text text-anchor=\"middle\" x=\"226.5\" y=\"-141.8\" font-family=\"Helvetica,sans-Serif\" font-size=\"14.00\" fill=\"#000000\">samples = 100</text>\n<text text-anchor=\"middle\" x=\"226.5\" y=\"-126.8\" font-family=\"Helvetica,sans-Serif\" font-size=\"14.00\" fill=\"#000000\">value = [0, 50, 50]</text>\n<text text-anchor=\"middle\" x=\"226.5\" y=\"-111.8\" font-family=\"Helvetica,sans-Serif\" font-size=\"14.00\" fill=\"#000000\">class = versicolor</text>\n</g>\n<!-- 0&#45;&gt;2 -->\n<g id=\"edge2\" class=\"edge\">\n<title>0&#45;&gt;2</title>\n<path fill=\"none\" stroke=\"#000000\" d=\"M172.5294,-222.8796C178.6855,-214.0534 185.2451,-204.6485 191.5936,-195.5466\"/>\n<polygon fill=\"#000000\" stroke=\"#000000\" points=\"194.4967,-197.5024 197.3467,-187.2981 188.7552,-193.4978 194.4967,-197.5024\"/>\n<text text-anchor=\"middle\" x=\"201.7331\" y=\"-208.2103\" font-family=\"Helvetica,sans-Serif\" font-size=\"14.00\" fill=\"#000000\">False</text>\n</g>\n<!-- 3 -->\n<g id=\"node4\" class=\"node\">\n<title>3</title>\n<path fill=\"#4de88e\" stroke=\"#000000\" d=\"M206.5,-68C206.5,-68 102.5,-68 102.5,-68 96.5,-68 90.5,-62 90.5,-56 90.5,-56 90.5,-12 90.5,-12 90.5,-6 96.5,0 102.5,0 102.5,0 206.5,0 206.5,0 212.5,0 218.5,-6 218.5,-12 218.5,-12 218.5,-56 218.5,-56 218.5,-62 212.5,-68 206.5,-68\"/>\n<text text-anchor=\"middle\" x=\"154.5\" y=\"-52.8\" font-family=\"Helvetica,sans-Serif\" font-size=\"14.00\" fill=\"#000000\">gini = 0.168</text>\n<text text-anchor=\"middle\" x=\"154.5\" y=\"-37.8\" font-family=\"Helvetica,sans-Serif\" font-size=\"14.00\" fill=\"#000000\">samples = 54</text>\n<text text-anchor=\"middle\" x=\"154.5\" y=\"-22.8\" font-family=\"Helvetica,sans-Serif\" font-size=\"14.00\" fill=\"#000000\">value = [0, 49, 5]</text>\n<text text-anchor=\"middle\" x=\"154.5\" y=\"-7.8\" font-family=\"Helvetica,sans-Serif\" font-size=\"14.00\" fill=\"#000000\">class = versicolor</text>\n</g>\n<!-- 2&#45;&gt;3 -->\n<g id=\"edge3\" class=\"edge\">\n<title>2&#45;&gt;3</title>\n<path fill=\"none\" stroke=\"#000000\" d=\"M199.6899,-103.9815C193.9331,-95.0666 187.8404,-85.6313 182.0559,-76.6734\"/>\n<polygon fill=\"#000000\" stroke=\"#000000\" points=\"184.9904,-74.7658 176.6254,-68.2637 179.1099,-78.5631 184.9904,-74.7658\"/>\n</g>\n<!-- 4 -->\n<g id=\"node5\" class=\"node\">\n<title>4</title>\n<path fill=\"#843de6\" stroke=\"#000000\" d=\"M348,-68C348,-68 249,-68 249,-68 243,-68 237,-62 237,-56 237,-56 237,-12 237,-12 237,-6 243,0 249,0 249,0 348,0 348,0 354,0 360,-6 360,-12 360,-12 360,-56 360,-56 360,-62 354,-68 348,-68\"/>\n<text text-anchor=\"middle\" x=\"298.5\" y=\"-52.8\" font-family=\"Helvetica,sans-Serif\" font-size=\"14.00\" fill=\"#000000\">gini = 0.043</text>\n<text text-anchor=\"middle\" x=\"298.5\" y=\"-37.8\" font-family=\"Helvetica,sans-Serif\" font-size=\"14.00\" fill=\"#000000\">samples = 46</text>\n<text text-anchor=\"middle\" x=\"298.5\" y=\"-22.8\" font-family=\"Helvetica,sans-Serif\" font-size=\"14.00\" fill=\"#000000\">value = [0, 1, 45]</text>\n<text text-anchor=\"middle\" x=\"298.5\" y=\"-7.8\" font-family=\"Helvetica,sans-Serif\" font-size=\"14.00\" fill=\"#000000\">class = virginica</text>\n</g>\n<!-- 2&#45;&gt;4 -->\n<g id=\"edge4\" class=\"edge\">\n<title>2&#45;&gt;4</title>\n<path fill=\"none\" stroke=\"#000000\" d=\"M253.3101,-103.9815C259.0669,-95.0666 265.1596,-85.6313 270.9441,-76.6734\"/>\n<polygon fill=\"#000000\" stroke=\"#000000\" points=\"273.8901,-78.5631 276.3746,-68.2637 268.0096,-74.7658 273.8901,-78.5631\"/>\n</g>\n</g>\n</svg>\n"
          },
          "metadata": {
            "tags": []
          },
          "execution_count": 6
        }
      ]
    }
  ]
}