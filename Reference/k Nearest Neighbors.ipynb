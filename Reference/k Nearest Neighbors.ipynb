{
  "nbformat": 4,
  "nbformat_minor": 0,
  "metadata": {
    "colab": {
      "name": "k_nearest_neighbors.ipynb",
      "provenance": [],
      "collapsed_sections": []
    },
    "kernelspec": {
      "name": "python3",
      "display_name": "Python 3"
    },
    "language_info": {
      "name": "python"
    }
  },
  "cells": [
    {
      "cell_type": "markdown",
      "metadata": {
        "id": "9mxzWG0juqnC"
      },
      "source": [
        "# **Chapter 12. k-Nearest Neighbors**"
      ]
    },
    {
      "cell_type": "markdown",
      "metadata": {
        "id": "1qSNNS0z67w_"
      },
      "source": [
        "* Imagine that you're trying to predict how I'm going to vote in the next presidential election. If you know nothing else about me (and if you have the data), one sensible approach is to look at how my **neighbors** are planning to vote. Living in Seattle, as I do, my neighbors are invariably planning to vote for the Democratic candidate, which suggests that \"Democratic candidate\" is a good guess for me as well.\n",
        "\n",
        "* Now imagine you know more about me than just geography—perhaps you know my\n",
        "age, my income, how many kids I have, and so on. To the extent my behavior is influenced (or characterized) by those things, looking just at my neighbors who are close to me among all those dimensions seems likely to be an even better predictor than looking at all my neighbors. This is the idea behind **nearest neighbors classification**."
      ]
    },
    {
      "cell_type": "markdown",
      "metadata": {
        "id": "RWHNFLR8uzeD"
      },
      "source": [
        "## The Models\n",
        "\n",
        "* The only things it require are:\n",
        ">* Some notion of distance \n",
        ">* An assumption that points that are close to one another are similar\n",
        "\n",
        "* In the general situation, we have some data points and we have a corresponding set of labels. \n",
        ">* The labels could be True and False, indicating whether each input satisfies\n",
        "some condition like \"is spam?\" or \"is poisonous?\" or \"would be enjoyable to watch?\"\n",
        ">* Or they could be categories, like movie ratings (G, PG, PG-13, R, NC-17). Or they could be the names of presidential candidates. \n",
        ">* Or they could be favorite programming languages."
      ]
    },
    {
      "cell_type": "markdown",
      "metadata": {
        "id": "-nsogHE5IsSG"
      },
      "source": [
        "## k-Nearest Neighbors (kNN)\n",
        "\n",
        "![picture](https://drive.google.com/uc?id=1ca5kOOdxxgHanFt_4Eoyiw6sntj7qFOA)"
      ]
    },
    {
      "cell_type": "markdown",
      "metadata": {
        "id": "0vXCu0YNg9tp"
      },
      "source": [
        "* Let's say we've picked a number _k_ like 3 or 5. Then, when we want to classify some new data point, we find the _k_ nearest labeled points and let them vote on the new output."
      ]
    },
    {
      "cell_type": "code",
      "metadata": {
        "id": "558circZ0TsK"
      },
      "source": [
        "from typing import List\n",
        "from collections import Counter\n",
        "\n",
        "def raw_majority_vote(labels: List[str]) -> str:\n",
        "    votes = Counter(labels)\n",
        "    winner, _ = votes.most_common(1)[0]\n",
        "    return winner\n",
        "\n",
        "assert raw_majority_vote(['a', 'b', 'c', 'b']) == 'b'"
      ],
      "execution_count": null,
      "outputs": []
    },
    {
      "cell_type": "markdown",
      "metadata": {
        "id": "cao6E-Kw1wn7"
      },
      "source": [
        "* If there is a tie, we have several options:\n",
        ">* Pick one of the winners at random.\n",
        ">* Weight the votes by distance and pick the weighted winner.\n",
        ">* Reduce _k_ until we find a unique winner.\n",
        "\n",
        "* The implementation of the third option is as follows:"
      ]
    },
    {
      "cell_type": "code",
      "metadata": {
        "id": "siG-eXvw0blS"
      },
      "source": [
        "def majority_vote(labels: List[str]) -> str:\n",
        "    \"\"\"Assumes that labels are ordered from nearest to farthest.\"\"\"\n",
        "    vote_counts = Counter(labels)\n",
        "    winner, winner_count = vote_counts.most_common(1)[0]\n",
        "    num_winners = len([count\n",
        "                       for count in vote_counts.values()\n",
        "                       if count == winner_count])\n",
        "\n",
        "    if num_winners == 1:\n",
        "        return winner                     # unique winner, so return it\n",
        "    else:\n",
        "        return majority_vote(labels[:-1]) # try again without the farthest\n",
        "\n",
        "# Tie, so look at first 4, then 'b'\n",
        "assert majority_vote(['a', 'b', 'c', 'b', 'a']) == 'b'"
      ],
      "execution_count": null,
      "outputs": []
    },
    {
      "cell_type": "markdown",
      "metadata": {
        "id": "yM0V54C94YJN"
      },
      "source": [
        "* With this function it's easy to create a classifier:"
      ]
    },
    {
      "cell_type": "code",
      "metadata": {
        "id": "2F9t3NBc0Yyo"
      },
      "source": [
        "import requests\n",
        "url = 'https://raw.githubusercontent.com/joelgrus/data-science-from-scratch/master/scratch/linear_algebra.py'\n",
        "r = requests.get(url)\n",
        "\n",
        "with open('linear_algebra.py', 'w') as f:\n",
        "    f.write(r.text)\n",
        "\n",
        "from typing import NamedTuple\n",
        "from linear_algebra import Vector, distance\n",
        "\n",
        "class LabeledPoint(NamedTuple):\n",
        "    point: Vector\n",
        "    label: str\n",
        "\n",
        "def knn_classify(k: int,\n",
        "                 labeled_points: List[LabeledPoint],\n",
        "                 new_point: Vector) -> str:\n",
        "\n",
        "    # Order the labeled points from nearest to farthest.\n",
        "    by_distance = sorted(labeled_points,\n",
        "                         key=lambda lp: distance(lp.point, new_point))\n",
        "\n",
        "    # Find the labels for the k closest\n",
        "    k_nearest_labels = [lp.label for lp in by_distance[:k]]\n",
        "\n",
        "    # and let them vote.\n",
        "    return majority_vote(k_nearest_labels)"
      ],
      "execution_count": null,
      "outputs": []
    },
    {
      "cell_type": "markdown",
      "metadata": {
        "id": "GePAVUHNUp1n"
      },
      "source": [
        "## Example: The Iris Dataset\n",
        "\n",
        "![picture](https://archive.ics.uci.edu/ml/assets/MLimages/Large53.jpg)\n",
        "\n",
        "* The **Iris** dataset is a staple of machine learning. It contains a bunch of measurements for 150 flowers representing _three species_ of iris. For each flower we have its _petal length_, _petal width_, _sepal length_, and _sepal width_, as well as its species. You can download it from https://archive.ics.uci.edu/ml/datasets/iris:"
      ]
    },
    {
      "cell_type": "code",
      "metadata": {
        "id": "4rFfB5O2YaXc"
      },
      "source": [
        "import requests\n",
        "url = 'https://archive.ics.uci.edu/ml/machine-learning-databases/iris/iris.data'\n",
        "r = requests.get(url)\n",
        "\n",
        "with open('iris.data', 'w') as f:\n",
        "    f.write(r.text)\n",
        "\n",
        "def parse_iris_row(row: List[str]) -> LabeledPoint:\n",
        "    \"\"\"\n",
        "    sepal_length, sepal_width, petal_length, petal_width, class\n",
        "    \"\"\"\n",
        "    measurements = [float(value) for value in row[:-1]]\n",
        "    # class is e.g. \"Iris-virginica\"; we just want \"virginica\"\n",
        "    label = row[-1].split(\"-\")[-1]\n",
        " \n",
        "    return LabeledPoint(measurements, label)\n",
        "\n",
        "with open('iris.data') as f:\n",
        "    reader = csv.reader(f)\n",
        "    iris_data = [parse_iris_row(row) for row in reader if len(row) > 1]"
      ],
      "execution_count": null,
      "outputs": []
    },
    {
      "cell_type": "markdown",
      "metadata": {
        "id": "5iy_I7wykeow"
      },
      "source": [
        "* We'd like to plot the measurements so we can see how they vary by species. Unfortunately, they are four-dimensional, which makes them tricky to plot. One thing we can do is look at the scatterplots for each of the six pairs of measurements"
      ]
    },
    {
      "cell_type": "code",
      "metadata": {
        "colab": {
          "base_uri": "https://localhost:8080/",
          "height": 265
        },
        "id": "t8v2yO5e5doM",
        "outputId": "5d963c99-46ee-4d68-b424-1978a6050083"
      },
      "source": [
        "from typing import Dict\n",
        "import csv\n",
        "from collections import defaultdict\n",
        "    \n",
        "# We'll also group just the points by species/label so we can plot them.\n",
        "points_by_species: Dict[str, List[Vector]] = defaultdict(list)\n",
        "for iris in iris_data:\n",
        "    points_by_species[iris.label].append(iris.point)\n",
        "    \n",
        "from matplotlib import pyplot as plt\n",
        "metrics = ['sepal length', 'sepal width', 'petal length', 'petal width']\n",
        "pairs = [(i, j) for i in range(4) for j in range(4) if i < j]\n",
        "marks = ['+', '.', 'x']  # we have 3 classes, so 3 markers\n",
        "    \n",
        "fig, ax = plt.subplots(2, 3)\n",
        "    \n",
        "for row in range(2):\n",
        "    for col in range(3):\n",
        "        i, j = pairs[3 * row + col]\n",
        "        ax[row][col].set_title(f\"{metrics[i]} vs {metrics[j]}\", fontsize=8)\n",
        "        ax[row][col].set_xticks([])\n",
        "        ax[row][col].set_yticks([])\n",
        "    \n",
        "        for mark, (species, points) in zip(marks, points_by_species.items()):\n",
        "            xs = [point[i] for point in points]\n",
        "            ys = [point[j] for point in points]\n",
        "            ax[row][col].scatter(xs, ys, marker=mark, label=species)\n",
        "    \n",
        "ax[-1][-1].legend(loc='lower right', prop={'size': 6})\n",
        "plt.show()"
      ],
      "execution_count": null,
      "outputs": [
        {
          "output_type": "display_data",
          "data": {
            "image/png": "[encoded data removed]",
            "text/plain": [
              "<Figure size 432x288 with 6 Axes>"
            ]
          },
          "metadata": {
            "tags": []
          }
        }
      ]
    },
    {
      "cell_type": "markdown",
      "metadata": {
        "id": "F8gIqj0alMHr"
      },
      "source": [
        "* If you look at those plots, it seems like the measurements really do cluster by species. For example, looking at sepal length and sepal width alone, you probably couldn't distinguish between _versicolor_ and _virginica_. But once you add petal length and width into the mix, it seems like you should be able to predict the species based on the nearest neighbors."
      ]
    },
    {
      "cell_type": "markdown",
      "metadata": {
        "id": "c3TKAIwmlYSe"
      },
      "source": [
        "* To start with, let's split the data into a test set and a training set:"
      ]
    },
    {
      "cell_type": "code",
      "metadata": {
        "id": "fs-aSIV7I7kg"
      },
      "source": [
        "import random\n",
        "\n",
        "def random_point(dim: int) -> Vector:\n",
        "    return [random.random() for _ in range(dim)]\n",
        "\n",
        "def random_distances(dim: int, num_pairs: int) -> List[float]:\n",
        "    return [distance(random_point(dim), random_point(dim))\n",
        "            for _ in range(num_pairs)]\n",
        "\n",
        "import requests\n",
        "url = 'https://raw.githubusercontent.com/joelgrus/data-science-from-scratch/master/scratch/machine_learning.py'\n",
        "r = requests.get(url)\n",
        "\n",
        "with open('machine_learning.py', 'w') as f:\n",
        "    f.write(r.text)\n",
        "\n",
        "from machine_learning import split_data\n",
        "\n",
        "random.seed(12)\n",
        "iris_train, iris_test = split_data(iris_data, 0.70)\n",
        "assert len(iris_train) == 0.7 * 150\n",
        "assert len(iris_test) == 0.3 * 150"
      ],
      "execution_count": null,
      "outputs": []
    },
    {
      "cell_type": "markdown",
      "metadata": {
        "id": "tuDMVUezlmfi"
      },
      "source": [
        "* The training set will be the \"neighbors\" that we'll use to classify the points in the test set. \n",
        "* We just need to choose a value for _k_, the number of neighbors who get to vote.\n",
        ">* Too small (think _k_ = 1), and we let outliers have too much influence.\n",
        ">* Too large (think _k_ = 105), and we just predict the most common class in the dataset. \n",
        "* Here we'll just use _k_ = 5:"
      ]
    },
    {
      "cell_type": "code",
      "metadata": {
        "colab": {
          "base_uri": "https://localhost:8080/"
        },
        "id": "tX2d4ZY0L6O1",
        "outputId": "f0889f88-cab1-4f8d-c65d-7c334e2020e8"
      },
      "source": [
        "from typing import Tuple\n",
        "   \n",
        "# track how many times we see (predicted, actual)\n",
        "confusion_matrix: Dict[Tuple[str, str], int] = defaultdict(int)\n",
        "num_correct = 0\n",
        "   \n",
        "for iris in iris_test:\n",
        "    predicted = knn_classify(5, iris_train, iris.point)\n",
        "    actual = iris.label\n",
        "    \n",
        "    if predicted == actual:\n",
        "        num_correct += 1\n",
        "    \n",
        "    confusion_matrix[(predicted, actual)] += 1\n",
        "    \n",
        "pct_correct = num_correct / len(iris_test)\n",
        "print(pct_correct, confusion_matrix)"
      ],
      "execution_count": null,
      "outputs": [
        {
          "output_type": "stream",
          "text": [
            "0.9777777777777777 defaultdict(<class 'int'>, {('setosa', 'setosa'): 13, ('versicolor', 'versicolor'): 15, ('virginica', 'virginica'): 16, ('virginica', 'versicolor'): 1})\n"
          ],
          "name": "stdout"
        }
      ]
    },
    {
      "cell_type": "markdown",
      "metadata": {
        "id": "U5nMtw-vPvYb"
      },
      "source": [
        "## The Dimensionality Curse\n",
        "\n",
        "* The k-nearest neighbors algorithm runs into trouble in higher dimensions thanks to the \"**curse of dimensionality**,\" which boils down to the fact that high-dimensional spaces are **vast**. Points in high-dimensional spaces tend not to be close to one another at all.\n",
        "\n",
        "* One way to see this is by randomly generating pairs of points in the _d_-dimensional unit cube in a variety of dimensions, and calculating the distances between them."
      ]
    },
    {
      "cell_type": "code",
      "metadata": {
        "colab": {
          "base_uri": "https://localhost:8080/"
        },
        "id": "zEK7F6AmL1wF",
        "outputId": "1298c742-273d-4852-9424-43859acf7603"
      },
      "source": [
        "import tqdm\n",
        "dimensions = range(1, 101)\n",
        "    \n",
        "avg_distances = []\n",
        "min_distances = []\n",
        "    \n",
        "random.seed(0)\n",
        "for dim in tqdm.tqdm(dimensions, desc=\"Curse of Dimensionality\"):\n",
        "    distances = random_distances(dim, 10000)      # 10,000 random pairs\n",
        "    avg_distances.append(sum(distances) / 10000)  # track the average\n",
        "    min_distances.append(min(distances))          # track the minimum\n",
        "    \n",
        "min_avg_ratio = [min_dist / avg_dist\n",
        "                 for min_dist, avg_dist in zip(min_distances, avg_distances)]"
      ],
      "execution_count": null,
      "outputs": [
        {
          "output_type": "stream",
          "text": [
            "Curse of Dimensionality: 100%|██████████| 100/100 [00:30<00:00,  3.31it/s]\n"
          ],
          "name": "stderr"
        }
      ]
    },
    {
      "cell_type": "markdown",
      "metadata": {
        "id": "6cu0RZHBuVSe"
      },
      "source": [
        "* As the number of dimensions increases, the average distance between points increases."
      ]
    },
    {
      "cell_type": "code",
      "metadata": {
        "colab": {
          "base_uri": "https://localhost:8080/",
          "height": 265
        },
        "id": "4ZtWASQrOKV5",
        "outputId": "2fa7481c-43dd-4dee-dad0-7500450d6a3a"
      },
      "source": [
        "import matplotlib.pyplot as plt\n",
        "import pandas as pd\n",
        "\n",
        "df = pd.DataFrame({'x_values': dimensions, 'y1_values': avg_distances, 'y2_values': min_distances})\n",
        "\n",
        "plt.plot('x_values', 'y1_values', data=df, marker='', color='blue', linewidth=1, label='average distance')\n",
        "plt.plot('x_values', 'y2_values', data=df, marker='', color='green', linewidth=1, label='minimum distance')\n",
        "\n",
        "plt.legend()\n",
        "plt.show()"
      ],
      "execution_count": null,
      "outputs": [
        {
          "output_type": "display_data",
          "data": {
            "image/png": "[encoded data removed]",
            "text/plain": [
              "<Figure size 432x288 with 1 Axes>"
            ]
          },
          "metadata": {
            "tags": [],
            "needs_background": "light"
          }
        }
      ]
    },
    {
      "cell_type": "markdown",
      "metadata": {
        "id": "FTZe520dubAq"
      },
      "source": [
        "* What's more problematic is the ratio between the closest distance and the\n",
        "average distance.\n",
        "\n",
        "* In low-dimensional datasets, the closest points tend to be much closer than average. But two points are close only if they're close in every dimension, and every extra dimension is another opportunity for each point to be farther away from every other point. When you have a lot of dimensions, it's likely that the\n",
        "closest points are _not_ much closer than average, so two points being close does _not_ mean very much"
      ]
    },
    {
      "cell_type": "code",
      "metadata": {
        "colab": {
          "base_uri": "https://localhost:8080/",
          "height": 265
        },
        "id": "AL2HAy4-T-xL",
        "outputId": "64b8b8a4-dd2e-44ff-be41-b8406a51e41a"
      },
      "source": [
        "import matplotlib.pyplot as plt\n",
        "import pandas as pd\n",
        "\n",
        "df = pd.DataFrame({'x_values': dimensions, 'y_values': min_avg_ratio})\n",
        "\n",
        "plt.plot( 'x_values', 'y_values', data=df, marker='', color='blue', linewidth=1, label='min dist / avg dist')\n",
        "\n",
        "plt.legend()\n",
        "plt.show()"
      ],
      "execution_count": null,
      "outputs": [
        {
          "output_type": "display_data",
          "data": {
            "image/png": "[encoded data removed]",
            "text/plain": [
              "<Figure size 432x288 with 1 Axes>"
            ]
          },
          "metadata": {
            "tags": [],
            "needs_background": "light"
          }
        }
      ]
    },
    {
      "cell_type": "markdown",
      "metadata": {
        "id": "1NVZhXittNWp"
      },
      "source": [
        "* A different way of thinking about the problem involves the sparsity of higherdimensional spaces. \n",
        ">* If you pick 50 random numbers between 0 and 1, you'll probably get a pretty good sample of the unit interval.\n",
        ">* If you pick 50 random points in the unit _square_, you’ll get less coverage\n",
        ">* And in three dimensions, less still.\n",
        "\n",
        "![picture](https://drive.google.com/uc?id=1dAe1Yzyrswyvsm_LkeUuW3FimY_J0_uc)\n"
      ]
    },
    {
      "cell_type": "markdown",
      "metadata": {
        "id": "it55iyXMtrOu"
      },
      "source": [
        "* You can see already that there are starting to be large empty spaces with no points near them.\n",
        "* In more dimensions, those large empty spaces represent regions far from all the points you want to use in your predictions.\n",
        "* So if you're trying to use nearest neighbors in higher dimensions, it's probably a good idea to do some kind of **dimensionality reduction** first."
      ]
    }
  ]
}