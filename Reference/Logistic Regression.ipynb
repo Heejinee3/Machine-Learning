{
  "nbformat": 4,
  "nbformat_minor": 0,
  "metadata": {
    "colab": {
      "name": "logistic_regression.ipynb",
      "provenance": [],
      "collapsed_sections": []
    },
    "kernelspec": {
      "name": "python3",
      "display_name": "Python 3"
    },
    "language_info": {
      "name": "python"
    }
  },
  "cells": [
    {
      "cell_type": "markdown",
      "metadata": {
        "id": "9mxzWG0juqnC"
      },
      "source": [
        "# **Chapter 16. Logistic Regression**"
      ]
    },
    {
      "cell_type": "markdown",
      "metadata": {
        "id": "1qSNNS0z67w_"
      },
      "source": [
        "## The Problem\n",
        "\n",
        "* We have an anonymized dataset of about 200 users, containing each user’s salary, her years of experience as a data scientist, and whether she paid for a premium account. \n",
        "* As is typical with categorical variables, we represent the dependent variable as either 0 (no premium account) or 1 (premium account)."
      ]
    },
    {
      "cell_type": "code",
      "metadata": {
        "id": "O9yjVvTCvxHP"
      },
      "source": [
        "tuples = [(0.7,48000,1),(1.9,48000,0),(2.5,60000,1),(4.2,63000,0),(6,76000,0),(6.5,69000,0),(7.5,76000,0),(8.1,88000,0),(8.7,83000,1),(10,83000,1),(0.8,43000,0),(1.8,60000,0),(10,79000,1),(6.1,76000,0),(1.4,50000,0),(9.1,92000,0),(5.8,75000,0),(5.2,69000,0),(1,56000,0),(6,67000,0),(4.9,74000,0),(6.4,63000,1),(6.2,82000,0),(3.3,58000,0),(9.3,90000,1),(5.5,57000,1),(9.1,102000,0),(2.4,54000,0),(8.2,65000,1),(5.3,82000,0),(9.8,107000,0),(1.8,64000,0),(0.6,46000,1),(0.8,48000,0),(8.6,84000,1),(0.6,45000,0),(0.5,30000,1),(7.3,89000,0),(2.5,48000,1),(5.6,76000,0),(7.4,77000,0),(2.7,56000,0),(0.7,48000,0),(1.2,42000,0),(0.2,32000,1),(4.7,56000,1),(2.8,44000,1),(7.6,78000,0),(1.1,63000,0),(8,79000,1),(2.7,56000,0),(6,52000,1),(4.6,56000,0),(2.5,51000,0),(5.7,71000,0),(2.9,65000,0),(1.1,33000,1),(3,62000,0),(4,71000,0),(2.4,61000,0),(7.5,75000,0),(9.7,81000,1),(3.2,62000,0),(7.9,88000,0),(4.7,44000,1),(2.5,55000,0),(1.6,41000,0),(6.7,64000,1),(6.9,66000,1),(7.9,78000,1),(8.1,102000,0),(5.3,48000,1),(8.5,66000,1),(0.2,56000,0),(6,69000,0),(7.5,77000,0),(8,86000,0),(4.4,68000,0),(4.9,75000,0),(1.5,60000,0),(2.2,50000,0),(3.4,49000,1),(4.2,70000,0),(7.7,98000,0),(8.2,85000,0),(5.4,88000,0),(0.1,46000,0),(1.5,37000,0),(6.3,86000,0),(3.7,57000,0),(8.4,85000,0),(2,42000,0),(5.8,69000,1),(2.7,64000,0),(3.1,63000,0),(1.9,48000,0),(10,72000,1),(0.2,45000,0),(8.6,95000,0),(1.5,64000,0),(9.8,95000,0),(5.3,65000,0),(7.5,80000,0),(9.9,91000,0),(9.7,50000,1),(2.8,68000,0),(3.6,58000,0),(3.9,74000,0),(4.4,76000,0),(2.5,49000,0),(7.2,81000,0),(5.2,60000,1),(2.4,62000,0),(8.9,94000,0),(2.4,63000,0),(6.8,69000,1),(6.5,77000,0),(7,86000,0),(9.4,94000,0),(7.8,72000,1),(0.2,53000,0),(10,97000,0),(5.5,65000,0),(7.7,71000,1),(8.1,66000,1),(9.8,91000,0),(8,84000,0),(2.7,55000,0),(2.8,62000,0),(9.4,79000,0),(2.5,57000,0),(7.4,70000,1),(2.1,47000,0),(5.3,62000,1),(6.3,79000,0),(6.8,58000,1),(5.7,80000,0),(2.2,61000,0),(4.8,62000,0),(3.7,64000,0),(4.1,85000,0),(2.3,51000,0),(3.5,58000,0),(0.9,43000,0),(0.9,54000,0),(4.5,74000,0),(6.5,55000,1),(4.1,41000,1),(7.1,73000,0),(1.1,66000,0),(9.1,81000,1),(8,69000,1),(7.3,72000,1),(3.3,50000,0),(3.9,58000,0),(2.6,49000,0),(1.6,78000,0),(0.7,56000,0),(2.1,36000,1),(7.5,90000,0),(4.8,59000,1),(8.9,95000,0),(6.2,72000,0),(6.3,63000,0),(9.1,100000,0),(7.3,61000,1),(5.6,74000,0),(0.5,66000,0),(1.1,59000,0),(5.1,61000,0),(6.2,70000,0),(6.6,56000,1),(6.3,76000,0),(6.5,78000,0),(5.1,59000,0),(9.5,74000,1),(4.5,64000,0),(2,54000,0),(1,52000,0),(4,69000,0),(6.5,76000,0),(3,60000,0),(4.5,63000,0),(7.8,70000,0),(3.9,60000,1),(0.8,51000,0),(4.2,78000,0),(1.1,54000,0),(6.2,60000,0),(2.9,59000,0),(2.1,52000,0),(8.2,87000,0),(4.8,73000,0),(2.2,42000,1),(9.1,98000,0),(6.5,84000,0),(6.9,73000,0),(5.1,72000,0),(9.1,69000,1),(9.8,79000,1),]\n",
        "data = [list(row) for row in tuples]\n",
        "\n",
        "xs = [[1.0] + row[:2] for row in data]  # [1, experience, salary]\n",
        "ys = [row[2] for row in data]           # paid_account"
      ],
      "execution_count": null,
      "outputs": []
    },
    {
      "cell_type": "markdown",
      "metadata": {
        "id": "RWHNFLR8uzeD"
      },
      "source": [
        "* An obvious first attempt is to use linear regression and find the best model: $$\\text{paid account} = \\beta_0 + \\beta_1\\text{experience} + \\beta_2\\text{salary }+ \\varepsilon$$"
      ]
    },
    {
      "cell_type": "code",
      "metadata": {
        "id": "Ra29XU6G0IdJ",
        "cellView": "form"
      },
      "source": [
        "#@title\n",
        "\n",
        "import requests\n",
        "\n",
        "url = 'https://raw.githubusercontent.com/joelgrus/data-science-from-scratch/master/scratch/linear_algebra.py'\n",
        "r = requests.get(url)\n",
        "\n",
        "with open('linear_algebra.py', 'w') as f:\n",
        "    f.write(r.text)\n",
        "\n",
        "from linear_algebra import Vector, dot, vector_mean, vector_sum, sum_of_squares, distance, add, scalar_multiply\n",
        "\n",
        "url = 'https://raw.githubusercontent.com/joelgrus/data-science-from-scratch/master/scratch/machine_learning.py'\n",
        "r = requests.get(url)\n",
        "\n",
        "with open('machine_learning.py', 'w') as f:\n",
        "    f.write(r.text)\n",
        "\n",
        "from machine_learning import train_test_split\n",
        "\n",
        "import math\n",
        "import random\n",
        "import tqdm\n",
        "\n",
        "from typing import List, Tuple\n",
        "\n",
        "def mean(xs: List[float]) -> float:\n",
        "    return sum(xs) / len(xs)\n",
        "\n",
        "def de_mean(xs: List[float]) -> List[float]:\n",
        "    \"\"\"Translate xs by subtracting its mean (so the result has mean 0)\"\"\"\n",
        "    x_bar = mean(xs)\n",
        "    return [x - x_bar for x in xs]\n",
        "\n",
        "def variance(xs: List[float]) -> float:\n",
        "    \"\"\"Almost the average squared deviation from the mean\"\"\"\n",
        "    assert len(xs) >= 2, \"variance requires at least two elements\"\n",
        "    n = len(xs)\n",
        "    deviations = de_mean(xs)\n",
        "    return sum_of_squares(deviations) / (n - 1)\n",
        "\n",
        "def standard_deviation(xs: List[float]) -> float:\n",
        "    \"\"\"The standard deviation is the square root of the variance\"\"\"\n",
        "    return math.sqrt(variance(xs))\n",
        "\n",
        "def scale(data: List[Vector]) -> Tuple[Vector, Vector]:\n",
        "    \"\"\"returns the means and standard deviations for each position\"\"\"\n",
        "    dim = len(data[0])\n",
        "\n",
        "    means = vector_mean(data)\n",
        "    stdevs = [standard_deviation([vector[i] for vector in data])\n",
        "              for i in range(dim)]\n",
        "\n",
        "    return means, stdevs\n",
        "\n",
        "def rescale(data: List[Vector]) -> List[Vector]:\n",
        "    \"\"\"\n",
        "    Rescales the input data so that each position has\n",
        "    mean 0 and standard deviation 1. (Leaves a position\n",
        "    as is if its standard deviation is 0.)\n",
        "    \"\"\"\n",
        "    dim = len(data[0])\n",
        "    means, stdevs = scale(data)\n",
        "\n",
        "    # Make a copy of each vector\n",
        "    rescaled = [v[:] for v in data]\n",
        "\n",
        "    for v in rescaled:\n",
        "        for i in range(dim):\n",
        "            if stdevs[i] > 0:\n",
        "                v[i] = (v[i] - means[i]) / stdevs[i]\n",
        "\n",
        "    return rescaled\n",
        "\n",
        "def gradient_step(v: Vector, gradient: Vector, step_size: float) -> Vector:\n",
        "    \"\"\"Moves `step_size` in the `gradient` direction from `v`\"\"\"\n",
        "    assert len(v) == len(gradient)\n",
        "    step = scalar_multiply(step_size, gradient)\n",
        "    return add(v, step)\n",
        "\n",
        "def least_squares_fit(xs: List[Vector],\n",
        "                      ys: List[float],\n",
        "                      learning_rate: float = 0.001,\n",
        "                      num_steps: int = 1000,\n",
        "                      batch_size: int = 1) -> Vector:\n",
        "    \"\"\"\n",
        "    Find the beta that minimizes the sum of squared errors\n",
        "    assuming the model y = dot(x, beta).\n",
        "    \"\"\"\n",
        "    # Start with a random guess\n",
        "    guess = [random.random() for _ in xs[0]]\n",
        "\n",
        "    for _ in tqdm.trange(num_steps, desc=\"least squares fit\"):\n",
        "        for start in range(0, len(xs), batch_size):\n",
        "            batch_xs = xs[start:start+batch_size]\n",
        "            batch_ys = ys[start:start+batch_size]\n",
        "\n",
        "            gradient = vector_mean([sqerror_gradient(x, y, guess)\n",
        "                                    for x, y in zip(batch_xs, batch_ys)])\n",
        "            guess = gradient_step(guess, gradient, -learning_rate)\n",
        "\n",
        "    return guess\n",
        "\n",
        "def predict(x: Vector, beta: Vector) -> float:\n",
        "    \"\"\"assumes that the first element of x is 1\"\"\"\n",
        "    return dot(x, beta)\n",
        "    \n",
        "def error(x: Vector, y: float, beta: Vector) -> float:\n",
        "    return predict(x, beta) - y\n",
        "\n",
        "def squared_error(x: Vector, y: float, beta: Vector) -> float:\n",
        "    return error(x, y, beta) ** 2\n",
        "\n",
        "def sqerror_gradient(x: Vector, y: float, beta: Vector) -> Vector:\n",
        "    err = error(x, y, beta)\n",
        "    return [2 * err * x_i for x_i in x]"
      ],
      "execution_count": null,
      "outputs": []
    },
    {
      "cell_type": "code",
      "metadata": {
        "colab": {
          "base_uri": "https://localhost:8080/",
          "height": 295
        },
        "id": "oMLHqhr_fTuI",
        "outputId": "f49d5ebb-00a2-403e-8e57-48a2816ad06c"
      },
      "source": [
        "from matplotlib import pyplot as plt\n",
        "\n",
        "paidx = [row[0] for row in data if row[2] == 0]\n",
        "paidy = [row[1] for row in data if row[2] == 0]\n",
        "unpaidx = [row[0] for row in data if row[2] == 1]\n",
        "unpaidy = [row[1] for row in data if row[2] == 1]\n",
        "\n",
        "plt.scatter(paidx, paidy, c='b')\n",
        "plt.scatter(unpaidx, unpaidy, c='c')\n",
        "plt.xlabel('years experience')\n",
        "plt.ylabel('annual salary')\n",
        "plt.title('Paid and Unpaid Users')\n",
        "plt.legend(['paid', 'unpaid'])\n",
        "plt.show()"
      ],
      "execution_count": null,
      "outputs": [
        {
          "output_type": "display_data",
          "data": {
            "image/png": "[encoded data removed]",
            "text/plain": [
              "<Figure size 432x288 with 1 Axes>"
            ]
          },
          "metadata": {
            "tags": [],
            "needs_background": "light"
          }
        }
      ]
    },
    {
      "cell_type": "code",
      "metadata": {
        "colab": {
          "base_uri": "https://localhost:8080/",
          "height": 296
        },
        "id": "6U4kalVe21Ob",
        "outputId": "61847418-1f37-4f85-f82d-d0f235382ffe"
      },
      "source": [
        "from matplotlib import pyplot as plt\n",
        "\n",
        "learning_rate = 0.001\n",
        "rescaled_xs = rescale(xs)\n",
        "beta = least_squares_fit(rescaled_xs, ys, learning_rate, 1000, 1)\n",
        "# [0.26, 0.43, -0.43]\n",
        "predictions = [predict(x_i, beta) for x_i in rescaled_xs]\n",
        "    \n",
        "plt.scatter(predictions, ys)\n",
        "plt.xlabel(\"predicted\")\n",
        "plt.ylabel(\"actual\")\n",
        "plt.show()"
      ],
      "execution_count": null,
      "outputs": [
        {
          "output_type": "stream",
          "text": [
            "least squares fit: 100%|██████████| 1000/1000 [00:01<00:00, 515.27it/s]\n"
          ],
          "name": "stderr"
        },
        {
          "output_type": "display_data",
          "data": {
            "image/png": "[encoded data removed]",
            "text/plain": [
              "<Figure size 432x288 with 1 Axes>"
            ]
          },
          "metadata": {
            "tags": [],
            "needs_background": "light"
          }
        }
      ]
    },
    {
      "cell_type": "markdown",
      "metadata": {
        "id": "LWNYr90zjzqJ"
      },
      "source": [
        "* We'd like for our predicted outputs to be 0 or 1, to indicate class membership. But the outputs of the linear model can be huge positive numbers or even negative numbers, which it's not clear how to interpret.\n",
        "* The linear regression model assumed that the errors were uncorrelated with the\n",
        "columns of _x_. But here, the regression coefficient for experience is 0.43, indicating that more experience leads to a greater likelihood of a premium account. This means that our model outputs very large values for people with lots of experience.  But we know that the actual values must be at most 1, which means that necessarily very large outputs (and therefore very large values of experience) correspond to very large negative values of the error term. Because this is the case, our estimate of `beta` is biased."
      ]
    },
    {
      "cell_type": "markdown",
      "metadata": {
        "id": "oQ3bLWxtCcCB"
      },
      "source": [
        "# The Logistic Function\n",
        "\n",
        "* In the case of logistic regression, we use the logistic function, pictured as follows:"
      ]
    },
    {
      "cell_type": "code",
      "metadata": {
        "colab": {
          "base_uri": "https://localhost:8080/",
          "height": 281
        },
        "id": "kted-nk4nnS8",
        "outputId": "e5923cc1-5cfb-4f25-a637-12c8adc3acb9"
      },
      "source": [
        "def logistic(x: float) -> float:\n",
        "    return 1.0 / (1 + math.exp(-x))\n",
        "\n",
        "import numpy as np\n",
        "\n",
        "X = np.linspace(-10, 10, 300)\n",
        "Y = [logistic(x) for x in X]\n",
        "\n",
        "plt.plot(X, Y, linewidth=1)\n",
        "plt.title('logistic function')\n",
        "plt.show()"
      ],
      "execution_count": null,
      "outputs": [
        {
          "output_type": "display_data",
          "data": {
            "image/png": "[encoded data removed]",
            "text/plain": [
              "<Figure size 432x288 with 1 Axes>"
            ]
          },
          "metadata": {
            "tags": [],
            "needs_background": "light"
          }
        }
      ]
    },
    {
      "cell_type": "markdown",
      "metadata": {
        "id": "voKftVManxK6"
      },
      "source": [
        "* Its derivative is given as follows:"
      ]
    },
    {
      "cell_type": "code",
      "metadata": {
        "id": "i8H0cCZYnxxL"
      },
      "source": [
        "def logistic_prime(x: float) -> float:\n",
        "    y = logistic(x)\n",
        "    return y * (1 - y)"
      ],
      "execution_count": null,
      "outputs": []
    },
    {
      "cell_type": "markdown",
      "metadata": {
        "id": "MzwrXhU4oxVo"
      },
      "source": [
        "* We will use this to fit a model:\n",
        "$$y_i = f(x_i \\beta) + \\varepsilon_i$$\n",
        "where $f$ is the **logistic** function.\n",
        "\n",
        "* Recall that for linear regression we fit the model by minimizing the sum of squared errors, which ended up choosing the $\\beta$ that maximized the likelihood of the data.\n",
        "\n",
        "* Given some $\\beta$, our model says that each $y_i$ should equal $1$ with probability $f(x_i\\beta)$ and $0$ with probability $1 − f(x_i\\beta)$.\n",
        "\n",
        "* In particular, the PDF for $y_i$ can be written as:\n",
        "$$p(y_i|x_i,\\beta) = f(x_i \\beta)^{y_i}(1 − f(x_i\\beta))^{1 − y_i}$$\n",
        "since if $y_i$ is 0, this equals:\n",
        "$$1 − f(x_i\\beta)$$\n",
        "and if $y_i$ is 1, it equals:\n",
        "$$f(x_i\\beta)$$\n",
        "\n",
        "* It turns out that it's actually simpler to maximize the **log likelihood**:\n",
        "$$\\log L(\\beta | x_i, y_i) = y_i \\log f(x_i\\beta) + (1 − y_i)\\log(1 − f(x_i\\beta))$$\n",
        "Because log is a strictly increasing function, any beta that maximizes the log likelihood also maximizes the likelihood, and vice versa. Because gradient descent minimizes things, we'll actually work with the _negative_ log likelihood, since maximizing the likelihood is the same as minimizing its negative:"
      ]
    },
    {
      "cell_type": "markdown",
      "metadata": {
        "id": "XQZaKmzpuFbw"
      },
      "source": [
        "* If we assume different data points are independent from one another, the overall likelihood is just the product of the individual likelihoods. That means the overall log likelihood is the sum of the individual log likelihoods:"
      ]
    },
    {
      "cell_type": "code",
      "metadata": {
        "id": "xP1m8RxXvM5I"
      },
      "source": [
        "import math\n",
        "\n",
        "def _negative_log_likelihood(x: Vector, y: float, beta: Vector) -> float:\n",
        "    \"\"\"The negative log likelihood for one data point\"\"\"\n",
        "    if y == 1:\n",
        "        return -math.log(logistic(dot(x, beta)))\n",
        "    else:\n",
        "        return -math.log(1 - logistic(dot(x, beta)))\n",
        "\n",
        "def negative_log_likelihood(xs: List[Vector],\n",
        "                            ys: List[float],\n",
        "                            beta: Vector) -> float:\n",
        "    return sum(_negative_log_likelihood(x, y, beta)\n",
        "               for x, y in zip(xs, ys))"
      ],
      "execution_count": null,
      "outputs": []
    },
    {
      "cell_type": "markdown",
      "metadata": {
        "id": "NdIIwFX_vNQE"
      },
      "source": [
        "* A little bit of calculus gives us the gradient:"
      ]
    },
    {
      "cell_type": "code",
      "metadata": {
        "id": "6M-WqDvmwqAv"
      },
      "source": [
        "def _negative_log_partial_j(x: Vector, y: float, beta: Vector, j: int) -> float:\n",
        "    \"\"\"\n",
        "    The j-th partial derivative for one data pont\n",
        "    here i is the index of the data point\n",
        "    \"\"\"\n",
        "    return -(y - logistic(dot(x, beta))) * x[j]\n",
        "\n",
        "def _negative_log_gradient(x: Vector, y: float, beta: Vector) -> Vector:\n",
        "    \"\"\"\n",
        "    The gradient for one data point\n",
        "    \"\"\"\n",
        "    return [_negative_log_partial_j(x, y, beta, j)\n",
        "            for j in range(len(beta))]\n",
        "\n",
        "def negative_log_gradient(xs: List[Vector],\n",
        "                          ys: List[float],\n",
        "                          beta: Vector) -> Vector:\n",
        "    return vector_sum([_negative_log_gradient(x, y, beta)\n",
        "                       for x, y in zip(xs, ys)])"
      ],
      "execution_count": null,
      "outputs": []
    },
    {
      "cell_type": "markdown",
      "metadata": {
        "id": "DTUrhhTNvWgg"
      },
      "source": [
        "# Applying the Model"
      ]
    },
    {
      "cell_type": "code",
      "metadata": {
        "colab": {
          "base_uri": "https://localhost:8080/"
        },
        "id": "5wpBJPMtlRbb",
        "outputId": "27aa2ca7-787f-4860-cfdc-ddca6bce6f0e"
      },
      "source": [
        "random.seed(0)\n",
        "x_train, x_test, y_train, y_test = train_test_split(rescaled_xs, ys, 0.33)\n",
        "    \n",
        "learning_rate = 0.01\n",
        "    \n",
        "# pick a random starting point\n",
        "beta = [random.random() for _ in range(3)]\n",
        "    \n",
        "with tqdm.trange(5000) as t:\n",
        "    for epoch in t:\n",
        "        gradient = negative_log_gradient(x_train, y_train, beta)\n",
        "        beta = gradient_step(beta, gradient, -learning_rate)\n",
        "        loss = negative_log_likelihood(x_train, y_train, beta)\n",
        "        t.set_description(f\"loss: {loss:.3f} beta: {beta}\")\n",
        "    \n",
        "means, stdevs = scale(xs)\n",
        "beta_unscaled = [(beta[0]\n",
        "                  - beta[1] * means[1] / stdevs[1]\n",
        "                  - beta[2] * means[2] / stdevs[2]),\n",
        "                  beta[1] / stdevs[1],\n",
        "                  beta[2] / stdevs[2]]\n",
        "# [8.9, 1.6, -0.000288]\n",
        "            \n",
        "assert (negative_log_likelihood(xs, ys, beta_unscaled) ==\n",
        "        negative_log_likelihood(rescaled_xs, ys, beta))"
      ],
      "execution_count": null,
      "outputs": [
        {
          "output_type": "stream",
          "text": [
            "loss: 39.963 beta: [-2.0239032476251424, 4.693047853942649, -4.469811321910748]: 100%|██████████| 5000/5000 [00:26<00:00, 190.20it/s]\n"
          ],
          "name": "stderr"
        }
      ]
    },
    {
      "cell_type": "markdown",
      "metadata": {
        "id": "siJBxyN5JtBg"
      },
      "source": [
        "* What we can say is that—all else being equal—people with more experience are more likely to pay for accounts. And that—all else being equal—people with higher salaries are less likely to pay for accounts. (This was also somewhat apparent when we plotted the data.)"
      ]
    },
    {
      "cell_type": "code",
      "metadata": {
        "colab": {
          "base_uri": "https://localhost:8080/",
          "height": 312
        },
        "id": "_HzXdikgJ6oQ",
        "outputId": "f1f0b43f-510f-4d7c-dab5-23c3cc7ed55a"
      },
      "source": [
        "true_positives = false_positives = true_negatives = false_negatives = 0\n",
        "    \n",
        "for x_i, y_i in zip(x_test, y_test):\n",
        "    prediction = logistic(dot(beta, x_i))\n",
        "    \n",
        "    if y_i == 1 and prediction >= 0.5:  # TP: paid and we predict paid\n",
        "        true_positives += 1\n",
        "    elif y_i == 1:                      # FN: paid and we predict unpaid\n",
        "        false_negatives += 1\n",
        "    elif prediction >= 0.5:             # FP: unpaid and we predict paid\n",
        "        false_positives += 1\n",
        "    else:                               # TN: unpaid and we predict unpaid\n",
        "        true_negatives += 1\n",
        "    \n",
        "precision = true_positives / (true_positives + false_positives)\n",
        "recall = true_positives / (true_positives + false_negatives)\n",
        "            \n",
        "print(precision, recall)\n",
        "    \n",
        "assert precision == 0.75\n",
        "assert recall == 0.8\n",
        "    \n",
        "predictions = [logistic(dot(beta, x_i)) for x_i in x_test]\n",
        "plt.scatter(predictions, y_test, marker='+')\n",
        "plt.xlabel(\"predicted probability\")\n",
        "plt.ylabel(\"actual outcome\")\n",
        "plt.title(\"Logistic Regression Predicted vs. Actual\")\n",
        "plt.show()"
      ],
      "execution_count": null,
      "outputs": [
        {
          "output_type": "stream",
          "text": [
            "0.75 0.8\n"
          ],
          "name": "stdout"
        },
        {
          "output_type": "display_data",
          "data": {
            "image/png": "[encoded data removed]",
            "text/plain": [
              "<Figure size 432x288 with 1 Axes>"
            ]
          },
          "metadata": {
            "tags": [],
            "needs_background": "light"
          }
        }
      ]
    },
    {
      "cell_type": "markdown",
      "metadata": {
        "id": "K6ny2WbDKP4W"
      },
      "source": [
        "* This gives a precision of 75% (\"when we predict paid account we're right 75% of the time\") and a recall of 80% (\"when a user has a paid account we predict paid account 80% of the time\"), which is not terrible considering how little data we have."
      ]
    },
    {
      "cell_type": "markdown",
      "metadata": {
        "id": "oimnsD4VpCfz"
      },
      "source": [
        "## Support Vector Machines"
      ]
    },
    {
      "cell_type": "markdown",
      "metadata": {
        "id": "KpxBjSw0Mb7a"
      },
      "source": [
        "* An alternative approach to classification is to just look for the hyperplane that \"**best**\" separates the classes in the training data. This is the idea behind the **support vector machine**, which finds the hyperplane that maximizes the distance to the nearest point in each class.\n",
        "\n",
        "![picture](https://drive.google.com/uc?id=1wW1lehK7N5VKnCxZD_WqmdpZ9YrWf6WI)"
      ]
    },
    {
      "cell_type": "markdown",
      "metadata": {
        "id": "0hoXvyAiNfMq"
      },
      "source": [
        "* We can sometimes get around this by transforming the data into a higher-dimensional space. For example, consider the simple one-dimensional dataset shown in:\n",
        "\n",
        "![picture](https://drive.google.com/uc?id=1q6GrspVfFDYMV4cGvBPJPi4E7wfvnPLJ)\n",
        "\n",
        "* It's clear that there's no hyperplane that separates the positive examples from the negative ones. However, look at what happens when we map this dataset to two dimensions by sending the point $x$ to $(x, x^2)$. Suddenly it’s possible to find a hyperplane that splits the data."
      ]
    },
    {
      "cell_type": "markdown",
      "metadata": {
        "id": "8WImgQGZNhZh"
      },
      "source": [
        "* This is usually called the **kernel trick** because rather than actually mapping the points into the higher-dimensional space (which could be expensive if there are a lot of points and the mapping is complicated), we can use a \"kernel\" function to compute dot products in the higher-dimensional space and use those to find a hyperplane.\n",
        "\n",
        "![picture](https://drive.google.com/uc?id=18AwzI8-YbLhGqOwcvaFfCiTjO4NCOUBn)"
      ]
    },
    {
      "cell_type": "code",
      "metadata": {
        "colab": {
          "base_uri": "https://localhost:8080/",
          "height": 332
        },
        "id": "bli9KT-ONh56",
        "outputId": "68e432f2-c49c-4fe7-fa55-490ac8b28b46"
      },
      "source": [
        "import numpy as np\n",
        "import matplotlib.pyplot as plt\n",
        "from sklearn import svm, datasets\n",
        "\n",
        "# import some data to play with\n",
        "iris = datasets.load_iris()\n",
        "X = iris.data[:, :2]  # we only take the first two features. We could\n",
        "                      # avoid this ugly slicing by using a two-dim dataset\n",
        "y = iris.target\n",
        "\n",
        "h = .02  # step size in the mesh\n",
        "\n",
        "# we create an instance of SVM and fit out data. We do not scale our\n",
        "# data since we want to plot the support vectors\n",
        "C = 1.0  # SVM regularization parameter\n",
        "svc = svm.SVC(kernel='linear', C=C).fit(X, y)\n",
        "rbf_svc = svm.SVC(kernel='rbf', gamma=0.7, C=C).fit(X, y)\n",
        "poly_svc = svm.SVC(kernel='poly', degree=3, C=C).fit(X, y)\n",
        "lin_svc = svm.LinearSVC(C=C).fit(X, y)\n",
        "\n",
        "# create a mesh to plot in\n",
        "x_min, x_max = X[:, 0].min() - 1, X[:, 0].max() + 1\n",
        "y_min, y_max = X[:, 1].min() - 1, X[:, 1].max() + 1\n",
        "xx, yy = np.meshgrid(np.arange(x_min, x_max, h),\n",
        "                     np.arange(y_min, y_max, h))\n",
        "\n",
        "# title for the plots\n",
        "titles = ['SVC with linear kernel',\n",
        "          'LinearSVC (linear kernel)',\n",
        "          'SVC with RBF kernel',\n",
        "          'SVC with polynomial (degree 3) kernel']\n",
        "\n",
        "\n",
        "for i, clf in enumerate((svc, lin_svc, rbf_svc, poly_svc)):\n",
        "    # Plot the decision boundary. For that, we will assign a color to each\n",
        "    # point in the mesh [x_min, x_max]x[y_min, y_max].\n",
        "    plt.subplot(2, 2, i + 1)\n",
        "    plt.subplots_adjust(wspace=0.4, hspace=0.4)\n",
        "\n",
        "    Z = clf.predict(np.c_[xx.ravel(), yy.ravel()])\n",
        "\n",
        "    # Put the result into a color plot\n",
        "    Z = Z.reshape(xx.shape)\n",
        "    plt.contourf(xx, yy, Z, cmap=plt.cm.coolwarm, alpha=0.8)\n",
        "\n",
        "    # Plot also the training points\n",
        "    plt.scatter(X[:, 0], X[:, 1], c=y, cmap=plt.cm.coolwarm)\n",
        "    plt.xlabel('Sepal length')\n",
        "    plt.ylabel('Sepal width')\n",
        "    plt.xlim(xx.min(), xx.max())\n",
        "    plt.ylim(yy.min(), yy.max())\n",
        "    plt.xticks(())\n",
        "    plt.yticks(())\n",
        "    plt.title(titles[i])\n",
        "\n",
        "plt.show()"
      ],
      "execution_count": null,
      "outputs": [
        {
          "output_type": "stream",
          "text": [
            "/usr/local/lib/python3.7/dist-packages/sklearn/svm/_base.py:947: ConvergenceWarning: Liblinear failed to converge, increase the number of iterations.\n",
            "  \"the number of iterations.\", ConvergenceWarning)\n"
          ],
          "name": "stderr"
        },
        {
          "output_type": "display_data",
          "data": {
            "image/png": "[encoded data removed]",
            "text/plain": [
              "<Figure size 432x288 with 4 Axes>"
            ]
          },
          "metadata": {
            "tags": []
          }
        }
      ]
    },
    {
      "cell_type": "markdown",
      "metadata": {
        "id": "UQ6iA-pAZVDe"
      },
      "source": [
        "Refer to the [LIBSVM](https://www.csie.ntu.edu.tw/~cjlin/libsvm/) site."
      ]
    }
  ]
}